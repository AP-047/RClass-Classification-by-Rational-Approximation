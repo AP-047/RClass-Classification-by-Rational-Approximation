{
  "nbformat": 4,
  "nbformat_minor": 0,
  "metadata": {
    "colab": {
      "provenance": [],
      "machine_shape": "hm",
      "gpuType": "T4",
      "authorship_tag": "ABX9TyOr/4uXRQaXyuR1zWrYE0RV",
      "include_colab_link": true
    },
    "kernelspec": {
      "name": "python3",
      "display_name": "Python 3"
    },
    "language_info": {
      "name": "python"
    },
    "accelerator": "GPU"
  },
  "cells": [
    {
      "cell_type": "markdown",
      "metadata": {
        "id": "view-in-github",
        "colab_type": "text"
      },
      "source": [
        "<a href=\"https://colab.research.google.com/github/AP-047/RClass-Classification-by-Rational-Approximation/blob/main/notebooks/1D_optimization.ipynb\" target=\"_parent\"><img src=\"https://colab.research.google.com/assets/colab-badge.svg\" alt=\"Open In Colab\"/></a>"
      ]
    },
    {
      "cell_type": "markdown",
      "source": [
        "**GPU Set-up**"
      ],
      "metadata": {
        "id": "AYsLi3Gtl-zB"
      }
    },
    {
      "cell_type": "code",
      "source": [
        "!nvcc --version"
      ],
      "metadata": {
        "colab": {
          "base_uri": "https://localhost:8080/"
        },
        "id": "rF851EimmCPp",
        "outputId": "f7e73e7a-d062-4f29-c690-724620b2974b"
      },
      "execution_count": 1,
      "outputs": [
        {
          "output_type": "stream",
          "name": "stdout",
          "text": [
            "nvcc: NVIDIA (R) Cuda compiler driver\n",
            "Copyright (c) 2005-2023 NVIDIA Corporation\n",
            "Built on Tue_Aug_15_22:02:13_PDT_2023\n",
            "Cuda compilation tools, release 12.2, V12.2.140\n",
            "Build cuda_12.2.r12.2/compiler.33191640_0\n"
          ]
        }
      ]
    },
    {
      "cell_type": "markdown",
      "source": [
        "**Set Locale to UTF-8**"
      ],
      "metadata": {
        "id": "QtJFlQ6msDNA"
      }
    },
    {
      "cell_type": "code",
      "source": [
        "!apt-get install -y locales\n",
        "!locale-gen en_US.UTF-8\n",
        "!update-locale LANG=en_US.UTF-8"
      ],
      "metadata": {
        "colab": {
          "base_uri": "https://localhost:8080/"
        },
        "id": "7yL1fUoNsHTF",
        "outputId": "1bde8194-3319-48c6-e8b6-8cb4808424c6"
      },
      "execution_count": 2,
      "outputs": [
        {
          "output_type": "stream",
          "name": "stdout",
          "text": [
            "Reading package lists... Done\n",
            "Building dependency tree... Done\n",
            "Reading state information... Done\n",
            "locales is already the newest version (2.35-0ubuntu3.8).\n",
            "0 upgraded, 0 newly installed, 0 to remove and 49 not upgraded.\n",
            "Generating locales (this might take a while)...\n",
            "  en_US.UTF-8... done\n",
            "Generation complete.\n"
          ]
        }
      ]
    },
    {
      "cell_type": "markdown",
      "source": [
        "**Upgrade setuptools and pip**"
      ],
      "metadata": {
        "id": "73olbnfKsh6z"
      }
    },
    {
      "cell_type": "code",
      "source": [
        "!pip install -U setuptools pip"
      ],
      "metadata": {
        "colab": {
          "base_uri": "https://localhost:8080/"
        },
        "id": "nrssNkkSp-kq",
        "outputId": "882b7835-2518-4913-e54b-f8917286c77c"
      },
      "execution_count": 3,
      "outputs": [
        {
          "output_type": "stream",
          "name": "stdout",
          "text": [
            "Requirement already satisfied: setuptools in /usr/local/lib/python3.10/dist-packages (75.6.0)\n",
            "Requirement already satisfied: pip in /usr/local/lib/python3.10/dist-packages (24.3.1)\n"
          ]
        }
      ]
    },
    {
      "cell_type": "markdown",
      "source": [
        "**Install CuPy for CUDA 12.2**"
      ],
      "metadata": {
        "id": "lLZBKmvPs2nO"
      }
    },
    {
      "cell_type": "code",
      "source": [
        "!pip install cupy-cuda12x"
      ],
      "metadata": {
        "colab": {
          "base_uri": "https://localhost:8080/"
        },
        "id": "QWmDc0qOryCr",
        "outputId": "d808f9da-00e0-4346-eec1-38ad1edbe6a0"
      },
      "execution_count": 4,
      "outputs": [
        {
          "output_type": "stream",
          "name": "stdout",
          "text": [
            "Requirement already satisfied: cupy-cuda12x in /usr/local/lib/python3.10/dist-packages (12.2.0)\n",
            "Requirement already satisfied: numpy<1.27,>=1.20 in /usr/local/lib/python3.10/dist-packages (from cupy-cuda12x) (1.26.4)\n",
            "Requirement already satisfied: fastrlock>=0.5 in /usr/local/lib/python3.10/dist-packages (from cupy-cuda12x) (0.8.2)\n"
          ]
        }
      ]
    },
    {
      "cell_type": "markdown",
      "source": [
        "**Sample code to check GPU usage**"
      ],
      "metadata": {
        "id": "F1g8zqT6x7So"
      }
    },
    {
      "cell_type": "code",
      "source": [
        "import cupy as cp\n",
        "\n",
        "# Check initial GPU memory usage\n",
        "mempool = cp.get_default_memory_pool()\n",
        "print(\"Initial GPU memory usage (bytes):\", mempool.used_bytes())\n",
        "\n",
        "# Create a large CuPy array on the GPU\n",
        "size = 10**7  # Adjust size as needed to stress GPU\n",
        "x = cp.random.random(size, dtype=cp.float32)\n",
        "\n",
        "# Perform some GPU operations\n",
        "y = x ** 9999999  # Square the elements\n",
        "z = y.sum()  # Sum the elements\n",
        "\n",
        "# Sync to ensure GPU computations are complete\n",
        "cp.cuda.Device().synchronize()\n",
        "\n",
        "# Check GPU memory usage after operations\n",
        "print(\"Used GPU memory after computations (bytes):\", mempool.used_bytes())\n",
        "\n",
        "# Output the result of computation\n",
        "print(\"Sum of squares:\", z.get())  # Transfer result to CPU (NumPy)"
      ],
      "metadata": {
        "colab": {
          "base_uri": "https://localhost:8080/"
        },
        "id": "PSSTw-Qqx-m2",
        "outputId": "818290b5-fffe-435c-bfed-3d77005ce735"
      },
      "execution_count": 5,
      "outputs": [
        {
          "output_type": "stream",
          "name": "stdout",
          "text": [
            "Initial GPU memory usage (bytes): 0\n",
            "Used GPU memory after computations (bytes): 120000512\n",
            "Sum of squares: 0.01725622091216212\n"
          ]
        }
      ]
    },
    {
      "cell_type": "markdown",
      "source": [
        "**Test cuda**"
      ],
      "metadata": {
        "id": "rr--fXL9pWea"
      }
    },
    {
      "cell_type": "code",
      "source": [
        "import cupy as cp\n",
        "\n",
        "# Check GPU memory usage\n",
        "mempool = cp.get_default_memory_pool()\n",
        "print(\"Used memory (bytes):\", mempool.used_bytes())"
      ],
      "metadata": {
        "colab": {
          "base_uri": "https://localhost:8080/"
        },
        "id": "MaEB3Rt5wORO",
        "outputId": "6f4a4209-011b-402f-9ec0-a5e303bce10c"
      },
      "execution_count": 6,
      "outputs": [
        {
          "output_type": "stream",
          "name": "stdout",
          "text": [
            "Used memory (bytes): 120000512\n"
          ]
        }
      ]
    },
    {
      "cell_type": "markdown",
      "source": [
        "**Check GPU memory usage dynamically**"
      ],
      "metadata": {
        "id": "mL9f05jO1RNp"
      }
    },
    {
      "cell_type": "code",
      "source": [
        "import cupy as cp\n",
        "\n",
        "# Allocate a large array\n",
        "x = cp.random.random((10**8,), dtype=cp.float32)  # Large array to stress GPU\n",
        "\n",
        "# Check GPU memory usage\n",
        "mempool = cp.get_default_memory_pool()\n",
        "print(\"Used GPU memory (bytes):\", mempool.used_bytes())\n",
        "\n",
        "# Perform computations\n",
        "y = x ** 2\n",
        "z = cp.sum(y)\n",
        "\n",
        "# Sync and check memory usage again\n",
        "cp.cuda.Device().synchronize()\n",
        "print(\"Used GPU memory after computations (bytes):\", mempool.used_bytes())"
      ],
      "metadata": {
        "colab": {
          "base_uri": "https://localhost:8080/"
        },
        "id": "7Q1rOLVv1WUr",
        "outputId": "b3008b2d-f76c-499a-92e0-86b4ccbd1c1c"
      },
      "execution_count": 7,
      "outputs": [
        {
          "output_type": "stream",
          "name": "stdout",
          "text": [
            "Used GPU memory (bytes): 520000512\n",
            "Used GPU memory after computations (bytes): 880001024\n"
          ]
        }
      ]
    },
    {
      "cell_type": "markdown",
      "source": [
        "**Ensure CuPy is using the CUDA backend**"
      ],
      "metadata": {
        "id": "R-C3tYN21m5K"
      }
    },
    {
      "cell_type": "code",
      "source": [
        "# Check CUDA runtime version\n",
        "print(\"CUDA runtime version:\", cp.cuda.runtime.runtimeGetVersion())"
      ],
      "metadata": {
        "colab": {
          "base_uri": "https://localhost:8080/"
        },
        "id": "hRmqiqaE1rhN",
        "outputId": "76521b0b-2841-4d85-b13e-2f3ea8f07367"
      },
      "execution_count": 8,
      "outputs": [
        {
          "output_type": "stream",
          "name": "stdout",
          "text": [
            "CUDA runtime version: 12020\n"
          ]
        }
      ]
    },
    {
      "cell_type": "markdown",
      "source": [
        "**Confirm GPU utilization**"
      ],
      "metadata": {
        "id": "jpqkZlwfw6u2"
      }
    },
    {
      "cell_type": "code",
      "source": [
        "# !LC_ALL=C.UTF-8 nvidia-smi"
      ],
      "metadata": {
        "id": "wZh1sHHhw8jq"
      },
      "execution_count": 9,
      "outputs": []
    },
    {
      "cell_type": "markdown",
      "source": [
        "**Training**"
      ],
      "metadata": {
        "id": "GRdCsM_4wO8p"
      }
    },
    {
      "cell_type": "code",
      "source": [
        "import cupy as cp\n",
        "from scipy.optimize import linprog\n",
        "import matplotlib.pyplot as plt\n",
        "\n",
        "# Target function\n",
        "def target_function(x):\n",
        "    return cp.abs(x - 0.1)\n",
        "\n",
        "# Rational function | r(x) = (α_0 + α_1*x + ...)/(β_0 + β_1*x + ...)\n",
        "def rational_function(x, alpha, beta):\n",
        "    # Numerator polynomial\n",
        "    numerator = sum(alpha[i] * x**i for i in range(len(alpha)))\n",
        "    # Denominator polynomial\n",
        "    denominator = sum(beta[i] * x**i for i in range(len(beta)))\n",
        "    return numerator / denominator\n",
        "\n",
        "delta = 1e-6 # a small +ve value for constraint_3\n",
        "\n",
        "# Feasibility check function\n",
        "def check_feasibility_and_compute_coefficients(z, x_data, y_data, degree):\n",
        "    num_data_points = len(x_data)\n",
        "    num_coefficients = degree + 1  # Number of coefficients for num & den\n",
        "\n",
        "    # Construct the G(x) & H(x) polynomials\n",
        "    # Numerator polynomial\n",
        "    G = cp.array([[x**i for i in range(num_coefficients)] for x in x_data])\n",
        "    # Denominator polynomial\n",
        "    H = cp.array([[x**i for i in range(num_coefficients)] for x in x_data])\n",
        "\n",
        "    # Construct constraints for Ax <= b\n",
        "    A = []\n",
        "    b = []\n",
        "\n",
        "    for i in range(num_data_points):\n",
        "        f_plus_z = y_data[i] + z    #UB(X)\n",
        "        f_minus_z = y_data[i] - z   #LB\n",
        "\n",
        "        # Constraint 1: (f(xi) - z) * β^T H(xi) - α^T G(xi) ≤ θ\n",
        "        # (-G(xi))αT + (f(xi) - z).H(xi)βT + (-1)θ ≤ 0\n",
        "        constraint_1 = cp.zeros(2 * num_coefficients + 1)\n",
        "        # (1) Coefficients of α\n",
        "        constraint_1[0:num_coefficients] = -G[i]\n",
        "        # (2) Coefficients of β\n",
        "        constraint_1[num_coefficients:2 * num_coefficients] = (f_minus_z) * H[i]\n",
        "        # (3) Coefficient of θ (last element)\n",
        "        constraint_1[-1] = -1\n",
        "        A.append(constraint_1)\n",
        "        b.append(0)\n",
        "\n",
        "        # Constraint 2: α^T G(xi) - (f(xi) - z) * β^T H(xi) ≤ θ\n",
        "        # G(xi).αT + (-1)(f(xi) - z).H(xi)βT + (-1)θ ≤ 0\n",
        "        constraint_2 = cp.zeros(2 * num_coefficients + 1)\n",
        "        # (1) Coefficients of α\n",
        "        constraint_2[0:num_coefficients] = G[i]\n",
        "        # (2) Coefficients of β\n",
        "        constraint_2[num_coefficients:2 * num_coefficients] = -(f_plus_z) * H[i]\n",
        "        # (3) Coefficient of θ (last element)\n",
        "        constraint_2[-1] = -1\n",
        "        A.append(constraint_2)\n",
        "        b.append(0)\n",
        "\n",
        "        # Constraint 3: β^T H(x) ≥ δ\n",
        "        # (0)α^T + (-H(x)) β^T + (0)θ ≤ -δ\n",
        "        constraint_3 = cp.zeros(2 * num_coefficients + 1)\n",
        "        # Coefficients of β\n",
        "        constraint_3[num_coefficients:2 * num_coefficients] = -H[i]\n",
        "        A.append(constraint_3)\n",
        "        b.append(-delta)\n",
        "\n",
        "    # print(f\"A: {A[0]}\")\n",
        "\n",
        "    # Convert CuPy arrays to NumPy arrays for SciPy\n",
        "    A = cp.asnumpy(cp.array(A))\n",
        "    b = cp.asnumpy(cp.array(b))\n",
        "\n",
        "    # print(f\"A: {A[0]}\")\n",
        "    # print(f\"len(A[0]): {len(A[0])}\")\n",
        "    # print(f\"len(b): {len(b)}\")\n",
        "\n",
        "    #for linprog API -\n",
        "    # Objective function to minimize θ\n",
        "    c = cp.asnumpy(cp.zeros(2 * num_coefficients + 1))\n",
        "    c[-1] = 1  # Only θ has a coefficient in the objective function\n",
        "\n",
        "    # Solve the linear programming problem\n",
        "    result = linprog(c, A_ub=A, b_ub=b, method=\"highs\")\n",
        "\n",
        "    # Check feasibility and return results\n",
        "    if result.success:\n",
        "        alpha_coefficients = result.x[:num_coefficients]\n",
        "        beta_coefficients = result.x[num_coefficients:2 * num_coefficients]\n",
        "        theta = result.x[-1]\n",
        "        return True, alpha_coefficients, beta_coefficients, theta\n",
        "    else:\n",
        "        return False, None, None, None\n",
        "\n",
        "# Bisection loop\n",
        "def bisection_loop(x_data, y_data, degree, uL, uH, precision):\n",
        "    optimal_alpha, optimal_beta, optimal_theta = None, None, None\n",
        "    z_values = []\n",
        "\n",
        "    while uH - uL > precision:\n",
        "        z = (uL + uH) / 2\n",
        "        z_values.append(z)\n",
        "        feasible, alpha_coefficients, beta_coefficients, theta = check_feasibility_and_compute_coefficients(z, x_data, y_data, degree)\n",
        "\n",
        "        if feasible:\n",
        "            uH = z\n",
        "            optimal_alpha, optimal_beta, optimal_theta = alpha_coefficients, beta_coefficients, theta\n",
        "        else:\n",
        "            uL = z\n",
        "\n",
        "    return uH, optimal_alpha, optimal_beta, optimal_theta, z_values\n",
        "\n",
        "# Main execution\n",
        "if __name__ == \"__main__\":\n",
        "    # Data setup\n",
        "    degree = 12  # Polynomial degree\n",
        "    x_data = cp.linspace(-3, 3, 100)  # Discretized data points\n",
        "    y_data = target_function(x_data)  # Target values\n",
        "\n",
        "    # Initial coefficients for the rational function\n",
        "    # alpha_initial = [5, 3, 2]  # Coefficients of numerator\n",
        "    # beta_initial = [7, 4, 3]   # Coefficients of denominator\n",
        "\n",
        "    # Bisection parameters\n",
        "    uL = 0  # Initial lower bound\n",
        "    uH = 100  # Initial upper bound\n",
        "    precision = 1e-6  # Precision threshold\n",
        "\n",
        "    # Run bisection loop\n",
        "    optimal_z, optimal_alpha, optimal_beta, optimal_theta, z_values = bisection_loop(x_data, y_data, degree, uL, uH, precision)\n",
        "\n",
        "    # Print results\n",
        "    print(f\"Number of Iterations: {len(z_values)}\")\n",
        "    print(f\"z Values in all Iterations: {z_values}\")\n",
        "    print(f\"Optimal z (Maximum Deviation): {optimal_z}\")\n",
        "\n",
        "    # Plot convergence of z values\n",
        "    plt.figure(figsize=(8, 6))\n",
        "    plt.plot(range(len(z_values)), z_values, marker='o', linestyle='-')\n",
        "    plt.xlabel(\"Iteration\")\n",
        "    plt.ylabel(\"z Value\")\n",
        "    plt.title(\"Convergence of z Values\")\n",
        "    plt.grid(True)\n",
        "    plt.show()\n",
        "\n",
        "    print(f\"Optimized Coefficients (Numerator α): {optimal_alpha}\")\n",
        "    print(f\"Optimized Coefficients (Denominator β): {optimal_beta}\")\n",
        "    print(f\"Optimal θ: {optimal_theta}\")"
      ],
      "metadata": {
        "colab": {
          "base_uri": "https://localhost:8080/",
          "height": 792
        },
        "id": "I5_RWwrJtIia",
        "outputId": "b1ba0ef2-50c7-43a6-efe2-3348bab85f2f"
      },
      "execution_count": 15,
      "outputs": [
        {
          "output_type": "stream",
          "name": "stdout",
          "text": [
            "Number of Iterations: 27\n",
            "z Values in all Iterations: [50.0, 25.0, 12.5, 6.25, 3.125, 1.5625, 0.78125, 0.390625, 0.1953125, 0.09765625, 0.048828125, 0.0244140625, 0.01220703125, 0.006103515625, 0.0030517578125, 0.00152587890625, 0.000762939453125, 0.0003814697265625, 0.00019073486328125, 9.5367431640625e-05, 4.76837158203125e-05, 2.384185791015625e-05, 1.1920928955078125e-05, 5.9604644775390625e-06, 2.9802322387695312e-06, 1.4901161193847656e-06, 7.450580596923828e-07]\n",
            "Optimal z (Maximum Deviation): 7.450580596923828e-07\n"
          ]
        },
        {
          "output_type": "display_data",
          "data": {
            "text/plain": [
              "<Figure size 800x600 with 1 Axes>"
            ],
            "image/png": "[encoded data removed]"
          },
          "metadata": {}
        },
        {
          "output_type": "stream",
          "name": "stdout",
          "text": [
            "Optimized Coefficients (Numerator α): [5.78036938e-08 0.00000000e+00 0.00000000e+00 0.00000000e+00\n",
            " 7.67114035e-04 0.00000000e+00 6.96735086e-03 9.13303356e-05\n",
            " 9.59465186e-03 1.96022933e-05 2.52611224e-03 0.00000000e+00\n",
            " 9.87251509e-05]\n",
            "Optimized Coefficients (Denominator β): [1.37941074e-06 1.46054829e-05 1.16046586e-04 2.99614264e-04\n",
            " 3.15309166e-03 1.07584315e-03 1.01475294e-02 6.67957363e-04\n",
            " 6.08079698e-03 6.89331796e-05 6.61614639e-04 6.12290202e-07\n",
            " 6.39087130e-06]\n",
            "Optimal θ: 7.673135465749539e-08\n"
          ]
        }
      ]
    },
    {
      "cell_type": "markdown",
      "source": [
        "**Testing**"
      ],
      "metadata": {
        "id": "IefL_CZJtdsy"
      }
    },
    {
      "cell_type": "code",
      "source": [
        "# import matplotlib.pyplot as plt\n",
        "\n",
        "# # Close-up\n",
        "# def plot_functions(target_function, rational_function, alpha, beta, x_range):\n",
        "#     # Generate points for the plot\n",
        "#     x_test = cp.linspace(x_range[0], x_range[1], 900)  # Use CuPy for GPU computations\n",
        "#     y_target = target_function(x_test)  # Compute the target function values\n",
        "#     y_rational = cp.array([rational_function(x, alpha, beta) for x in x_test])  # Compute rational function values\n",
        "\n",
        "#     # Convert CuPy arrays to NumPy for plotting\n",
        "#     x_test = cp.asnumpy(x_test)\n",
        "#     y_target = cp.asnumpy(y_target)\n",
        "#     y_rational = cp.asnumpy(y_rational)\n",
        "\n",
        "#     # Plot the functions\n",
        "#     plt.figure(figsize=(8, 6))\n",
        "#     plt.plot(x_test, y_target, label=\"Target Function\", color=\"blue\", linewidth=2)\n",
        "#     plt.plot(x_test, y_rational, label=\"Rational Function Approximation\", color=\"red\", linestyle=\"--\", linewidth=2)\n",
        "#     plt.scatter(cp.asnumpy(x_data), cp.asnumpy(y_data), label=\"Data Points\", color=\"purple\", marker=\"o\")\n",
        "#     plt.xlabel(\"x\")\n",
        "#     plt.ylabel(\"f(x)\")\n",
        "#     plt.title(\"Target Function vs Rational Function Approximation\")\n",
        "#     plt.legend()\n",
        "#     plt.grid(True)\n",
        "#     plt.show()\n",
        "\n",
        "# # Main execution for plotting\n",
        "# if __name__ == \"__main__\":\n",
        "#     # Test points range for plotting\n",
        "#     x_range = [-4, 4]\n",
        "\n",
        "#     # Call the plotting function\n",
        "#     plot_functions(target_function, rational_function, optimal_alpha, optimal_beta, x_range)\n",
        "\n",
        "# # Bigger range\n",
        "# def plot_functions(target_function, rational_function, alpha, beta, x_range):\n",
        "#     # Generate points for the plot\n",
        "#     x_test = cp.linspace(x_range[0], x_range[1], 900)  # Use CuPy for GPU computations\n",
        "#     y_target = target_function(x_test)  # Compute the target function values\n",
        "#     y_rational = cp.array([rational_function(x, alpha, beta) for x in x_test])  # Compute rational function values\n",
        "\n",
        "#     # Convert CuPy arrays to NumPy for plotting\n",
        "#     x_test = cp.asnumpy(x_test)\n",
        "#     y_target = cp.asnumpy(y_target)\n",
        "#     y_rational = cp.asnumpy(y_rational)\n",
        "\n",
        "#     # Plot the functions\n",
        "#     plt.figure(figsize=(8, 6))\n",
        "#     plt.plot(x_test, y_target, label=\"Target Function\", color=\"blue\", linewidth=2)\n",
        "#     plt.plot(x_test, y_rational, label=\"Rational Function Approximation\", color=\"red\", linestyle=\"--\", linewidth=2)\n",
        "#     # plt.scatter(cp.asnumpy(x_data), cp.asnumpy(y_data), label=\"Data Points\", color=\"purple\", marker=\"o\")\n",
        "#     plt.xlabel(\"x\")\n",
        "#     plt.ylabel(\"f(x)\")\n",
        "#     plt.title(\"Target Function vs Rational Function Approximation\")\n",
        "#     plt.legend()\n",
        "#     plt.grid(True)\n",
        "#     plt.show()\n",
        "\n",
        "# # Main execution for plotting\n",
        "# if __name__ == \"__main__\":\n",
        "#     # Test points range for plotting\n",
        "#     x_range = [-8, 8]\n",
        "\n",
        "#     # Call the plotting function\n",
        "#     plot_functions(target_function, rational_function, optimal_alpha, optimal_beta, x_range)"
      ],
      "metadata": {
        "id": "zjeaGpZSter7"
      },
      "execution_count": null,
      "outputs": []
    },
    {
      "cell_type": "markdown",
      "source": [
        "**Diff. Datapoints**"
      ],
      "metadata": {
        "id": "FiksSp4haXpf"
      }
    },
    {
      "cell_type": "code",
      "source": [
        "import matplotlib.pyplot as plt\n",
        "\n",
        "# Close-up\n",
        "def plot_functions(target_function, rational_function, alpha, beta, x_test_values):\n",
        "    # Generate points for the plot\n",
        "    x_test = cp.array(x_test_values)  # Use the provided x_test_values\n",
        "    y_target = target_function(x_test)  # Compute the target function values\n",
        "    y_rational = cp.array([rational_function(x, alpha, beta) for x in x_test])  # Compute rational function values\n",
        "\n",
        "    # Convert CuPy arrays to NumPy for plotting\n",
        "    x_test = cp.asnumpy(x_test)\n",
        "    y_target = cp.asnumpy(y_target)\n",
        "    y_rational = cp.asnumpy(y_rational)\n",
        "\n",
        "    # Plot the functions\n",
        "    plt.figure(figsize=(8, 6))\n",
        "    plt.plot(x_test, y_target, label=\"Target Function\", color=\"blue\", linewidth=2)\n",
        "    plt.plot(x_test, y_rational, label=\"Rational Function Approximation\", color=\"red\", linestyle=\"--\", linewidth=2)\n",
        "    plt.scatter(x_test, y_rational, label=\"Approximated Points\", color=\"purple\", marker=\"o\") #Scatter plot for approximated points\n",
        "    plt.xlabel(\"x\")\n",
        "    plt.ylabel(\"f(x)\")\n",
        "    plt.title(\"Target Function vs Rational Function Approximation\")\n",
        "    plt.legend()\n",
        "    plt.grid(True)\n",
        "    plt.show()\n",
        "\n",
        "    print(f\"y_target: {y_target}\")\n",
        "    print(f\"y_rational: {y_rational}\")\n",
        "    print(f\"abs(y_target - y_rational): {abs(y_target - y_rational)}\")\n",
        "\n",
        "# Main execution for plotting\n",
        "if __name__ == \"__main__\":\n",
        "\n",
        "    # Datapoints outside of the training dataset (-3 tp 3, 100)\n",
        "    # x_test_values = [1, 2, 3, 4, 5, 6, 7, 8, 9, 10]\n",
        "    # x_test_values = [12, 18, 20, 34, 40, 55]\n",
        "\n",
        "    # Datapoints inside of the training dataset\n",
        "    # x_test_values = [-2.1, -1.7, -1.2, -0.6, 0.8, 1.6, 2.1, 2.8]\n",
        "    x_test_values = [-3, -2, -1, 1, 2, 3]\n",
        "\n",
        "\n",
        "    # Call the plotting function\n",
        "    plot_functions(target_function, rational_function, optimal_alpha, optimal_beta, x_test_values)"
      ],
      "metadata": {
        "id": "Ivm9mSkiaaGd",
        "outputId": "cd390081-86db-4707-f566-c4584845852d",
        "colab": {
          "base_uri": "https://localhost:8080/",
          "height": 633
        }
      },
      "execution_count": 38,
      "outputs": [
        {
          "output_type": "display_data",
          "data": {
            "text/plain": [
              "<Figure size 800x600 with 1 Axes>"
            ],
            "image/png": "[encoded data removed]"
          },
          "metadata": {}
        },
        {
          "output_type": "stream",
          "name": "stdout",
          "text": [
            "y_target: [3.1 2.1 1.1 0.9 1.9 2.9]\n",
            "y_rational: [3.09999925 2.10000023 1.09999263 0.89999869 1.89999955 2.89999925]\n",
            "abs(y_target - y_rational): [7.45941873e-07 2.30657063e-07 7.36766057e-06 1.30949232e-06\n",
            " 4.48099613e-07 7.45881271e-07]\n"
          ]
        }
      ]
    }
  ]
}