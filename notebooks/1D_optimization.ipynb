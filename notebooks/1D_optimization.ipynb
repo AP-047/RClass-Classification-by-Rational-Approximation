{
  "nbformat": 4,
  "nbformat_minor": 0,
  "metadata": {
    "colab": {
      "provenance": [],
      "machine_shape": "hm",
      "gpuType": "T4",
      "authorship_tag": "ABX9TyM77Qle226R6wp4lJylLs8Q",
      "include_colab_link": true
    },
    "kernelspec": {
      "name": "python3",
      "display_name": "Python 3"
    },
    "language_info": {
      "name": "python"
    },
    "accelerator": "GPU"
  },
  "cells": [
    {
      "cell_type": "markdown",
      "metadata": {
        "id": "view-in-github",
        "colab_type": "text"
      },
      "source": [
        "<a href=\"https://colab.research.google.com/github/AP-047/RClass-Classification-by-Rational-Approximation/blob/main/notebooks/1D_optimization.ipynb\" target=\"_parent\"><img src=\"https://colab.research.google.com/assets/colab-badge.svg\" alt=\"Open In Colab\"/></a>"
      ]
    },
    {
      "cell_type": "markdown",
      "source": [
        "**GPU Set-up**"
      ],
      "metadata": {
        "id": "AYsLi3Gtl-zB"
      }
    },
    {
      "cell_type": "code",
      "source": [
        "!nvcc --version"
      ],
      "metadata": {
        "colab": {
          "base_uri": "https://localhost:8080/",
          "height": 287
        },
        "id": "rF851EimmCPp",
        "outputId": "07553528-4b57-4124-8054-f85be69f31a2"
      },
      "execution_count": 4,
      "outputs": [
        {
          "output_type": "error",
          "ename": "NotImplementedError",
          "evalue": "A UTF-8 locale is required. Got ANSI_X3.4-1968",
          "traceback": [
            "\u001b[0;31m---------------------------------------------------------------------------\u001b[0m",
            "\u001b[0;31mNotImplementedError\u001b[0m                       Traceback (most recent call last)",
            "\u001b[0;32m<ipython-input-4-9c280d65516a>\u001b[0m in \u001b[0;36m<cell line: 1>\u001b[0;34m()\u001b[0m\n\u001b[0;32m----> 1\u001b[0;31m \u001b[0mget_ipython\u001b[0m\u001b[0;34m(\u001b[0m\u001b[0;34m)\u001b[0m\u001b[0;34m.\u001b[0m\u001b[0msystem\u001b[0m\u001b[0;34m(\u001b[0m\u001b[0;34m'nvcc --version'\u001b[0m\u001b[0;34m)\u001b[0m\u001b[0;34m\u001b[0m\u001b[0;34m\u001b[0m\u001b[0m\n\u001b[0m",
            "\u001b[0;32m/usr/local/lib/python3.10/dist-packages/google/colab/_shell.py\u001b[0m in \u001b[0;36msystem\u001b[0;34m(self, *args, **kwargs)\u001b[0m\n\u001b[1;32m     97\u001b[0m       \u001b[0mkwargs\u001b[0m\u001b[0;34m.\u001b[0m\u001b[0mupdate\u001b[0m\u001b[0;34m(\u001b[0m\u001b[0;34m{\u001b[0m\u001b[0;34m'also_return_output'\u001b[0m\u001b[0;34m:\u001b[0m \u001b[0;32mTrue\u001b[0m\u001b[0;34m}\u001b[0m\u001b[0;34m)\u001b[0m\u001b[0;34m\u001b[0m\u001b[0;34m\u001b[0m\u001b[0m\n\u001b[1;32m     98\u001b[0m \u001b[0;34m\u001b[0m\u001b[0m\n\u001b[0;32m---> 99\u001b[0;31m     \u001b[0moutput\u001b[0m \u001b[0;34m=\u001b[0m \u001b[0m_system_commands\u001b[0m\u001b[0;34m.\u001b[0m\u001b[0m_system_compat\u001b[0m\u001b[0;34m(\u001b[0m\u001b[0mself\u001b[0m\u001b[0;34m,\u001b[0m \u001b[0;34m*\u001b[0m\u001b[0margs\u001b[0m\u001b[0;34m,\u001b[0m \u001b[0;34m**\u001b[0m\u001b[0mkwargs\u001b[0m\u001b[0;34m)\u001b[0m  \u001b[0;31m# pylint:disable=protected-access\u001b[0m\u001b[0;34m\u001b[0m\u001b[0;34m\u001b[0m\u001b[0m\n\u001b[0m\u001b[1;32m    100\u001b[0m \u001b[0;34m\u001b[0m\u001b[0m\n\u001b[1;32m    101\u001b[0m     \u001b[0;32mif\u001b[0m \u001b[0mpip_warn\u001b[0m\u001b[0;34m:\u001b[0m\u001b[0;34m\u001b[0m\u001b[0;34m\u001b[0m\u001b[0m\n",
            "\u001b[0;32m/usr/local/lib/python3.10/dist-packages/google/colab/_system_commands.py\u001b[0m in \u001b[0;36m_system_compat\u001b[0;34m(shell, cmd, also_return_output)\u001b[0m\n\u001b[1;32m    452\u001b[0m   \u001b[0;31m# is expected to call this function, thus adding one level of nesting to the\u001b[0m\u001b[0;34m\u001b[0m\u001b[0;34m\u001b[0m\u001b[0m\n\u001b[1;32m    453\u001b[0m   \u001b[0;31m# stack.\u001b[0m\u001b[0;34m\u001b[0m\u001b[0;34m\u001b[0m\u001b[0m\n\u001b[0;32m--> 454\u001b[0;31m   result = _run_command(\n\u001b[0m\u001b[1;32m    455\u001b[0m       \u001b[0mshell\u001b[0m\u001b[0;34m.\u001b[0m\u001b[0mvar_expand\u001b[0m\u001b[0;34m(\u001b[0m\u001b[0mcmd\u001b[0m\u001b[0;34m,\u001b[0m \u001b[0mdepth\u001b[0m\u001b[0;34m=\u001b[0m\u001b[0;36m2\u001b[0m\u001b[0;34m)\u001b[0m\u001b[0;34m,\u001b[0m \u001b[0mclear_streamed_output\u001b[0m\u001b[0;34m=\u001b[0m\u001b[0;32mFalse\u001b[0m\u001b[0;34m\u001b[0m\u001b[0;34m\u001b[0m\u001b[0m\n\u001b[1;32m    456\u001b[0m   )\n",
            "\u001b[0;32m/usr/local/lib/python3.10/dist-packages/google/colab/_system_commands.py\u001b[0m in \u001b[0;36m_run_command\u001b[0;34m(cmd, clear_streamed_output)\u001b[0m\n\u001b[1;32m    166\u001b[0m     \u001b[0mlocale_encoding\u001b[0m \u001b[0;34m=\u001b[0m \u001b[0mlocale\u001b[0m\u001b[0;34m.\u001b[0m\u001b[0mgetpreferredencoding\u001b[0m\u001b[0;34m(\u001b[0m\u001b[0;34m)\u001b[0m\u001b[0;34m\u001b[0m\u001b[0;34m\u001b[0m\u001b[0m\n\u001b[1;32m    167\u001b[0m     \u001b[0;32mif\u001b[0m \u001b[0mlocale_encoding\u001b[0m \u001b[0;34m!=\u001b[0m \u001b[0m_ENCODING\u001b[0m\u001b[0;34m:\u001b[0m\u001b[0;34m\u001b[0m\u001b[0;34m\u001b[0m\u001b[0m\n\u001b[0;32m--> 168\u001b[0;31m       raise NotImplementedError(\n\u001b[0m\u001b[1;32m    169\u001b[0m           \u001b[0;34m'A UTF-8 locale is required. Got {}'\u001b[0m\u001b[0;34m.\u001b[0m\u001b[0mformat\u001b[0m\u001b[0;34m(\u001b[0m\u001b[0mlocale_encoding\u001b[0m\u001b[0;34m)\u001b[0m\u001b[0;34m\u001b[0m\u001b[0;34m\u001b[0m\u001b[0m\n\u001b[1;32m    170\u001b[0m       )\n",
            "\u001b[0;31mNotImplementedError\u001b[0m: A UTF-8 locale is required. Got ANSI_X3.4-1968"
          ]
        }
      ]
    },
    {
      "cell_type": "markdown",
      "source": [
        "**Set Locale to UTF-8**"
      ],
      "metadata": {
        "id": "QtJFlQ6msDNA"
      }
    },
    {
      "cell_type": "code",
      "source": [
        "!apt-get install -y locales\n",
        "!locale-gen en_US.UTF-8\n",
        "!update-locale LANG=en_US.UTF-8"
      ],
      "metadata": {
        "colab": {
          "base_uri": "https://localhost:8080/",
          "height": 321
        },
        "id": "7yL1fUoNsHTF",
        "outputId": "0e9c6902-6979-443e-fa62-0c62e942efeb"
      },
      "execution_count": 5,
      "outputs": [
        {
          "output_type": "error",
          "ename": "NotImplementedError",
          "evalue": "A UTF-8 locale is required. Got ANSI_X3.4-1968",
          "traceback": [
            "\u001b[0;31m---------------------------------------------------------------------------\u001b[0m",
            "\u001b[0;31mNotImplementedError\u001b[0m                       Traceback (most recent call last)",
            "\u001b[0;32m<ipython-input-5-4216a52eb034>\u001b[0m in \u001b[0;36m<cell line: 1>\u001b[0;34m()\u001b[0m\n\u001b[0;32m----> 1\u001b[0;31m \u001b[0mget_ipython\u001b[0m\u001b[0;34m(\u001b[0m\u001b[0;34m)\u001b[0m\u001b[0;34m.\u001b[0m\u001b[0msystem\u001b[0m\u001b[0;34m(\u001b[0m\u001b[0;34m'apt-get install -y locales'\u001b[0m\u001b[0;34m)\u001b[0m\u001b[0;34m\u001b[0m\u001b[0;34m\u001b[0m\u001b[0m\n\u001b[0m\u001b[1;32m      2\u001b[0m \u001b[0mget_ipython\u001b[0m\u001b[0;34m(\u001b[0m\u001b[0;34m)\u001b[0m\u001b[0;34m.\u001b[0m\u001b[0msystem\u001b[0m\u001b[0;34m(\u001b[0m\u001b[0;34m'locale-gen en_US.UTF-8'\u001b[0m\u001b[0;34m)\u001b[0m\u001b[0;34m\u001b[0m\u001b[0;34m\u001b[0m\u001b[0m\n\u001b[1;32m      3\u001b[0m \u001b[0mget_ipython\u001b[0m\u001b[0;34m(\u001b[0m\u001b[0;34m)\u001b[0m\u001b[0;34m.\u001b[0m\u001b[0msystem\u001b[0m\u001b[0;34m(\u001b[0m\u001b[0;34m'update-locale LANG=en_US.UTF-8'\u001b[0m\u001b[0;34m)\u001b[0m\u001b[0;34m\u001b[0m\u001b[0;34m\u001b[0m\u001b[0m\n",
            "\u001b[0;32m/usr/local/lib/python3.10/dist-packages/google/colab/_shell.py\u001b[0m in \u001b[0;36msystem\u001b[0;34m(self, *args, **kwargs)\u001b[0m\n\u001b[1;32m     97\u001b[0m       \u001b[0mkwargs\u001b[0m\u001b[0;34m.\u001b[0m\u001b[0mupdate\u001b[0m\u001b[0;34m(\u001b[0m\u001b[0;34m{\u001b[0m\u001b[0;34m'also_return_output'\u001b[0m\u001b[0;34m:\u001b[0m \u001b[0;32mTrue\u001b[0m\u001b[0;34m}\u001b[0m\u001b[0;34m)\u001b[0m\u001b[0;34m\u001b[0m\u001b[0;34m\u001b[0m\u001b[0m\n\u001b[1;32m     98\u001b[0m \u001b[0;34m\u001b[0m\u001b[0m\n\u001b[0;32m---> 99\u001b[0;31m     \u001b[0moutput\u001b[0m \u001b[0;34m=\u001b[0m \u001b[0m_system_commands\u001b[0m\u001b[0;34m.\u001b[0m\u001b[0m_system_compat\u001b[0m\u001b[0;34m(\u001b[0m\u001b[0mself\u001b[0m\u001b[0;34m,\u001b[0m \u001b[0;34m*\u001b[0m\u001b[0margs\u001b[0m\u001b[0;34m,\u001b[0m \u001b[0;34m**\u001b[0m\u001b[0mkwargs\u001b[0m\u001b[0;34m)\u001b[0m  \u001b[0;31m# pylint:disable=protected-access\u001b[0m\u001b[0;34m\u001b[0m\u001b[0;34m\u001b[0m\u001b[0m\n\u001b[0m\u001b[1;32m    100\u001b[0m \u001b[0;34m\u001b[0m\u001b[0m\n\u001b[1;32m    101\u001b[0m     \u001b[0;32mif\u001b[0m \u001b[0mpip_warn\u001b[0m\u001b[0;34m:\u001b[0m\u001b[0;34m\u001b[0m\u001b[0;34m\u001b[0m\u001b[0m\n",
            "\u001b[0;32m/usr/local/lib/python3.10/dist-packages/google/colab/_system_commands.py\u001b[0m in \u001b[0;36m_system_compat\u001b[0;34m(shell, cmd, also_return_output)\u001b[0m\n\u001b[1;32m    452\u001b[0m   \u001b[0;31m# is expected to call this function, thus adding one level of nesting to the\u001b[0m\u001b[0;34m\u001b[0m\u001b[0;34m\u001b[0m\u001b[0m\n\u001b[1;32m    453\u001b[0m   \u001b[0;31m# stack.\u001b[0m\u001b[0;34m\u001b[0m\u001b[0;34m\u001b[0m\u001b[0m\n\u001b[0;32m--> 454\u001b[0;31m   result = _run_command(\n\u001b[0m\u001b[1;32m    455\u001b[0m       \u001b[0mshell\u001b[0m\u001b[0;34m.\u001b[0m\u001b[0mvar_expand\u001b[0m\u001b[0;34m(\u001b[0m\u001b[0mcmd\u001b[0m\u001b[0;34m,\u001b[0m \u001b[0mdepth\u001b[0m\u001b[0;34m=\u001b[0m\u001b[0;36m2\u001b[0m\u001b[0;34m)\u001b[0m\u001b[0;34m,\u001b[0m \u001b[0mclear_streamed_output\u001b[0m\u001b[0;34m=\u001b[0m\u001b[0;32mFalse\u001b[0m\u001b[0;34m\u001b[0m\u001b[0;34m\u001b[0m\u001b[0m\n\u001b[1;32m    456\u001b[0m   )\n",
            "\u001b[0;32m/usr/local/lib/python3.10/dist-packages/google/colab/_system_commands.py\u001b[0m in \u001b[0;36m_run_command\u001b[0;34m(cmd, clear_streamed_output)\u001b[0m\n\u001b[1;32m    166\u001b[0m     \u001b[0mlocale_encoding\u001b[0m \u001b[0;34m=\u001b[0m \u001b[0mlocale\u001b[0m\u001b[0;34m.\u001b[0m\u001b[0mgetpreferredencoding\u001b[0m\u001b[0;34m(\u001b[0m\u001b[0;34m)\u001b[0m\u001b[0;34m\u001b[0m\u001b[0;34m\u001b[0m\u001b[0m\n\u001b[1;32m    167\u001b[0m     \u001b[0;32mif\u001b[0m \u001b[0mlocale_encoding\u001b[0m \u001b[0;34m!=\u001b[0m \u001b[0m_ENCODING\u001b[0m\u001b[0;34m:\u001b[0m\u001b[0;34m\u001b[0m\u001b[0;34m\u001b[0m\u001b[0m\n\u001b[0;32m--> 168\u001b[0;31m       raise NotImplementedError(\n\u001b[0m\u001b[1;32m    169\u001b[0m           \u001b[0;34m'A UTF-8 locale is required. Got {}'\u001b[0m\u001b[0;34m.\u001b[0m\u001b[0mformat\u001b[0m\u001b[0;34m(\u001b[0m\u001b[0mlocale_encoding\u001b[0m\u001b[0;34m)\u001b[0m\u001b[0;34m\u001b[0m\u001b[0;34m\u001b[0m\u001b[0m\n\u001b[1;32m    170\u001b[0m       )\n",
            "\u001b[0;31mNotImplementedError\u001b[0m: A UTF-8 locale is required. Got ANSI_X3.4-1968"
          ]
        }
      ]
    },
    {
      "cell_type": "markdown",
      "source": [
        "**Upgrade setuptools and pip**"
      ],
      "metadata": {
        "id": "73olbnfKsh6z"
      }
    },
    {
      "cell_type": "code",
      "source": [
        "!pip install -U setuptools pip"
      ],
      "metadata": {
        "colab": {
          "base_uri": "https://localhost:8080/",
          "height": 0
        },
        "id": "nrssNkkSp-kq",
        "outputId": "3daf5c02-7997-4f3e-87d6-3ec73b616243"
      },
      "execution_count": 1,
      "outputs": [
        {
          "output_type": "stream",
          "name": "stdout",
          "text": [
            "Requirement already satisfied: setuptools in /usr/local/lib/python3.10/dist-packages (75.6.0)\n",
            "Requirement already satisfied: pip in /usr/local/lib/python3.10/dist-packages (24.3.1)\n"
          ]
        }
      ]
    },
    {
      "cell_type": "markdown",
      "source": [
        "**Install CuPy for CUDA 12.2**"
      ],
      "metadata": {
        "id": "lLZBKmvPs2nO"
      }
    },
    {
      "cell_type": "code",
      "source": [
        "!pip install cupy-cuda12x"
      ],
      "metadata": {
        "colab": {
          "base_uri": "https://localhost:8080/",
          "height": 0
        },
        "id": "QWmDc0qOryCr",
        "outputId": "1dea5c12-b676-4f0e-8ab1-504bc9ec06b9"
      },
      "execution_count": 2,
      "outputs": [
        {
          "output_type": "stream",
          "name": "stdout",
          "text": [
            "Requirement already satisfied: cupy-cuda12x in /usr/local/lib/python3.10/dist-packages (12.2.0)\n",
            "Requirement already satisfied: numpy<1.27,>=1.20 in /usr/local/lib/python3.10/dist-packages (from cupy-cuda12x) (1.26.4)\n",
            "Requirement already satisfied: fastrlock>=0.5 in /usr/local/lib/python3.10/dist-packages (from cupy-cuda12x) (0.8.2)\n"
          ]
        }
      ]
    },
    {
      "cell_type": "markdown",
      "source": [
        "**Sample code to check GPU usage**"
      ],
      "metadata": {
        "id": "F1g8zqT6x7So"
      }
    },
    {
      "cell_type": "code",
      "source": [
        "import cupy as cp\n",
        "\n",
        "# Check initial GPU memory usage\n",
        "mempool = cp.get_default_memory_pool()\n",
        "print(\"Initial GPU memory usage (bytes):\", mempool.used_bytes())\n",
        "\n",
        "# Create a large CuPy array on the GPU\n",
        "size = 10**7  # Adjust size as needed to stress GPU\n",
        "x = cp.random.random(size, dtype=cp.float32)\n",
        "\n",
        "# Perform some GPU operations\n",
        "y = x ** 9999999  # Square the elements\n",
        "z = y.sum()  # Sum the elements\n",
        "\n",
        "# Sync to ensure GPU computations are complete\n",
        "cp.cuda.Device().synchronize()\n",
        "\n",
        "# Check GPU memory usage after operations\n",
        "print(\"Used GPU memory after computations (bytes):\", mempool.used_bytes())\n",
        "\n",
        "# Output the result of computation\n",
        "print(\"Sum of squares:\", z.get())  # Transfer result to CPU (NumPy)"
      ],
      "metadata": {
        "colab": {
          "base_uri": "https://localhost:8080/",
          "height": 0
        },
        "id": "PSSTw-Qqx-m2",
        "outputId": "9fa094e9-b0b5-40a2-af68-ff0281c75af1"
      },
      "execution_count": 3,
      "outputs": [
        {
          "output_type": "stream",
          "name": "stdout",
          "text": [
            "Initial GPU memory usage (bytes): 0\n",
            "Used GPU memory after computations (bytes): 120000512\n",
            "Sum of squares: 2.320652647746195\n"
          ]
        }
      ]
    },
    {
      "cell_type": "markdown",
      "source": [
        "**Test cuda**"
      ],
      "metadata": {
        "id": "rr--fXL9pWea"
      }
    },
    {
      "cell_type": "code",
      "source": [
        "import cupy as cp\n",
        "\n",
        "# Check GPU memory usage\n",
        "mempool = cp.get_default_memory_pool()\n",
        "print(\"Used memory (bytes):\", mempool.used_bytes())"
      ],
      "metadata": {
        "colab": {
          "base_uri": "https://localhost:8080/",
          "height": 0
        },
        "id": "MaEB3Rt5wORO",
        "outputId": "e6997530-58e5-4f80-c4de-a8f6e9bb9972"
      },
      "execution_count": 6,
      "outputs": [
        {
          "output_type": "stream",
          "name": "stdout",
          "text": [
            "Used memory (bytes): 120000512\n"
          ]
        }
      ]
    },
    {
      "cell_type": "markdown",
      "source": [
        "**Check GPU memory usage dynamically**"
      ],
      "metadata": {
        "id": "mL9f05jO1RNp"
      }
    },
    {
      "cell_type": "code",
      "source": [
        "import cupy as cp\n",
        "\n",
        "# Allocate a large array\n",
        "x = cp.random.random((10**8,), dtype=cp.float32)  # Large array to stress GPU\n",
        "\n",
        "# Check GPU memory usage\n",
        "mempool = cp.get_default_memory_pool()\n",
        "print(\"Used GPU memory (bytes):\", mempool.used_bytes())\n",
        "\n",
        "# Perform computations\n",
        "y = x ** 2\n",
        "z = cp.sum(y)\n",
        "\n",
        "# Sync and check memory usage again\n",
        "cp.cuda.Device().synchronize()\n",
        "print(\"Used GPU memory after computations (bytes):\", mempool.used_bytes())"
      ],
      "metadata": {
        "colab": {
          "base_uri": "https://localhost:8080/",
          "height": 0
        },
        "id": "7Q1rOLVv1WUr",
        "outputId": "ca0efed7-9360-435d-92db-37e509312bb8"
      },
      "execution_count": 7,
      "outputs": [
        {
          "output_type": "stream",
          "name": "stdout",
          "text": [
            "Used GPU memory (bytes): 520000512\n",
            "Used GPU memory after computations (bytes): 880001024\n"
          ]
        }
      ]
    },
    {
      "cell_type": "markdown",
      "source": [
        "**Ensure CuPy is using the CUDA backend**"
      ],
      "metadata": {
        "id": "R-C3tYN21m5K"
      }
    },
    {
      "cell_type": "code",
      "source": [
        "# Check CUDA runtime version\n",
        "print(\"CUDA runtime version:\", cp.cuda.runtime.runtimeGetVersion())"
      ],
      "metadata": {
        "colab": {
          "base_uri": "https://localhost:8080/",
          "height": 0
        },
        "id": "hRmqiqaE1rhN",
        "outputId": "c8543615-f5be-45d0-cf8a-6252911a3c56"
      },
      "execution_count": 8,
      "outputs": [
        {
          "output_type": "stream",
          "name": "stdout",
          "text": [
            "CUDA runtime version: 12020\n"
          ]
        }
      ]
    },
    {
      "cell_type": "markdown",
      "source": [
        "**Confirm GPU utilization**"
      ],
      "metadata": {
        "id": "jpqkZlwfw6u2"
      }
    },
    {
      "cell_type": "code",
      "source": [
        "# !LC_ALL=C.UTF-8 nvidia-smi"
      ],
      "metadata": {
        "id": "wZh1sHHhw8jq"
      },
      "execution_count": 9,
      "outputs": []
    },
    {
      "cell_type": "markdown",
      "source": [
        "**Training**"
      ],
      "metadata": {
        "id": "GRdCsM_4wO8p"
      }
    },
    {
      "cell_type": "code",
      "source": [
        "import cupy as cp\n",
        "from scipy.optimize import linprog\n",
        "import matplotlib.pyplot as plt\n",
        "\n",
        "# Target function\n",
        "def target_function(x):\n",
        "    return cp.abs(x - 0.1)\n",
        "\n",
        "# Rational function (coefficients to be optimized later)\n",
        "def rational_function(x, alpha, beta):\n",
        "    \"\"\"\n",
        "    r(x) = (α_0 + α_1*x + ...)/(β_0 + β_1*x + ...).\n",
        "    \"\"\"\n",
        "    numerator = sum(alpha[i] * x**i for i in range(len(alpha)))\n",
        "    denominator = sum(beta[i] * x**i for i in range(len(beta)))\n",
        "    return numerator / denominator\n",
        "\n",
        "# Feasibility check function\n",
        "def check_feasibility_and_compute_coefficients(z, x_data, y_data, degree):\n",
        "    num_data_points = len(x_data)\n",
        "    num_coefficients = degree + 1  # Number of coefficients for num & den\n",
        "\n",
        "    # Construct the G(x) and H(x) polynomials\n",
        "    G = cp.array([[x**i for i in range(num_coefficients)] for x in x_data])  # Numerator polynomial\n",
        "    H = cp.array([[x**i for i in range(num_coefficients)] for x in x_data])  # Denominator polynomial\n",
        "\n",
        "    # Construct constraints for Ax <= b\n",
        "    A = []\n",
        "    b = []\n",
        "\n",
        "    for i in range(num_data_points):\n",
        "        f_plus_z = y_data[i] + z\n",
        "        f_minus_z = y_data[i] - z\n",
        "\n",
        "        # Constraint 1: (f(xi) - z) * β^T H(xi) - α^T G(xi) ≤ θ\n",
        "        constraint_1 = cp.zeros(2 * num_coefficients + 1)\n",
        "        constraint_1[:num_coefficients] = -G[i]  # Coefficients of α\n",
        "        constraint_1[num_coefficients:2 * num_coefficients] = (f_minus_z) * H[i]  # Coefficients of β\n",
        "        constraint_1[-1] = -1  # Coefficient of θ\n",
        "        A.append(constraint_1)\n",
        "        b.append(0)\n",
        "\n",
        "        # Constraint 2: α^T G(xi) - (f(xi) - z) * β^T H(xi) ≤ θ\n",
        "        constraint_2 = cp.zeros(2 * num_coefficients + 1)\n",
        "        constraint_2[:num_coefficients] = G[i]  # Coefficients of α\n",
        "        constraint_2[num_coefficients:2 * num_coefficients] = -(f_minus_z) * H[i]  # Coefficients of β\n",
        "        constraint_2[-1] = -1  # Coefficient of θ\n",
        "        A.append(constraint_2)\n",
        "        b.append(0)\n",
        "\n",
        "    # Positive constraints: β^T H(x) ≥ δ (small positive number)\n",
        "    delta = 1e-6\n",
        "    for i in range(num_data_points):\n",
        "        constraint_pos = cp.zeros(2 * num_coefficients + 1)\n",
        "        constraint_pos[num_coefficients:2 * num_coefficients] = -H[i]  # Coefficients of β\n",
        "        A.append(constraint_pos)\n",
        "        b.append(-delta)\n",
        "\n",
        "    # Convert CuPy arrays to NumPy arrays for SciPy\n",
        "    A = cp.asnumpy(cp.array(A))\n",
        "    b = cp.asnumpy(cp.array(b))\n",
        "\n",
        "    # Objective function to minimize θ\n",
        "    c = cp.asnumpy(cp.zeros(2 * num_coefficients + 1))\n",
        "    c[-1] = 1  # Only θ has a coefficient in the objective function\n",
        "\n",
        "    # Solve the linear programming problem\n",
        "    result = linprog(c, A_ub=A, b_ub=b, method=\"highs\")\n",
        "\n",
        "    # Check feasibility and return results\n",
        "    if result.success:\n",
        "        alpha_coefficients = result.x[:num_coefficients]\n",
        "        beta_coefficients = result.x[num_coefficients:2 * num_coefficients]\n",
        "        theta = result.x[-1]\n",
        "        return True, alpha_coefficients, beta_coefficients, theta\n",
        "    else:\n",
        "        return False, None, None, None\n",
        "\n",
        "# Bisection loop\n",
        "def bisection_loop(x_data, y_data, degree, uL, uH, precision):\n",
        "    optimal_alpha, optimal_beta, optimal_theta = None, None, None\n",
        "    z_values = []\n",
        "\n",
        "    while uH - uL > precision:\n",
        "        z = (uL + uH) / 2\n",
        "        z_values.append(z)\n",
        "        feasible, alpha_coefficients, beta_coefficients, theta = check_feasibility_and_compute_coefficients(z, x_data, y_data, degree)\n",
        "\n",
        "        if feasible:\n",
        "            uH = z\n",
        "            optimal_alpha, optimal_beta, optimal_theta = alpha_coefficients, beta_coefficients, theta\n",
        "        else:\n",
        "            uL = z\n",
        "\n",
        "    return uH, optimal_alpha, optimal_beta, optimal_theta, z_values\n",
        "\n",
        "# Main execution\n",
        "if __name__ == \"__main__\":\n",
        "    # Data setup\n",
        "    degree = 10  # Polynomial degree\n",
        "    x_data = cp.linspace(-0.5, 0.5, 50)  # Discretized data points\n",
        "    y_data = target_function(x_data)  # Target values\n",
        "\n",
        "    # Initial coefficients for the rational function (to be optimized)\n",
        "    alpha_initial = [5, 3, 2]  # Coefficients of numerator\n",
        "    beta_initial = [7, 4, 0]   # Coefficients of denominator\n",
        "\n",
        "    # Bisection parameters\n",
        "    uL = 0  # Initial lower bound\n",
        "    uH = 100  # Initial upper bound\n",
        "    precision = 1e-6  # Precision threshold\n",
        "\n",
        "    # Run bisection loop\n",
        "    optimal_z, optimal_alpha, optimal_beta, optimal_theta, z_values = bisection_loop(x_data, y_data, degree, uL, uH, precision)\n",
        "\n",
        "    # Print results\n",
        "    print(f\"Optimal Z (Maximum Deviation): {optimal_z}\")\n",
        "    print(f\"Number of Iterations: {len(z_values)}\")\n",
        "    print(f\"Z Values for All Iterations: {z_values}\")\n",
        "\n",
        "    # Plot convergence of z values\n",
        "    plt.figure(figsize=(8, 6))\n",
        "    plt.plot(range(len(z_values)), z_values, marker='o', linestyle='-')\n",
        "    plt.xlabel(\"Iteration\")\n",
        "    plt.ylabel(\"Z Value\")\n",
        "    plt.title(\"Convergence of Z Values\")\n",
        "    plt.grid(True)\n",
        "    plt.show()\n",
        "\n",
        "    print(f\"Optimized Coefficients (Numerator α): {optimal_alpha}\")\n",
        "    print(f\"Optimized Coefficients (Denominator β): {optimal_beta}\")\n",
        "    print(f\"Optimal θ: {optimal_theta}\")\n",
        "\n",
        ""
      ],
      "metadata": {
        "colab": {
          "base_uri": "https://localhost:8080/",
          "height": 758
        },
        "id": "I5_RWwrJtIia",
        "outputId": "ad5621b4-ccb6-4a81-e614-7d83c8f0ad85"
      },
      "execution_count": 1,
      "outputs": [
        {
          "output_type": "stream",
          "name": "stdout",
          "text": [
            "Optimal Z (Maximum Deviation): 7.450580596923828e-07\n",
            "Number of Iterations: 27\n",
            "Z Values for All Iterations: [50.0, 25.0, 12.5, 6.25, 3.125, 1.5625, 0.78125, 0.390625, 0.1953125, 0.09765625, 0.048828125, 0.0244140625, 0.01220703125, 0.006103515625, 0.0030517578125, 0.00152587890625, 0.000762939453125, 0.0003814697265625, 0.00019073486328125, 9.5367431640625e-05, 4.76837158203125e-05, 2.384185791015625e-05, 1.1920928955078125e-05, 5.9604644775390625e-06, 2.9802322387695312e-06, 1.4901161193847656e-06, 7.450580596923828e-07]\n"
          ]
        },
        {
          "output_type": "display_data",
          "data": {
            "text/plain": [
              "<Figure size 800x600 with 1 Axes>"
            ],
            "image/png": "[encoded data removed]"
          },
          "metadata": {}
        },
        {
          "output_type": "stream",
          "name": "stdout",
          "text": [
            "Optimized Coefficients (Numerator α): [7.50688014e-08 0.00000000e+00 0.00000000e+00 0.00000000e+00\n",
            " 5.29907202e-04 0.00000000e+00 2.13302485e-04 1.15565541e-03\n",
            " 0.00000000e+00 0.00000000e+00 1.25109590e-01]\n",
            "Optimized Coefficients (Denominator β): [1.55993069e-06 1.70773063e-05 1.20256098e-04 1.38102691e-05\n",
            " 0.00000000e+00 0.00000000e+00 8.96326133e-03 9.53690201e-03\n",
            " 0.00000000e+00 0.00000000e+00 1.66593423e-01]\n",
            "Optimal θ: 7.900947235910656e-08\n"
          ]
        }
      ]
    },
    {
      "cell_type": "markdown",
      "source": [
        "**Testing**"
      ],
      "metadata": {
        "id": "IefL_CZJtdsy"
      }
    },
    {
      "cell_type": "code",
      "source": [
        "import matplotlib.pyplot as plt\n",
        "\n",
        "def plot_functions(target_function, rational_function, alpha, beta, x_range):\n",
        "    # Generate points for the plot\n",
        "    x_test = cp.linspace(x_range[0], x_range[1], 500)  # Use CuPy for GPU computations\n",
        "    y_target = target_function(x_test)  # Compute the target function values\n",
        "    y_rational = cp.array([rational_function(x, alpha, beta) for x in x_test])  # Compute rational function values\n",
        "\n",
        "    # Convert CuPy arrays to NumPy for plotting\n",
        "    x_test = cp.asnumpy(x_test)\n",
        "    y_target = cp.asnumpy(y_target)\n",
        "    y_rational = cp.asnumpy(y_rational)\n",
        "\n",
        "    # Plot the functions\n",
        "    plt.figure(figsize=(8, 6))\n",
        "    plt.plot(x_test, y_target, label=\"Target Function\", color=\"blue\", linewidth=2)\n",
        "    plt.plot(x_test, y_rational, label=\"Rational Function Approximation\", color=\"red\", linestyle=\"--\", linewidth=2)\n",
        "    plt.xlabel(\"x\")\n",
        "    plt.ylabel(\"f(x)\")\n",
        "    plt.title(\"Target Function vs Rational Function Approximation\")\n",
        "    plt.legend()\n",
        "    plt.grid(True)\n",
        "    plt.show()\n",
        "\n",
        "# Main execution for plotting\n",
        "if __name__ == \"__main__\":\n",
        "    # Test points range for plotting\n",
        "    x_range = [-3, 3]\n",
        "\n",
        "    # Call the plotting function\n",
        "    plot_functions(target_function, rational_function, optimal_alpha, optimal_beta, x_range)"
      ],
      "metadata": {
        "id": "zjeaGpZSter7",
        "outputId": "38c1a1bb-4ca6-45fe-a499-4e9470530b95",
        "colab": {
          "base_uri": "https://localhost:8080/",
          "height": 564
        }
      },
      "execution_count": 11,
      "outputs": [
        {
          "output_type": "display_data",
          "data": {
            "text/plain": [
              "<Figure size 800x600 with 1 Axes>"
            ],
            "image/png": "[encoded data removed]"
          },
          "metadata": {}
        }
      ]
    },
    {
      "cell_type": "markdown",
      "source": [
        "new"
      ],
      "metadata": {
        "id": "qqKzfckBS7la"
      }
    },
    {
      "cell_type": "code",
      "source": [
        "def evaluate_rational_function(x, alpha, beta):\n",
        "    \"\"\"\n",
        "    Evaluates the rational function at a given value of x.\n",
        "\n",
        "    Parameters:\n",
        "    - x: Input value.\n",
        "    - alpha: Coefficients of the numerator.\n",
        "    - beta: Coefficients of the denominator.\n",
        "\n",
        "    Returns:\n",
        "    - Rational function value at x.\n",
        "    \"\"\"\n",
        "    # Compute numerator and denominator\n",
        "    numerator = sum(alpha[i] * (x ** i) for i in range(len(alpha)))\n",
        "    denominator = sum(beta[j] * (x ** j) for j in range(len(beta)))\n",
        "    return numerator / denominator if denominator != 0 else float('inf')  # Avoid division by zero\n",
        "\n",
        "\n",
        "def print_function_values(target_function, alpha, beta, x_values):\n",
        "    \"\"\"\n",
        "    Prints the target and rational function values for a range of x values.\n",
        "\n",
        "    Parameters:\n",
        "    - target_function: Target function to compare.\n",
        "    - alpha: Coefficients of the numerator.\n",
        "    - beta: Coefficients of the denominator.\n",
        "    - x_values: List or array of x values to evaluate.\n",
        "    \"\"\"\n",
        "    print(\"x\\tTarget\\tRational\")\n",
        "    print(\"-\" * 30)\n",
        "    for x in x_values:\n",
        "        target_value = target_function(x)\n",
        "        rational_value = evaluate_rational_function(x, alpha, beta)\n",
        "        print(f\"{x:.2f}\\t{target_value:.4f}\\t{rational_value:.4f}\")\n",
        "\n",
        "\n",
        "# Example usage at the end of your main code:\n",
        "if __name__ == \"__main__\":\n",
        "    # Define a range of x values for testing\n",
        "    x_test_values = cp.linspace(0.5, 6, 20)  # 10 points between -0.5 and 0.5\n",
        "\n",
        "    # Print the target function and rational function outputs\n",
        "    print_function_values(target_function, optimal_alpha, optimal_beta, x_test_values)\n"
      ],
      "metadata": {
        "colab": {
          "base_uri": "https://localhost:8080/",
          "height": 0
        },
        "id": "CJ8s53eW7q8I",
        "outputId": "b3a2f5de-3499-46db-cbf9-071058db88ed"
      },
      "execution_count": 12,
      "outputs": [
        {
          "output_type": "stream",
          "name": "stdout",
          "text": [
            "x\tTarget\tRational\n",
            "------------------------------\n",
            "0.50\t0.4000\t0.4002\n",
            "0.79\t0.6895\t0.6198\n",
            "1.08\t0.9789\t0.6995\n",
            "1.37\t1.2684\t0.7271\n",
            "1.66\t1.5579\t0.7383\n",
            "1.95\t1.8474\t0.7435\n",
            "2.24\t2.1368\t0.7463\n",
            "2.53\t2.4263\t0.7478\n",
            "2.82\t2.7158\t0.7488\n",
            "3.11\t3.0053\t0.7494\n",
            "3.39\t3.2947\t0.7498\n",
            "3.68\t3.5842\t0.7501\n",
            "3.97\t3.8737\t0.7503\n",
            "4.26\t4.1632\t0.7504\n",
            "4.55\t4.4526\t0.7505\n",
            "4.84\t4.7421\t0.7506\n",
            "5.13\t5.0316\t0.7507\n",
            "5.42\t5.3211\t0.7507\n",
            "5.71\t5.6105\t0.7508\n",
            "6.00\t5.9000\t0.7508\n"
          ]
        }
      ]
    }
  ]
}