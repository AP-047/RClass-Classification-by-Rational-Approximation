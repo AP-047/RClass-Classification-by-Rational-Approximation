{
  "nbformat": 4,
  "nbformat_minor": 0,
  "metadata": {
    "colab": {
      "provenance": [],
      "machine_shape": "hm",
      "gpuType": "T4",
      "authorship_tag": "ABX9TyN5uaR67u1iFcJQxthAsEZl",
      "include_colab_link": true
    },
    "kernelspec": {
      "name": "python3",
      "display_name": "Python 3"
    },
    "language_info": {
      "name": "python"
    },
    "accelerator": "GPU"
  },
  "cells": [
    {
      "cell_type": "markdown",
      "metadata": {
        "id": "view-in-github",
        "colab_type": "text"
      },
      "source": [
        "<a href=\"https://colab.research.google.com/github/AP-047/RClass-Classification-by-Rational-Approximation/blob/main/notebooks/1D_optimization.ipynb\" target=\"_parent\"><img src=\"https://colab.research.google.com/assets/colab-badge.svg\" alt=\"Open In Colab\"/></a>"
      ]
    },
    {
      "cell_type": "markdown",
      "source": [
        "**GPU Set-up**"
      ],
      "metadata": {
        "id": "AYsLi3Gtl-zB"
      }
    },
    {
      "cell_type": "code",
      "source": [
        "!nvcc --version"
      ],
      "metadata": {
        "colab": {
          "base_uri": "https://localhost:8080/"
        },
        "id": "rF851EimmCPp",
        "outputId": "c97d7499-afa2-4714-bb45-c07403988570"
      },
      "execution_count": 1,
      "outputs": [
        {
          "output_type": "stream",
          "name": "stdout",
          "text": [
            "nvcc: NVIDIA (R) Cuda compiler driver\n",
            "Copyright (c) 2005-2023 NVIDIA Corporation\n",
            "Built on Tue_Aug_15_22:02:13_PDT_2023\n",
            "Cuda compilation tools, release 12.2, V12.2.140\n",
            "Build cuda_12.2.r12.2/compiler.33191640_0\n"
          ]
        }
      ]
    },
    {
      "cell_type": "markdown",
      "source": [
        "**Set Locale to UTF-8**"
      ],
      "metadata": {
        "id": "QtJFlQ6msDNA"
      }
    },
    {
      "cell_type": "code",
      "source": [
        "!apt-get install -y locales\n",
        "!locale-gen en_US.UTF-8\n",
        "!update-locale LANG=en_US.UTF-8"
      ],
      "metadata": {
        "colab": {
          "base_uri": "https://localhost:8080/"
        },
        "id": "7yL1fUoNsHTF",
        "outputId": "b8543955-7f52-45ac-ae7a-e62127a37f0a"
      },
      "execution_count": 2,
      "outputs": [
        {
          "output_type": "stream",
          "name": "stdout",
          "text": [
            "Reading package lists... Done\n",
            "Building dependency tree... Done\n",
            "Reading state information... Done\n",
            "locales is already the newest version (2.35-0ubuntu3.8).\n",
            "0 upgraded, 0 newly installed, 0 to remove and 49 not upgraded.\n",
            "Generating locales (this might take a while)...\n",
            "  en_US.UTF-8... done\n",
            "Generation complete.\n"
          ]
        }
      ]
    },
    {
      "cell_type": "markdown",
      "source": [
        "**Upgrade setuptools and pip**"
      ],
      "metadata": {
        "id": "73olbnfKsh6z"
      }
    },
    {
      "cell_type": "code",
      "source": [
        "!pip install -U setuptools pip"
      ],
      "metadata": {
        "colab": {
          "base_uri": "https://localhost:8080/"
        },
        "id": "nrssNkkSp-kq",
        "outputId": "abb3e44e-d386-4a76-d884-14c6cca86eb9"
      },
      "execution_count": 3,
      "outputs": [
        {
          "output_type": "stream",
          "name": "stdout",
          "text": [
            "Requirement already satisfied: setuptools in /usr/local/lib/python3.10/dist-packages (75.6.0)\n",
            "Requirement already satisfied: pip in /usr/local/lib/python3.10/dist-packages (24.3.1)\n"
          ]
        }
      ]
    },
    {
      "cell_type": "markdown",
      "source": [
        "**Install CuPy for CUDA 12.2**"
      ],
      "metadata": {
        "id": "lLZBKmvPs2nO"
      }
    },
    {
      "cell_type": "code",
      "source": [
        "!pip install cupy-cuda12x"
      ],
      "metadata": {
        "colab": {
          "base_uri": "https://localhost:8080/"
        },
        "id": "QWmDc0qOryCr",
        "outputId": "6f45fc2c-56cb-413f-94eb-7d7c6584ac12"
      },
      "execution_count": 4,
      "outputs": [
        {
          "output_type": "stream",
          "name": "stdout",
          "text": [
            "Requirement already satisfied: cupy-cuda12x in /usr/local/lib/python3.10/dist-packages (12.2.0)\n",
            "Requirement already satisfied: numpy<1.27,>=1.20 in /usr/local/lib/python3.10/dist-packages (from cupy-cuda12x) (1.26.4)\n",
            "Requirement already satisfied: fastrlock>=0.5 in /usr/local/lib/python3.10/dist-packages (from cupy-cuda12x) (0.8.2)\n"
          ]
        }
      ]
    },
    {
      "cell_type": "markdown",
      "source": [
        "**Sample code to check GPU usage**"
      ],
      "metadata": {
        "id": "F1g8zqT6x7So"
      }
    },
    {
      "cell_type": "code",
      "source": [
        "import cupy as cp\n",
        "\n",
        "# Check initial GPU memory usage\n",
        "mempool = cp.get_default_memory_pool()\n",
        "print(\"Initial GPU memory usage (bytes):\", mempool.used_bytes())\n",
        "\n",
        "# Create a large CuPy array on the GPU\n",
        "size = 10**7  # Adjust size as needed to stress GPU\n",
        "x = cp.random.random(size, dtype=cp.float32)\n",
        "\n",
        "# Perform some GPU operations\n",
        "y = x ** 9999999  # Square the elements\n",
        "z = y.sum()  # Sum the elements\n",
        "\n",
        "# Sync to ensure GPU computations are complete\n",
        "cp.cuda.Device().synchronize()\n",
        "\n",
        "# Check GPU memory usage after operations\n",
        "print(\"Used GPU memory after computations (bytes):\", mempool.used_bytes())\n",
        "\n",
        "# Output the result of computation\n",
        "print(\"Sum of squares:\", z.get())  # Transfer result to CPU (NumPy)"
      ],
      "metadata": {
        "colab": {
          "base_uri": "https://localhost:8080/"
        },
        "id": "PSSTw-Qqx-m2",
        "outputId": "4a2feb82-ab0e-4003-8154-8fa8cbf263c9"
      },
      "execution_count": 5,
      "outputs": [
        {
          "output_type": "stream",
          "name": "stdout",
          "text": [
            "Initial GPU memory usage (bytes): 0\n",
            "Used GPU memory after computations (bytes): 120000512\n",
            "Sum of squares: 0.9665072031732159\n"
          ]
        }
      ]
    },
    {
      "cell_type": "markdown",
      "source": [
        "**Test cuda**"
      ],
      "metadata": {
        "id": "rr--fXL9pWea"
      }
    },
    {
      "cell_type": "code",
      "source": [
        "import cupy as cp\n",
        "\n",
        "# Check GPU memory usage\n",
        "mempool = cp.get_default_memory_pool()\n",
        "print(\"Used memory (bytes):\", mempool.used_bytes())"
      ],
      "metadata": {
        "colab": {
          "base_uri": "https://localhost:8080/"
        },
        "id": "MaEB3Rt5wORO",
        "outputId": "ba21bfbd-0d49-4202-8821-03c559b2ccfb"
      },
      "execution_count": 6,
      "outputs": [
        {
          "output_type": "stream",
          "name": "stdout",
          "text": [
            "Used memory (bytes): 120000512\n"
          ]
        }
      ]
    },
    {
      "cell_type": "markdown",
      "source": [
        "**Check GPU memory usage dynamically**"
      ],
      "metadata": {
        "id": "mL9f05jO1RNp"
      }
    },
    {
      "cell_type": "code",
      "source": [
        "import cupy as cp\n",
        "\n",
        "# Allocate a large array\n",
        "x = cp.random.random((10**8,), dtype=cp.float32)  # Large array to stress GPU\n",
        "\n",
        "# Check GPU memory usage\n",
        "mempool = cp.get_default_memory_pool()\n",
        "print(\"Used GPU memory (bytes):\", mempool.used_bytes())\n",
        "\n",
        "# Perform computations\n",
        "y = x ** 2\n",
        "z = cp.sum(y)\n",
        "\n",
        "# Sync and check memory usage again\n",
        "cp.cuda.Device().synchronize()\n",
        "print(\"Used GPU memory after computations (bytes):\", mempool.used_bytes())"
      ],
      "metadata": {
        "colab": {
          "base_uri": "https://localhost:8080/"
        },
        "id": "7Q1rOLVv1WUr",
        "outputId": "fdc8de51-0a5f-4cd8-e68a-1484aa67f83a"
      },
      "execution_count": 7,
      "outputs": [
        {
          "output_type": "stream",
          "name": "stdout",
          "text": [
            "Used GPU memory (bytes): 520000512\n",
            "Used GPU memory after computations (bytes): 880001024\n"
          ]
        }
      ]
    },
    {
      "cell_type": "markdown",
      "source": [
        "**Ensure CuPy is using the CUDA backend**"
      ],
      "metadata": {
        "id": "R-C3tYN21m5K"
      }
    },
    {
      "cell_type": "code",
      "source": [
        "# Check CUDA runtime version\n",
        "print(\"CUDA runtime version:\", cp.cuda.runtime.runtimeGetVersion())"
      ],
      "metadata": {
        "colab": {
          "base_uri": "https://localhost:8080/"
        },
        "id": "hRmqiqaE1rhN",
        "outputId": "0937b2fc-bdd1-470c-8068-9338cdb1cd7c"
      },
      "execution_count": 8,
      "outputs": [
        {
          "output_type": "stream",
          "name": "stdout",
          "text": [
            "CUDA runtime version: 12020\n"
          ]
        }
      ]
    },
    {
      "cell_type": "markdown",
      "source": [
        "**Confirm GPU utilization**"
      ],
      "metadata": {
        "id": "jpqkZlwfw6u2"
      }
    },
    {
      "cell_type": "code",
      "source": [
        "# !LC_ALL=C.UTF-8 nvidia-smi"
      ],
      "metadata": {
        "id": "wZh1sHHhw8jq"
      },
      "execution_count": 9,
      "outputs": []
    },
    {
      "cell_type": "markdown",
      "source": [
        "**Training**"
      ],
      "metadata": {
        "id": "GRdCsM_4wO8p"
      }
    },
    {
      "cell_type": "code",
      "source": [
        "import cupy as cp\n",
        "from scipy.optimize import linprog\n",
        "import matplotlib.pyplot as plt\n",
        "\n",
        "# Target function\n",
        "def target_function(x):\n",
        "    return cp.abs(x)\n",
        "\n",
        "# Rational function (coefficients to be optimized later)\n",
        "def rational_function(x, alpha, beta):\n",
        "    \"\"\"\n",
        "    r(x) = (α_0 + α_1*x + ...)/(β_0 + β_1*x + ...).\n",
        "    \"\"\"\n",
        "    numerator = sum(alpha[i] * x**i for i in range(len(alpha)))\n",
        "    denominator = sum(beta[i] * x**i for i in range(len(beta)))\n",
        "    return numerator / denominator\n",
        "\n",
        "# Feasibility check function\n",
        "def check_feasibility_and_compute_coefficients(z, x_data, y_data, degree):\n",
        "    num_data_points = len(x_data)\n",
        "    num_coefficients = degree + 1  # Number of coefficients for num & den\n",
        "\n",
        "    # Construct the G(x) & H(x) polynomials\n",
        "    # Numerator polynomial\n",
        "    G = cp.array([[x**i for i in range(num_coefficients)] for x in x_data])\n",
        "    # Denominator polynomial\n",
        "    H = cp.array([[x**i for i in range(num_coefficients)] for x in x_data])\n",
        "\n",
        "    # Construct constraints for Ax <= b\n",
        "    A = []\n",
        "    b = []\n",
        "\n",
        "    for i in range(num_data_points):\n",
        "        f_plus_z = y_data[i] + z\n",
        "        f_minus_z = y_data[i] - z\n",
        "\n",
        "        # Constraint 1: (f(xi) - z) * β^T H(xi) - α^T G(xi) ≤ θ\n",
        "        constraint_1 = cp.zeros(2 * num_coefficients + 1)\n",
        "\n",
        "        constraint_1[:num_coefficients] = -G[i]  # Coefficients of α\n",
        "        constraint_1[num_coefficients:2 * num_coefficients] = (f_minus_z) * H[i]  # Coefficients of β\n",
        "        constraint_1[-1] = -1  # Coefficient of θ\n",
        "\n",
        "        A.append(constraint_1)\n",
        "        b.append(0)\n",
        "\n",
        "        # Constraint 2: α^T G(xi) - (f(xi) - z) * β^T H(xi) ≤ θ\n",
        "        constraint_2 = cp.zeros(2 * num_coefficients + 1)\n",
        "        constraint_2[:num_coefficients] = G[i]  # Coefficients of α\n",
        "        constraint_2[num_coefficients:2 * num_coefficients] = -(f_minus_z) * H[i]  # Coefficients of β\n",
        "        constraint_2[-1] = -1  # Coefficient of θ\n",
        "        A.append(constraint_2)\n",
        "        b.append(0)\n",
        "\n",
        "    # Positive constraints: β^T H(x) ≥ δ (small positive number)\n",
        "    delta = 1e-6\n",
        "    for i in range(num_data_points):\n",
        "        constraint_pos = cp.zeros(2 * num_coefficients + 1)\n",
        "        constraint_pos[num_coefficients:2 * num_coefficients] = -H[i]  # Coefficients of β\n",
        "        A.append(constraint_pos)\n",
        "        b.append(-delta)\n",
        "\n",
        "    # Convert CuPy arrays to NumPy arrays for SciPy\n",
        "    A = cp.asnumpy(cp.array(A))\n",
        "    b = cp.asnumpy(cp.array(b))\n",
        "\n",
        "    # Objective function to minimize θ\n",
        "    c = cp.asnumpy(cp.zeros(2 * num_coefficients + 1))\n",
        "    c[-1] = 1  # Only θ has a coefficient in the objective function\n",
        "\n",
        "    # Solve the linear programming problem\n",
        "    result = linprog(c, A_ub=A, b_ub=b, method=\"highs\")\n",
        "\n",
        "    # Check feasibility and return results\n",
        "    if result.success:\n",
        "        alpha_coefficients = result.x[:num_coefficients]\n",
        "        beta_coefficients = result.x[num_coefficients:2 * num_coefficients]\n",
        "        theta = result.x[-1]\n",
        "        return True, alpha_coefficients, beta_coefficients, theta\n",
        "    else:\n",
        "        return False, None, None, None\n",
        "\n",
        "# Bisection loop\n",
        "def bisection_loop(x_data, y_data, degree, uL, uH, precision):\n",
        "    optimal_alpha, optimal_beta, optimal_theta = None, None, None\n",
        "    z_values = []\n",
        "\n",
        "    while uH - uL > precision:\n",
        "        z = (uL + uH) / 2\n",
        "        z_values.append(z)\n",
        "        feasible, alpha_coefficients, beta_coefficients, theta = check_feasibility_and_compute_coefficients(z, x_data, y_data, degree)\n",
        "\n",
        "        if feasible:\n",
        "            uH = z\n",
        "            optimal_alpha, optimal_beta, optimal_theta = alpha_coefficients, beta_coefficients, theta\n",
        "        else:\n",
        "            uL = z\n",
        "\n",
        "    return uH, optimal_alpha, optimal_beta, optimal_theta, z_values\n",
        "\n",
        "# Main execution\n",
        "if __name__ == \"__main__\":\n",
        "    # Data setup\n",
        "    degree = 12  # Polynomial degree\n",
        "    x_data = cp.linspace(-3, 3, 100)  # Discretized data points\n",
        "    y_data = target_function(x_data)  # Target values\n",
        "\n",
        "    # Initial coefficients for the rational function (to be optimized)\n",
        "    # alpha_initial = [5, 3, 2]  # Coefficients of numerator\n",
        "    # beta_initial = [7, 4, 3]   # Coefficients of denominator\n",
        "\n",
        "    # Bisection parameters\n",
        "    uL = 0  # Initial lower bound\n",
        "    uH = 100  # Initial upper bound\n",
        "    precision = 1e-6  # Precision threshold\n",
        "\n",
        "    # Run bisection loop\n",
        "    optimal_z, optimal_alpha, optimal_beta, optimal_theta, z_values = bisection_loop(x_data, y_data, degree, uL, uH, precision)\n",
        "\n",
        "    # Print results\n",
        "    print(f\"Optimal Z (Maximum Deviation): {optimal_z}\")\n",
        "    print(f\"Number of Iterations: {len(z_values)}\")\n",
        "    print(f\"Z Values for All Iterations: {z_values}\")\n",
        "\n",
        "    # Plot convergence of z values\n",
        "    plt.figure(figsize=(8, 6))\n",
        "    plt.plot(range(len(z_values)), z_values, marker='o', linestyle='-')\n",
        "    plt.xlabel(\"Iteration\")\n",
        "    plt.ylabel(\"Z Value\")\n",
        "    plt.title(\"Convergence of Z Values\")\n",
        "    plt.grid(True)\n",
        "    plt.show()\n",
        "\n",
        "    print(f\"Optimized Coefficients (Numerator α): {optimal_alpha}\")\n",
        "    print(f\"Optimized Coefficients (Denominator β): {optimal_beta}\")\n",
        "    print(f\"Optimal θ: {optimal_theta}\")"
      ],
      "metadata": {
        "colab": {
          "base_uri": "https://localhost:8080/",
          "height": 792
        },
        "id": "I5_RWwrJtIia",
        "outputId": "a3493d57-4e29-476e-8eb3-3a5bf7ef3874"
      },
      "execution_count": 15,
      "outputs": [
        {
          "output_type": "stream",
          "name": "stdout",
          "text": [
            "Optimal Z (Maximum Deviation): 7.450580596923828e-07\n",
            "Number of Iterations: 27\n",
            "Z Values for All Iterations: [50.0, 25.0, 12.5, 6.25, 3.125, 1.5625, 0.78125, 0.390625, 0.1953125, 0.09765625, 0.048828125, 0.0244140625, 0.01220703125, 0.006103515625, 0.0030517578125, 0.00152587890625, 0.000762939453125, 0.0003814697265625, 0.00019073486328125, 9.5367431640625e-05, 4.76837158203125e-05, 2.384185791015625e-05, 1.1920928955078125e-05, 5.9604644775390625e-06, 2.9802322387695312e-06, 1.4901161193847656e-06, 7.450580596923828e-07]\n"
          ]
        },
        {
          "output_type": "display_data",
          "data": {
            "text/plain": [
              "<Figure size 800x600 with 1 Axes>"
            ],
            "image/png": "[encoded data removed]"
          },
          "metadata": {}
        },
        {
          "output_type": "stream",
          "name": "stdout",
          "text": [
            "Optimized Coefficients (Numerator α): [2.03431513e-08 1.79602714e-07 1.44811012e-05 2.88105830e-05\n",
            " 2.50161467e-04 2.18030427e-04 4.48240140e-04 2.34240610e-04\n",
            " 1.41219540e-04 4.62279390e-05 7.48101914e-06 1.35196775e-06\n",
            " 0.00000000e+00]\n",
            "Optimized Coefficients (Denominator β): [ 1.03873564e-06  3.76880211e-06  8.49866536e-05  1.04954637e-04\n",
            "  4.23585756e-04  2.80876729e-04  3.09506074e-04  1.28658223e-04\n",
            "  4.17852201e-05  1.04582434e-05  6.53451046e-07  7.61631457e-08\n",
            " -3.06414786e-09]\n",
            "Optimal θ: 2.7005696935355626e-09\n"
          ]
        }
      ]
    },
    {
      "cell_type": "markdown",
      "source": [
        "**Testing**"
      ],
      "metadata": {
        "id": "IefL_CZJtdsy"
      }
    },
    {
      "cell_type": "code",
      "source": [
        "import matplotlib.pyplot as plt\n",
        "\n",
        "def plot_functions(target_function, rational_function, alpha, beta, x_range):\n",
        "    # Generate points for the plot\n",
        "    x_test = cp.linspace(x_range[0], x_range[1], 900)  # Use CuPy for GPU computations\n",
        "    y_target = target_function(x_test)  # Compute the target function values\n",
        "    y_rational = cp.array([rational_function(x, alpha, beta) for x in x_test])  # Compute rational function values\n",
        "\n",
        "    # Convert CuPy arrays to NumPy for plotting\n",
        "    x_test = cp.asnumpy(x_test)\n",
        "    y_target = cp.asnumpy(y_target)\n",
        "    y_rational = cp.asnumpy(y_rational)\n",
        "\n",
        "    # Plot the functions\n",
        "    plt.figure(figsize=(8, 6))\n",
        "    plt.plot(x_test, y_target, label=\"Target Function\", color=\"blue\", linewidth=2)\n",
        "    plt.plot(x_test, y_rational, label=\"Rational Function Approximation\", color=\"red\", linestyle=\"--\", linewidth=2)\n",
        "    plt.scatter(cp.asnumpy(x_data), cp.asnumpy(y_data), label=\"Data Points\", color=\"purple\", marker=\"o\")\n",
        "    plt.xlabel(\"x\")\n",
        "    plt.ylabel(\"f(x)\")\n",
        "    plt.title(\"Target Function vs Rational Function Approximation\")\n",
        "    plt.legend()\n",
        "    plt.grid(True)\n",
        "    plt.show()\n",
        "\n",
        "# Main execution for plotting\n",
        "if __name__ == \"__main__\":\n",
        "    # Test points range for plotting\n",
        "    x_range = [-9, 9]\n",
        "\n",
        "    # Call the plotting function\n",
        "    plot_functions(target_function, rational_function, optimal_alpha, optimal_beta, x_range)"
      ],
      "metadata": {
        "id": "zjeaGpZSter7",
        "outputId": "44031b8f-b9ed-447e-a96d-316e94a33af0",
        "colab": {
          "base_uri": "https://localhost:8080/",
          "height": 564
        }
      },
      "execution_count": 18,
      "outputs": [
        {
          "output_type": "display_data",
          "data": {
            "text/plain": [
              "<Figure size 800x600 with 1 Axes>"
            ],
            "image/png": "[encoded data removed]"
          },
          "metadata": {}
        }
      ]
    }
  ]
}