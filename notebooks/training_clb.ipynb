{
  "nbformat": 4,
  "nbformat_minor": 0,
  "metadata": {
    "colab": {
      "provenance": [],
      "gpuType": "L4",
      "authorship_tag": "ABX9TyOmZN6sYFIyzyJNE4X9Vu1H",
      "include_colab_link": true
    },
    "kernelspec": {
      "name": "python3",
      "display_name": "Python 3"
    },
    "language_info": {
      "name": "python"
    },
    "accelerator": "GPU"
  },
  "cells": [
    {
      "cell_type": "markdown",
      "metadata": {
        "id": "view-in-github",
        "colab_type": "text"
      },
      "source": [
        "<a href=\"https://colab.research.google.com/github/AP-047/RClass-Classification-by-Rational-Approximation/blob/main/notebooks/training_clb.ipynb\" target=\"_parent\"><img src=\"https://colab.research.google.com/assets/colab-badge.svg\" alt=\"Open In Colab\"/></a>"
      ]
    },
    {
      "cell_type": "markdown",
      "source": [
        "**Set Locale to UTF-8**"
      ],
      "metadata": {
        "id": "iPA6Xca8ECoV"
      }
    },
    {
      "cell_type": "code",
      "source": [
        "!apt-get install -y locales\n",
        "!locale-gen en_US.UTF-8\n",
        "!update-locale LANG=en_US.UTF-8"
      ],
      "metadata": {
        "colab": {
          "base_uri": "https://localhost:8080/"
        },
        "id": "iDGYow0gEDlz",
        "outputId": "c76fa227-7c4a-4843-d6ea-f4f19fba4b65"
      },
      "execution_count": null,
      "outputs": [
        {
          "output_type": "stream",
          "name": "stdout",
          "text": [
            "Reading package lists... Done\n",
            "Building dependency tree... Done\n",
            "Reading state information... Done\n",
            "locales is already the newest version (2.35-0ubuntu3.8).\n",
            "0 upgraded, 0 newly installed, 0 to remove and 49 not upgraded.\n",
            "Generating locales (this might take a while)...\n",
            "  en_US.UTF-8... done\n",
            "Generation complete.\n"
          ]
        }
      ]
    },
    {
      "cell_type": "markdown",
      "source": [
        "**Install CuPy for CUDA 12.2**"
      ],
      "metadata": {
        "id": "RJoWl-t-D-az"
      }
    },
    {
      "cell_type": "code",
      "source": [
        "!pip install cupy-cuda12x"
      ],
      "metadata": {
        "colab": {
          "base_uri": "https://localhost:8080/"
        },
        "id": "4PX9j1H0D_sw",
        "outputId": "f9cd4dfb-9c2b-4ef1-adb4-71a98d309181"
      },
      "execution_count": null,
      "outputs": [
        {
          "output_type": "stream",
          "name": "stdout",
          "text": [
            "Requirement already satisfied: cupy-cuda12x in /usr/local/lib/python3.10/dist-packages (12.2.0)\n",
            "Requirement already satisfied: numpy<1.27,>=1.20 in /usr/local/lib/python3.10/dist-packages (from cupy-cuda12x) (1.26.4)\n",
            "Requirement already satisfied: fastrlock>=0.5 in /usr/local/lib/python3.10/dist-packages (from cupy-cuda12x) (0.8.2)\n"
          ]
        }
      ]
    },
    {
      "cell_type": "markdown",
      "source": [
        "**Step 1: Import Data**"
      ],
      "metadata": {
        "id": "bUJ52GlEoPaS"
      }
    },
    {
      "cell_type": "code",
      "execution_count": null,
      "metadata": {
        "id": "yiaJ_WXFXb7F",
        "colab": {
          "base_uri": "https://localhost:8080/"
        },
        "outputId": "f5420aeb-ee7b-4f35-8a6f-a98842b57908"
      },
      "outputs": [
        {
          "output_type": "stream",
          "name": "stdout",
          "text": [
            "x_full shape: (70000, 784), y_full shape: (70000,)\n"
          ]
        }
      ],
      "source": [
        "from sklearn.datasets import fetch_openml\n",
        "import numpy as np\n",
        "\n",
        "# Import MNIST dataset\n",
        "mnist = fetch_openml('mnist_784', version=1)\n",
        "x_full = mnist.data.values  # Full dataset\n",
        "y_full = mnist.target.values.astype(int)  # Labels (0–9)\n",
        "\n",
        "print(f\"x_full shape: {x_full.shape}, y_full shape: {y_full.shape}\")"
      ]
    },
    {
      "cell_type": "markdown",
      "source": [
        "**Step 2: Create Subset**"
      ],
      "metadata": {
        "id": "GeL0QEKqoU9C"
      }
    },
    {
      "cell_type": "code",
      "source": [
        "# Create a subset of training data (1000 images per digit)\n",
        "subset_size = 1000\n",
        "\n",
        "x_subset = []\n",
        "y_subset = []\n",
        "\n",
        "for digit in range(10):\n",
        "    digit_indices = np.where(y_full == digit)[0][:subset_size]\n",
        "    x_subset.append(x_full[digit_indices])\n",
        "    y_subset.append(y_full[digit_indices])\n",
        "\n",
        "x_subset = np.vstack(x_subset)\n",
        "y_subset = np.hstack(y_subset)\n",
        "\n",
        "print(f\"x_subset shape: {x_subset.shape}, y_subset shape: {y_subset.shape}\")\n",
        "print(f\"Unique labels in y_subset: {np.unique(y_subset)}\")\n",
        "print(f\"x_subset[3].shape: {x_subset[3].shape}\")"
      ],
      "metadata": {
        "colab": {
          "base_uri": "https://localhost:8080/"
        },
        "id": "tBUDI_IAoYpB",
        "outputId": "1a3c2e2f-8230-4d8d-a427-9a50109656da"
      },
      "execution_count": null,
      "outputs": [
        {
          "output_type": "stream",
          "name": "stdout",
          "text": [
            "x_subset shape: (10000, 784), y_subset shape: (10000,)\n",
            "Unique labels in y_subset: [0 1 2 3 4 5 6 7 8 9]\n",
            "x_subset[3].shape: (784,)\n"
          ]
        }
      ]
    },
    {
      "cell_type": "markdown",
      "source": [
        "**Step 3: Preprocess Data**"
      ],
      "metadata": {
        "id": "zBmrbgqgoY6_"
      }
    },
    {
      "cell_type": "code",
      "source": [
        "# Thresholding: Convert to binary\n",
        "threshold_value = 128\n",
        "x_binarized = (x_subset > threshold_value).astype(int)\n",
        "\n",
        "print(f\"x_binarized shape: {x_binarized.shape}\")"
      ],
      "metadata": {
        "colab": {
          "base_uri": "https://localhost:8080/"
        },
        "id": "e4C3RGZRochy",
        "outputId": "57f3e45c-0817-4ac8-d8d2-41e954f77baa"
      },
      "execution_count": null,
      "outputs": [
        {
          "output_type": "stream",
          "name": "stdout",
          "text": [
            "x_binarized shape: (10000, 784)\n"
          ]
        }
      ]
    },
    {
      "cell_type": "markdown",
      "source": [
        "**Step 4: Apply PCA**"
      ],
      "metadata": {
        "id": "xsxz1Z2woefg"
      }
    },
    {
      "cell_type": "code",
      "source": [
        "from sklearn.decomposition import PCA\n",
        "\n",
        "# Apply PCA to reduce dimensionality\n",
        "n_components = 180\n",
        "  # Adjustable based on explained variance\n",
        "pca = PCA(n_components=n_components)\n",
        "x_pca = pca.fit_transform(x_binarized)\n",
        "\n",
        "print(f\"Original shape: {x_binarized.shape}, PCA shape: {x_pca.shape}\")\n",
        "print(f\"variance retained: {np.sum(pca.explained_variance_ratio_)}\")\n",
        "\n",
        "print(f\"shape of x_pca: \", x_pca.shape)\n",
        "print(f\"shape of x_pca[0]: \", x_pca[0].shape)\n",
        "\n",
        "# print(f\"heck any image vector: \", x_pca[250])"
      ],
      "metadata": {
        "colab": {
          "base_uri": "https://localhost:8080/"
        },
        "id": "N_NP74bOogei",
        "outputId": "c211c4c2-b8a2-4931-9b24-8b57dac94672"
      },
      "execution_count": null,
      "outputs": [
        {
          "output_type": "stream",
          "name": "stdout",
          "text": [
            "Original shape: (10000, 784), PCA shape: (10000, 180)\n",
            "variance retained: 0.9005184150802336\n",
            "shape of x_pca:  (10000, 180)\n",
            "shape of x_pca[0]:  (180,)\n"
          ]
        }
      ]
    },
    {
      "cell_type": "markdown",
      "source": [
        "**Step 5: Define Rational Function**"
      ],
      "metadata": {
        "id": "-UgUlxtByWIm"
      }
    },
    {
      "cell_type": "code",
      "source": [
        "import cupy as cp\n",
        "def rational_function(x, alpha, beta):\n",
        "    \"\"\"\n",
        "    r(x) = (α_0 + α_1*x1**1 + α_2*x2**2 + α_3*x3**3 + ...) /\n",
        "            (β_0 + β_1*x1**1 + β_2*x2**2 + β_3*x3**3 + ...)\n",
        "    \"\"\"\n",
        "    # Ensure x is treated as a 1D vector when passed for a single data point\n",
        "    x = cp.asarray(x)  # Convert to CuPy array\n",
        "\n",
        "    # Numerator polynomial\n",
        "    numerator = alpha[0] + alpha[1] * x[0]**1 + alpha[2] * x[1]**2 + alpha[3] * x[2]**3 + alpha[4] * x[3]**4 + alpha[5] * x[4]**5 + alpha[6] * x[5]**6 + alpha[7] * x[6]**7 + alpha[8] * x[7]**8 + alpha[9] * x[8]**9 + alpha[10] * x[9]**10 + alpha[11] * x[10]**11 + alpha[12] * x[11]**12 + alpha[13] * x[12]**13 + alpha[14] * x[13]**14 + alpha[15] * x[14]**15 + alpha[16] * x[15]**16 + alpha[17] * x[16]**17 + alpha[18] * x[17]**18 + alpha[19] * x[18]**19 + alpha[20] * x[19]**20 + alpha[21] * x[20]**21 + alpha[22] * x[21]**22 + alpha[23] * x[22]**23 + alpha[24] * x[23]**24 + alpha[25] * x[24]**25 + alpha[26] * x[25]**26 + alpha[27] * x[26]**27 + alpha[28] * x[27]**28 + alpha[29] * x[28]**29 + alpha[30] * x[29]**30 + alpha[31] * x[30]**31 + alpha[32] * x[31]**32 + alpha[33] * x[32]**33 + alpha[34] * x[33]**34 + alpha[35] * x[34]**35 + alpha[36] * x[35]**36 + alpha[37] * x[36]**37 + alpha[38] * x[37]**38 + alpha[39] * x[38]**39 + alpha[40] * x[39]**40 + alpha[41] * x[40]**41 + alpha[42] * x[41]**42 + alpha[43] * x[42]**43 + alpha[44] * x[43]**44 + alpha[45] * x[44]**45\n",
        "\n",
        "    # + alpha[46] * x[45]**46 + alpha[47] * x[46]**47 + alpha[48] * x[47]**48 + alpha[49] * x[48]**49 + alpha[50] * x[49]**50 + alpha[51] * x[50]**51 +\n",
        "\n",
        "    # Denominator polynomial\n",
        "    denominator = beta[0] + beta[1] * x[0]**1 + beta[2] * x[1]**2 + beta[3] * x[2]**3 + beta[4] * x[3]**4 + beta[5] * x[4]**5 + beta[6] * x[5]**6 + beta[7] * x[6]** + beta[8] * x[7]**8 + beta[9] * x[8]**9 + beta[10] * x[9]**10 + beta[11] * x[10]**11 + beta[12] * x[11]**12 + beta[13] * x[12]**13 + beta[14] * x[13]**14 + beta[15] * x[14]**15 + beta[16] * x[15]**16 + beta[17] * x[16]**17 + beta[18] * x[17]**18 + beta[19] * x[18]**19 + beta[20] * x[19]**20 + beta[21] * x[20]**21 + beta[22] * x[21]**22 + beta[23] * x[22]**23 + beta[24] * x[23]**24 + beta[25] * x[24]**25 + beta[26] * x[25]**26 + beta[27] * x[26]**27 + beta[28] * x[27]**28 + beta[29] * x[28]**29 + beta[30] * x[29]**30 + beta[31] * x[30]**31 + beta[32] * x[31]**32 + beta[33] * x[32]**33 + beta[34] * x[33]**34 + beta[35] * x[34]**35 + beta[36] * x[35]**36 + beta[37] * x[36]**37 + beta[38] * x[37]**38 + beta[39] * x[38]**39 + beta[40] + beta[40] * x[39]**40 + beta[41] * x[40]**41 + beta[42] * x[41]**42 + beta[43] * x[42]**43 + beta[44] * x[43]**44 + beta[45] * x[44]**45\n",
        "\n",
        "    # + beta[46] * x[45]**46 + beta[47] * x[46]**47 + beta[48] * x[47]**48 + beta[49] * x[48]**49 + beta[50] * x[49]**50 + beta[51] * x[50]**51 + beta[52] * x[51]**52 + beta[53] * x[52]**53 + beta[54] * x[53]**54 + beta[55] * x[54]**55\n",
        "\n",
        "    return numerator / denominator\n",
        "\n",
        "# x = [1, 1, 1, 1, 1, 1, 1, 1, 1, 1, 1, 1, 1, 1, 1, 1, 1, 1, 1, 1, 1, 1, 1, 1, 1, 1, 1, 1, 1, 1, 1, 1, 1, 1, 1, 1, 1, 1, 1, 1, 1, 1, 1, 1, 1]\n",
        "# alpha = [1, 1, 1, 1, 1, 1, 1, 1, 1, 1, 1, 1, 1, 1, 1, 1, 1, 1, 1, 1, 1, 1, 1, 1, 1, 1, 1, 1, 1, 1, 1, 1, 1, 1, 1, 1, 1, 1, 1, 1, 1, 1, 1, 1, 1, 1]\n",
        "# beta = [1, 1, 1, 1, 1, 1, 1, 1, 1, 1, 1, 1, 1, 1, 1, 1, 1, 1, 1, 1, 1, 1, 1, 1, 1, 1, 1, 1, 1, 1, 1, 1, 1, 1, 1, 1, 1, 1, 1, 1, 1, 1, 1, 1, 1, 1]\n",
        "\n",
        "# print(f\"lenght of x: {len(x)}\")\n",
        "# print(f\"lenght of alpha: {len(alpha)}\")\n",
        "# print(f\"lenght of beta: {len(beta)}\")\n",
        "\n",
        "# Result = rational_function(x, alpha, beta)\n",
        "# print(f\"Result: {Result}\")"
      ],
      "metadata": {
        "id": "av5RRo4uyapv"
      },
      "execution_count": null,
      "outputs": []
    },
    {
      "cell_type": "markdown",
      "source": [
        "**Folder**"
      ],
      "metadata": {
        "id": "WzAYOdUbQWLy"
      }
    },
    {
      "cell_type": "code",
      "source": [
        "import os\n",
        "\n",
        "# Define the path to the models/ directory in Colab Notebooks\n",
        "models_dir = \"/content/drive/MyDrive/Colab Notebooks/models/\"\n",
        "\n",
        "# Create the directory if it does not exist\n",
        "if not os.path.exists(models_dir):\n",
        "    os.makedirs(models_dir)\n",
        "    print(f\"Directory '{models_dir}' created successfully.\")\n",
        "else:\n",
        "    print(f\"Directory '{models_dir}' already exists.\")"
      ],
      "metadata": {
        "colab": {
          "base_uri": "https://localhost:8080/"
        },
        "id": "3z574s07QX_m",
        "outputId": "5fcf725d-404c-4fb8-8ec6-648ba8a50660"
      },
      "execution_count": null,
      "outputs": [
        {
          "output_type": "stream",
          "name": "stdout",
          "text": [
            "Directory '/content/drive/MyDrive/Colab Notebooks/models/' already exists.\n"
          ]
        }
      ]
    },
    {
      "cell_type": "markdown",
      "source": [
        "**Step 6: Train Classifiers**"
      ],
      "metadata": {
        "id": "q2LyFYx6oiZy"
      }
    },
    {
      "cell_type": "code",
      "source": [
        "import pickle\n",
        "import cupy as cp\n",
        "import numpy as np\n",
        "from scipy.optimize import linprog\n",
        "import matplotlib.pyplot as plt\n",
        "\n",
        "# Feasibility check function\n",
        "def check_feasibility_and_compute_coefficients(z, x_pca, y_binary):\n",
        "    num_data_points = x_pca.shape[0]\n",
        "    num_coefficients = n_components + 1  # (1 constant term + 4 variables)\n",
        "    delta = 1e-6  # a small positive value\n",
        "\n",
        "    # Construct G(x) and H(x) matrices for numerator and denominator\n",
        "    G = cp.zeros((num_data_points, num_coefficients))  # Numerator matrix\n",
        "    H = cp.zeros((num_data_points, num_coefficients))  # Denominator matrix\n",
        "\n",
        "    for i in range(num_data_points):\n",
        "      G[i, 0] = 1\n",
        "      H[i, 0] = 1\n",
        "      for j in range(num_coefficients-1):\n",
        "        G[i, j+1] = x_pca[i, j] ** (j+1)\n",
        "        H[i, j+1] = x_pca[i, j] ** (j+1)\n",
        "\n",
        "    # print(f\"G: {G}\")\n",
        "    # print(f\"H: {H}\")\n",
        "\n",
        "    # Construct constraints for Ax <= b\n",
        "    A = []\n",
        "    b = []\n",
        "\n",
        "    for i in range(num_data_points):\n",
        "        f_plus_z = y_binary[i] + z  # Upper bound\n",
        "        f_minus_z = y_binary[i] - z  # Lower bound\n",
        "\n",
        "        # Constraint 1: (f(xi) - z) * β^T H(xi) - α^T G(xi) ≤ θ\n",
        "        # (-G(xi))αT + (f(xi) - z).H(xi)βT + (-1)θ ≤ 0\n",
        "        constraint_1 = cp.zeros(2 * num_coefficients + 1)\n",
        "        # (1) Coefficients of α\n",
        "        constraint_1[0:num_coefficients] = -G[i]\n",
        "        # (2) Coefficients of β\n",
        "        constraint_1[num_coefficients:2 * num_coefficients] = (f_minus_z) * H[i]\n",
        "        # (3) Coefficient of θ (last element)\n",
        "        constraint_1[-1] = -1\n",
        "        A.append(constraint_1)\n",
        "        b.append(0)\n",
        "\n",
        "        # Constraint 2: α^T G(xi) + (-1).(f(xi) + z) * β^T H(xi) ≤ θ\n",
        "        # G(xi).αT + (-1)(f(xi) - z).H(xi)βT + (-1)θ ≤ 0\n",
        "        constraint_2 = cp.zeros(2 * num_coefficients + 1)\n",
        "        # (1) Coefficients of α\n",
        "        constraint_2[0:num_coefficients] = G[i]\n",
        "        # (2) Coefficients of β\n",
        "        constraint_2[num_coefficients:2 * num_coefficients] = -(f_plus_z) * H[i]\n",
        "        # (3) Coefficient of θ (last element)\n",
        "        constraint_2[-1] = -1\n",
        "        A.append(constraint_2)\n",
        "        b.append(0)\n",
        "\n",
        "        # Constraint 3: β^T H(x) ≥ δ\n",
        "        # (0)α^T + (-H(x)) β^T + (0)θ ≤ -δ\n",
        "        constraint_3 = cp.zeros(2 * num_coefficients + 1)\n",
        "        # Coefficient of β\n",
        "        constraint_3[num_coefficients:2 * num_coefficients] = -H[i]\n",
        "        A.append(constraint_3)\n",
        "        b.append(-delta)\n",
        "\n",
        "    # Convert CuPy arrays to NumPy arrays for SciPy\n",
        "    A = cp.asnumpy(cp.array(A))\n",
        "    b = cp.asnumpy(cp.array(b))\n",
        "\n",
        "    # print(f\"A =\", len(A))\n",
        "    # print(f\"A: {A[0]}\")\n",
        "    # print(f\"len(A[0]): {len(A[0])}\")\n",
        "    # print(f\"len(b): {len(b)}\")\n",
        "\n",
        "    # Objective function to minimize θ\n",
        "    c = cp.asnumpy(cp.zeros(2 * num_coefficients + 1))\n",
        "    c[-1] = 1  # Only θ has a coefficient in the objective function\n",
        "\n",
        "    # Solve the linear programming problem\n",
        "    result = linprog(c, A_ub=A, b_ub=b, method=\"highs\")\n",
        "\n",
        "    # Check feasibility and return results\n",
        "    if result.success:\n",
        "        alpha_coefficients = result.x[:num_coefficients]\n",
        "        beta_coefficients = result.x[num_coefficients:2 * num_coefficients]\n",
        "        theta = result.x[-1]\n",
        "        return True, alpha_coefficients, beta_coefficients, theta\n",
        "    else:\n",
        "        return False, None, None, None\n",
        "\n",
        "\n",
        "# Bisection loop\n",
        "def bisection_loop(x_pca, y_binary, uL, uH, precision):\n",
        "    optimal_alpha, optimal_beta, optimal_theta = None, None, None\n",
        "    z_values = []\n",
        "\n",
        "    while uH - uL > precision:\n",
        "        z = (uL + uH) / 2\n",
        "        z_values.append(z)\n",
        "        feasible, alpha_coefficients, beta_coefficients, theta = check_feasibility_and_compute_coefficients(z, x_pca, y_binary)\n",
        "\n",
        "        if feasible:\n",
        "            uH = z\n",
        "            optimal_alpha, optimal_beta, optimal_theta = alpha_coefficients, beta_coefficients, theta\n",
        "        else:\n",
        "            uL = z\n",
        "\n",
        "    return uH, optimal_alpha, optimal_beta, optimal_theta, z_values\n",
        "\n",
        "# Train a classifier for each digit\n",
        "for digit in range(10):\n",
        "    print(f\"Training classifier for digit {digit}...\")\n",
        "\n",
        "    # Assign labels: Positive for the current digit, negative for others\n",
        "    y_binary = (y_subset == digit).astype(int)\n",
        "\n",
        "    # Bisection parameters\n",
        "    uL = 0  # Initial lower bound\n",
        "    uH = 1000  # Initial upper bound\n",
        "    precision = 1e-6  # Precision threshold\n",
        "\n",
        "    # Run bisection loop\n",
        "    optimal_z, optimal_alpha, optimal_beta, optimal_theta, z_values = bisection_loop(x_pca, y_binary, uL, uH, precision)\n",
        "\n",
        "    # Print results\n",
        "    print(f\"Number of Iterations: {len(z_values)}\")\n",
        "    print(f\"z Values in all Iterations: {z_values}\")\n",
        "    print(f\"Optimal z (Maximum Deviation): {optimal_z}\")\n",
        "\n",
        "    # # Plot convergence of z values\n",
        "    # plt.figure(figsize=(8, 6))\n",
        "    # plt.plot(range(len(z_values)), z_values, marker='o', linestyle='-')\n",
        "    # plt.xlabel(\"Iteration\")\n",
        "    # plt.ylabel(\"z Value\")\n",
        "    # plt.title(\"Convergence of z Values\")\n",
        "    # plt.grid(True)\n",
        "    # plt.show()\n",
        "\n",
        "    print(f\"Optimized Coefficients (Numerator α): {optimal_alpha}\")\n",
        "    print(f\"Optimized Coefficients (Denominator β): {optimal_beta}\")\n",
        "    print(f\"Optimal θ: {optimal_theta}\")\n",
        "    # print(f\"rational_function =\", rational_function(x_pca[0], optimal_alpha, optimal_beta))\n",
        "\n",
        "    # Save the model\n",
        "    model = {\n",
        "        \"alpha\": optimal_alpha,\n",
        "        \"beta\": optimal_beta,\n",
        "        \"theta\": optimal_theta,\n",
        "        \"n_components\": n_components\n",
        "    }\n",
        "\n",
        "    with open(f\"{models_dir}classifier_{digit}.pkl\", \"wb\") as file:\n",
        "        pickle.dump(model, file)\n",
        "\n",
        "    print(f\"Model for digit {digit} saved at {models_dir}\")"
      ],
      "metadata": {
        "colab": {
          "base_uri": "https://localhost:8080/",
          "height": 716
        },
        "id": "jlrb-BHWolAN",
        "outputId": "afb592fc-cfb9-4439-9b1d-bb01547fb413"
      },
      "execution_count": null,
      "outputs": [
        {
          "output_type": "stream",
          "name": "stdout",
          "text": [
            "Training classifier for digit 0...\n",
            "Number of Iterations: 30\n",
            "z Values in all Iterations: [500.0, 750.0, 875.0, 937.5, 968.75, 984.375, 992.1875, 996.09375, 998.046875, 999.0234375, 999.51171875, 999.755859375, 999.8779296875, 999.93896484375, 999.969482421875, 999.9847412109375, 999.9923706054688, 999.9961853027344, 999.9980926513672, 999.9990463256836, 999.9995231628418, 999.9997615814209, 999.9998807907104, 999.9999403953552, 999.9999701976776, 999.9999850988388, 999.9999925494194, 999.9999962747097, 999.9999981373549, 999.9999990686774]\n",
            "Optimal z (Maximum Deviation): 1000\n",
            "Optimized Coefficients (Numerator α): None\n",
            "Optimized Coefficients (Denominator β): None\n",
            "Optimal θ: None\n",
            "Model for digit 0 saved at /content/drive/MyDrive/Colab Notebooks/models/\n",
            "Training classifier for digit 1...\n"
          ]
        },
        {
          "output_type": "error",
          "ename": "KeyboardInterrupt",
          "evalue": "",
          "traceback": [
            "\u001b[0;31m---------------------------------------------------------------------------\u001b[0m",
            "\u001b[0;31mKeyboardInterrupt\u001b[0m                         Traceback (most recent call last)",
            "\u001b[0;32m<ipython-input-44-19ea72cbcf2d>\u001b[0m in \u001b[0;36m<cell line: 112>\u001b[0;34m()\u001b[0m\n\u001b[1;32m    122\u001b[0m \u001b[0;34m\u001b[0m\u001b[0m\n\u001b[1;32m    123\u001b[0m     \u001b[0;31m# Run bisection loop\u001b[0m\u001b[0;34m\u001b[0m\u001b[0;34m\u001b[0m\u001b[0m\n\u001b[0;32m--> 124\u001b[0;31m     \u001b[0moptimal_z\u001b[0m\u001b[0;34m,\u001b[0m \u001b[0moptimal_alpha\u001b[0m\u001b[0;34m,\u001b[0m \u001b[0moptimal_beta\u001b[0m\u001b[0;34m,\u001b[0m \u001b[0moptimal_theta\u001b[0m\u001b[0;34m,\u001b[0m \u001b[0mz_values\u001b[0m \u001b[0;34m=\u001b[0m \u001b[0mbisection_loop\u001b[0m\u001b[0;34m(\u001b[0m\u001b[0mx_pca\u001b[0m\u001b[0;34m,\u001b[0m \u001b[0my_binary\u001b[0m\u001b[0;34m,\u001b[0m \u001b[0muL\u001b[0m\u001b[0;34m,\u001b[0m \u001b[0muH\u001b[0m\u001b[0;34m,\u001b[0m \u001b[0mprecision\u001b[0m\u001b[0;34m)\u001b[0m\u001b[0;34m\u001b[0m\u001b[0;34m\u001b[0m\u001b[0m\n\u001b[0m\u001b[1;32m    125\u001b[0m \u001b[0;34m\u001b[0m\u001b[0m\n\u001b[1;32m    126\u001b[0m     \u001b[0;31m# Print results\u001b[0m\u001b[0;34m\u001b[0m\u001b[0;34m\u001b[0m\u001b[0m\n",
            "\u001b[0;32m<ipython-input-44-19ea72cbcf2d>\u001b[0m in \u001b[0;36mbisection_loop\u001b[0;34m(x_pca, y_binary, uL, uH, precision)\u001b[0m\n\u001b[1;32m     99\u001b[0m         \u001b[0mz\u001b[0m \u001b[0;34m=\u001b[0m \u001b[0;34m(\u001b[0m\u001b[0muL\u001b[0m \u001b[0;34m+\u001b[0m \u001b[0muH\u001b[0m\u001b[0;34m)\u001b[0m \u001b[0;34m/\u001b[0m \u001b[0;36m2\u001b[0m\u001b[0;34m\u001b[0m\u001b[0;34m\u001b[0m\u001b[0m\n\u001b[1;32m    100\u001b[0m         \u001b[0mz_values\u001b[0m\u001b[0;34m.\u001b[0m\u001b[0mappend\u001b[0m\u001b[0;34m(\u001b[0m\u001b[0mz\u001b[0m\u001b[0;34m)\u001b[0m\u001b[0;34m\u001b[0m\u001b[0;34m\u001b[0m\u001b[0m\n\u001b[0;32m--> 101\u001b[0;31m         \u001b[0mfeasible\u001b[0m\u001b[0;34m,\u001b[0m \u001b[0malpha_coefficients\u001b[0m\u001b[0;34m,\u001b[0m \u001b[0mbeta_coefficients\u001b[0m\u001b[0;34m,\u001b[0m \u001b[0mtheta\u001b[0m \u001b[0;34m=\u001b[0m \u001b[0mcheck_feasibility_and_compute_coefficients\u001b[0m\u001b[0;34m(\u001b[0m\u001b[0mz\u001b[0m\u001b[0;34m,\u001b[0m \u001b[0mx_pca\u001b[0m\u001b[0;34m,\u001b[0m \u001b[0my_binary\u001b[0m\u001b[0;34m)\u001b[0m\u001b[0;34m\u001b[0m\u001b[0;34m\u001b[0m\u001b[0m\n\u001b[0m\u001b[1;32m    102\u001b[0m \u001b[0;34m\u001b[0m\u001b[0m\n\u001b[1;32m    103\u001b[0m         \u001b[0;32mif\u001b[0m \u001b[0mfeasible\u001b[0m\u001b[0;34m:\u001b[0m\u001b[0;34m\u001b[0m\u001b[0;34m\u001b[0m\u001b[0m\n",
            "\u001b[0;32m<ipython-input-44-19ea72cbcf2d>\u001b[0m in \u001b[0;36mcheck_feasibility_and_compute_coefficients\u001b[0;34m(z, x_pca, y_binary)\u001b[0m\n\u001b[1;32m     20\u001b[0m       \u001b[0;32mfor\u001b[0m \u001b[0mj\u001b[0m \u001b[0;32min\u001b[0m \u001b[0mrange\u001b[0m\u001b[0;34m(\u001b[0m\u001b[0mnum_coefficients\u001b[0m\u001b[0;34m-\u001b[0m\u001b[0;36m1\u001b[0m\u001b[0;34m)\u001b[0m\u001b[0;34m:\u001b[0m\u001b[0;34m\u001b[0m\u001b[0;34m\u001b[0m\u001b[0m\n\u001b[1;32m     21\u001b[0m         \u001b[0mG\u001b[0m\u001b[0;34m[\u001b[0m\u001b[0mi\u001b[0m\u001b[0;34m,\u001b[0m \u001b[0mj\u001b[0m\u001b[0;34m+\u001b[0m\u001b[0;36m1\u001b[0m\u001b[0;34m]\u001b[0m \u001b[0;34m=\u001b[0m \u001b[0mx_pca\u001b[0m\u001b[0;34m[\u001b[0m\u001b[0mi\u001b[0m\u001b[0;34m,\u001b[0m \u001b[0mj\u001b[0m\u001b[0;34m]\u001b[0m \u001b[0;34m**\u001b[0m \u001b[0;34m(\u001b[0m\u001b[0mj\u001b[0m\u001b[0;34m+\u001b[0m\u001b[0;36m1\u001b[0m\u001b[0;34m)\u001b[0m\u001b[0;34m\u001b[0m\u001b[0;34m\u001b[0m\u001b[0m\n\u001b[0;32m---> 22\u001b[0;31m         \u001b[0mH\u001b[0m\u001b[0;34m[\u001b[0m\u001b[0mi\u001b[0m\u001b[0;34m,\u001b[0m \u001b[0mj\u001b[0m\u001b[0;34m+\u001b[0m\u001b[0;36m1\u001b[0m\u001b[0;34m]\u001b[0m \u001b[0;34m=\u001b[0m \u001b[0mx_pca\u001b[0m\u001b[0;34m[\u001b[0m\u001b[0mi\u001b[0m\u001b[0;34m,\u001b[0m \u001b[0mj\u001b[0m\u001b[0;34m]\u001b[0m \u001b[0;34m**\u001b[0m \u001b[0;34m(\u001b[0m\u001b[0mj\u001b[0m\u001b[0;34m+\u001b[0m\u001b[0;36m1\u001b[0m\u001b[0;34m)\u001b[0m\u001b[0;34m\u001b[0m\u001b[0;34m\u001b[0m\u001b[0m\n\u001b[0m\u001b[1;32m     23\u001b[0m \u001b[0;34m\u001b[0m\u001b[0m\n\u001b[1;32m     24\u001b[0m     \u001b[0;31m# print(f\"G: {G}\")\u001b[0m\u001b[0;34m\u001b[0m\u001b[0;34m\u001b[0m\u001b[0m\n",
            "\u001b[0;32mcupy/_core/core.pyx\u001b[0m in \u001b[0;36mcupy._core.core._ndarray_base.__setitem__\u001b[0;34m()\u001b[0m\n",
            "\u001b[0;32mcupy/_core/_routines_indexing.pyx\u001b[0m in \u001b[0;36mcupy._core._routines_indexing._ndarray_setitem\u001b[0;34m()\u001b[0m\n",
            "\u001b[0;32mcupy/_core/_routines_indexing.pyx\u001b[0m in \u001b[0;36mcupy._core._routines_indexing._scatter_op\u001b[0;34m()\u001b[0m\n",
            "\u001b[0;32mcupy/_core/_routines_indexing.pyx\u001b[0m in \u001b[0;36mcupy._core._routines_indexing._prepare_slice_list\u001b[0;34m()\u001b[0m\n",
            "\u001b[0;32m/usr/local/lib/python3.10/dist-packages/numpy/core/numeric.py\u001b[0m in \u001b[0;36misscalar\u001b[0;34m(element)\u001b[0m\n\u001b[1;32m   1853\u001b[0m \u001b[0;34m\u001b[0m\u001b[0m\n\u001b[1;32m   1854\u001b[0m \u001b[0;34m\u001b[0m\u001b[0m\n\u001b[0;32m-> 1855\u001b[0;31m \u001b[0;34m@\u001b[0m\u001b[0mset_module\u001b[0m\u001b[0;34m(\u001b[0m\u001b[0;34m'numpy'\u001b[0m\u001b[0;34m)\u001b[0m\u001b[0;34m\u001b[0m\u001b[0;34m\u001b[0m\u001b[0m\n\u001b[0m\u001b[1;32m   1856\u001b[0m \u001b[0;32mdef\u001b[0m \u001b[0misscalar\u001b[0m\u001b[0;34m(\u001b[0m\u001b[0melement\u001b[0m\u001b[0;34m)\u001b[0m\u001b[0;34m:\u001b[0m\u001b[0;34m\u001b[0m\u001b[0;34m\u001b[0m\u001b[0m\n\u001b[1;32m   1857\u001b[0m     \"\"\"\n",
            "\u001b[0;31mKeyboardInterrupt\u001b[0m: "
          ]
        }
      ]
    },
    {
      "cell_type": "markdown",
      "source": [
        "++"
      ],
      "metadata": {
        "id": "mjM1Pk6EAwWQ"
      }
    }
  ]
}