{
  "nbformat": 4,
  "nbformat_minor": 0,
  "metadata": {
    "colab": {
      "provenance": [],
      "machine_shape": "hm",
      "gpuType": "L4",
      "authorship_tag": "ABX9TyPWEYqhe7ebaF9ysPtWWp7V",
      "include_colab_link": true
    },
    "kernelspec": {
      "name": "python3",
      "display_name": "Python 3"
    },
    "language_info": {
      "name": "python"
    },
    "accelerator": "GPU"
  },
  "cells": [
    {
      "cell_type": "markdown",
      "metadata": {
        "id": "view-in-github",
        "colab_type": "text"
      },
      "source": [
        "<a href=\"https://colab.research.google.com/github/AP-047/RClass-Classification-by-Rational-Approximation/blob/main/notebooks/milestone_1.ipynb\" target=\"_parent\"><img src=\"https://colab.research.google.com/assets/colab-badge.svg\" alt=\"Open In Colab\"/></a>"
      ]
    },
    {
      "cell_type": "markdown",
      "source": [
        "\n",
        "**1. Importing the MNIST dataset and selecting a subset**"
      ],
      "metadata": {
        "id": "J2lIFBTXls98"
      }
    },
    {
      "cell_type": "code",
      "execution_count": 19,
      "metadata": {
        "colab": {
          "base_uri": "https://localhost:8080/",
          "height": 0
        },
        "id": "PW7mUGqjRuSN",
        "outputId": "131ddb3c-754d-4859-b726-0777f440e0f5"
      },
      "outputs": [
        {
          "output_type": "stream",
          "name": "stdout",
          "text": [
            "Subset X shape (images): (1000, 28, 28)\n",
            "Subset y shape (labels): (1000,)\n"
          ]
        }
      ],
      "source": [
        "import numpy as np\n",
        "from keras.datasets import mnist\n",
        "\n",
        "# Load the MNIST dataset\n",
        "(X_full, y_full), (_, _) = mnist.load_data()\n",
        "\n",
        "# Initialize containers for subsets\n",
        "subset_X = []\n",
        "subset_y = []\n",
        "\n",
        "# Draw 100 images per digit (0-9)\n",
        "for digit in range(10):\n",
        "    digit_indices = np.where(y_full == digit)[0]\n",
        "    selected_indices = digit_indices[:100]  # Select the first 100 images for this digit\n",
        "    subset_X.append(X_full[selected_indices])\n",
        "    subset_y.append(y_full[selected_indices])\n",
        "\n",
        "# Combine the subsets\n",
        "subset_X = np.vstack(subset_X)  # Stack all selected images\n",
        "subset_y = np.hstack(subset_y)  # Stack all selected labels\n",
        "\n",
        "# Normalize pixel values to [0, 1]\n",
        "subset_X = subset_X.astype(\"float32\") / 255.0\n",
        "\n",
        "#____Testing____\n",
        "print(f\"Subset X shape (images): {subset_X.shape}\")  # Expected shape: (1000, 28, 28)\n",
        "print(f\"Subset y shape (labels): {subset_y.shape}\")  # Expected shape: (1000,)"
      ]
    },
    {
      "cell_type": "markdown",
      "source": [
        "**2. Dimensionality reduction using PCA**"
      ],
      "metadata": {
        "id": "wZZpVgcgTXdj"
      }
    },
    {
      "cell_type": "code",
      "source": [
        "from sklearn.decomposition import PCA\n",
        "\n",
        "# Flatten the images to shape (1000, 784)\n",
        "subset_X_flattened = subset_X.reshape(subset_X.shape[0], -1)\n",
        "\n",
        "# Apply PCA to reduce to 50 components\n",
        "pca = PCA(n_components=50)\n",
        "subset_X_reduced = pca.fit_transform(subset_X_flattened)\n",
        "\n",
        "\n",
        "#____Testing____\n",
        "# Print the new shape of the dataset\n",
        "print(f\"Reduced X shape (after PCA): {subset_X_reduced.shape}\")\n",
        "# Print the explained variance ratio to verify the retained variance\n",
        "explained_variance = np.sum(pca.explained_variance_ratio_)\n",
        "print(f\"Total explained variance retained: {explained_variance * 100:.2f}%\")\n",
        "\n",
        "#____Testing____\n",
        "# Set the desired label (digit) to inspect\n",
        "desired_label = 3\n",
        "# Find the index of the first occurrence of the desired label\n",
        "index = np.where(subset_y == desired_label)[0][0]\n",
        "# Get the corresponding reduced vector from PCA\n",
        "selected_vector = subset_X_reduced[index]\n",
        "# Print the vector and its length\n",
        "print(f\"Vector for digit {desired_label}: {selected_vector}\")\n",
        "print(f\"Length of the vector: {len(selected_vector)}\")"
      ],
      "metadata": {
        "colab": {
          "base_uri": "https://localhost:8080/"
        },
        "id": "97PZpegJTf3D",
        "outputId": "991fb00e-7489-4f9b-ec05-d1e73e7884d3"
      },
      "execution_count": 46,
      "outputs": [
        {
          "output_type": "stream",
          "name": "stdout",
          "text": [
            "Reduced X shape (after PCA): (1000, 50)\n",
            "Total explained variance retained: 84.14%\n",
            "Vector for digit 3: [ 2.17378259e+00  2.27192903e+00  5.60351968e-01  3.62105489e+00\n",
            " -1.00301944e-01  3.54436684e+00  1.42353439e+00  6.69777095e-01\n",
            " -9.05319676e-03  5.96990466e-01  1.07467473e-01  1.01039626e-01\n",
            " -7.79237509e-01 -6.47687241e-02  4.35086459e-01 -4.70628738e-02\n",
            " -1.33318758e+00  1.05582678e+00 -9.92186666e-02 -3.55662256e-01\n",
            " -1.46662667e-01  4.77433264e-01  2.06508845e-01 -1.34056509e+00\n",
            " -1.96838498e-01  6.70858085e-01  1.25448406e-01 -3.05725634e-01\n",
            " -6.78530633e-01 -1.37480676e-01  2.02044547e-01  1.97795823e-01\n",
            " -3.41914967e-02 -1.39779508e-01  4.61459041e-01  6.18021548e-01\n",
            "  8.46560448e-02  2.88089782e-01  1.42768025e-03  4.39938545e-01\n",
            "  6.20615005e-01  5.95204979e-02  1.78914055e-01 -7.14286491e-02\n",
            "  7.75694773e-02 -5.21088019e-03  1.88026175e-01  3.14972103e-02\n",
            " -1.08452193e-01 -1.82145447e-01]\n",
            "Length of the vector: 50\n"
          ]
        }
      ]
    },
    {
      "cell_type": "markdown",
      "source": [
        "**3. Implement simple multi-variate rational function**"
      ],
      "metadata": {
        "id": "yerTOkPdYKKb"
      }
    },
    {
      "cell_type": "code",
      "source": [
        "import numpy as np\n",
        "\n",
        "# Define number of variables and the polynomial degree\n",
        "num_variables = 50\n",
        "degree = 4\n",
        "\n",
        "# Randomly initialize coefficients\n",
        "np.random.seed(47)  # for reproducibility\n",
        "nm_cf = np.random.rand(num_variables + 1)  # Numerator coefficients\n",
        "dn_cf = np.random.rand(num_variables + 1)  # Denominator coefficients\n",
        "\n",
        "# Define the rational function\n",
        "def rational_function(x, nm_cf, dn_cf):\n",
        "    # Construct the numerator (P) and denominator (Q) polynomials\n",
        "    P = sum(nm_cf[i] * x[i]**degree for i in range(len(x))) + nm_cf[-1]\n",
        "    Q = sum(dn_cf[i] * x[i]**degree for i in range(len(x))) + dn_cf[-1]\n",
        "\n",
        "    # Avoid division by zero\n",
        "    if Q == 0:\n",
        "        return float('inf')\n",
        "    return P / Q\n",
        "\n",
        "#____Testing____\n",
        "sample_vector = subset_X_reduced[0]  # First PCA-reduced vector\n",
        "output = rational_function(sample_vector, nm_cf, dn_cf)\n",
        "\n",
        "print(f\"Numerator coefficients (nm_cf): {nm_cf}\")\n",
        "print(f\"Denominator coefficients (dn_cf): {dn_cf}\")\n",
        "print(f\"Output of the rational function: {output}\")"
      ],
      "metadata": {
        "id": "fDmfPShHwRvN",
        "outputId": "2b17c095-7fb9-48cd-9bc4-a2cb439c6e71",
        "colab": {
          "base_uri": "https://localhost:8080/"
        }
      },
      "execution_count": 47,
      "outputs": [
        {
          "output_type": "stream",
          "name": "stdout",
          "text": [
            "Numerator coefficients (nm_cf): [0.11348847 0.97448309 0.72873463 0.35146781 0.70760514 0.7996046\n",
            " 0.64556185 0.41459961 0.70603101 0.24664938 0.25599243 0.02401135\n",
            " 0.09872595 0.30043644 0.64085568 0.32220795 0.18549414 0.91719355\n",
            " 0.2709208  0.27354789 0.95441268 0.12711457 0.74726485 0.00523796\n",
            " 0.85679061 0.6959562  0.5530257  0.9352358  0.51262353 0.17761207\n",
            " 0.53686579 0.29345982 0.01060205 0.88380072 0.65641065 0.94225597\n",
            " 0.7449453  0.26721045 0.36186288 0.52640389 0.54688497 0.25867032\n",
            " 0.17463635 0.36071026 0.14018227 0.38907866 0.47188833 0.96882692\n",
            " 0.14556745 0.51425472 0.52765183]\n",
            "Denominator coefficients (dn_cf): [0.30524252 0.15967476 0.59691153 0.10372881 0.56796609 0.38630638\n",
            " 0.08472205 0.56199918 0.64807168 0.66193395 0.18924281 0.95410895\n",
            " 0.05902446 0.88020624 0.78375816 0.25247741 0.92709052 0.4447506\n",
            " 0.37715133 0.89382348 0.75405387 0.77445802 0.87904851 0.48148232\n",
            " 0.30290073 0.44292787 0.52813285 0.60814462 0.52524497 0.97796815\n",
            " 0.60203988 0.83529596 0.08537584 0.48829082 0.90031302 0.91705588\n",
            " 0.21688352 0.40062124 0.54517216 0.64192219 0.47363051 0.56357413\n",
            " 0.58928365 0.31358832 0.75801858 0.85716649 0.47649792 0.86313715\n",
            " 0.66091439 0.55049942 0.79979425]\n",
            "Output of the rational function: 0.7706694665350433\n"
          ]
        }
      ]
    },
    {
      "cell_type": "markdown",
      "source": [
        "**Optimization Phase**"
      ],
      "metadata": {
        "id": "yNCR7iOaeVUf"
      }
    }
  ]
}