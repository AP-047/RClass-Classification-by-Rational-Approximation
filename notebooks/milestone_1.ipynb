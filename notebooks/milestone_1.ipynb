{
  "nbformat": 4,
  "nbformat_minor": 0,
  "metadata": {
    "colab": {
      "provenance": [],
      "machine_shape": "hm",
      "gpuType": "L4",
      "authorship_tag": "ABX9TyMQ9B38aWFskw5qYSnobOky",
      "include_colab_link": true
    },
    "kernelspec": {
      "name": "python3",
      "display_name": "Python 3"
    },
    "language_info": {
      "name": "python"
    },
    "accelerator": "GPU"
  },
  "cells": [
    {
      "cell_type": "markdown",
      "metadata": {
        "id": "view-in-github",
        "colab_type": "text"
      },
      "source": [
        "<a href=\"https://colab.research.google.com/github/AP-047/RClass-Classification-by-Rational-Approximation/blob/main/notebooks/milestone_1.ipynb\" target=\"_parent\"><img src=\"https://colab.research.google.com/assets/colab-badge.svg\" alt=\"Open In Colab\"/></a>"
      ]
    },
    {
      "cell_type": "markdown",
      "source": [
        "\n",
        "**1. Importing the MNIST dataset and selecting a subset**"
      ],
      "metadata": {
        "id": "J2lIFBTXls98"
      }
    },
    {
      "cell_type": "code",
      "execution_count": 19,
      "metadata": {
        "colab": {
          "base_uri": "https://localhost:8080/"
        },
        "id": "PW7mUGqjRuSN",
        "outputId": "131ddb3c-754d-4859-b726-0777f440e0f5"
      },
      "outputs": [
        {
          "output_type": "stream",
          "name": "stdout",
          "text": [
            "Subset X shape (images): (1000, 28, 28)\n",
            "Subset y shape (labels): (1000,)\n"
          ]
        }
      ],
      "source": [
        "import numpy as np\n",
        "from keras.datasets import mnist\n",
        "\n",
        "# Load the MNIST dataset\n",
        "(X_full, y_full), (_, _) = mnist.load_data()\n",
        "\n",
        "# Initialize containers for subsets\n",
        "subset_X = []\n",
        "subset_y = []\n",
        "\n",
        "# Draw 100 images per digit (0-9)\n",
        "for digit in range(10):\n",
        "    digit_indices = np.where(y_full == digit)[0]\n",
        "    selected_indices = digit_indices[:100]  # Select the first 100 images for this digit\n",
        "    subset_X.append(X_full[selected_indices])\n",
        "    subset_y.append(y_full[selected_indices])\n",
        "\n",
        "# Combine the subsets\n",
        "subset_X = np.vstack(subset_X)  # Stack all selected images\n",
        "subset_y = np.hstack(subset_y)  # Stack all selected labels\n",
        "\n",
        "# Normalize pixel values to [0, 1]\n",
        "subset_X = subset_X.astype(\"float32\") / 255.0\n",
        "\n",
        "#____Testing____\n",
        "print(f\"Subset X shape (images): {subset_X.shape}\")  # Expected shape: (1000, 28, 28)\n",
        "print(f\"Subset y shape (labels): {subset_y.shape}\")  # Expected shape: (1000,)"
      ]
    },
    {
      "cell_type": "markdown",
      "source": [
        "**2. Dimensionality reduction using PCA**"
      ],
      "metadata": {
        "id": "wZZpVgcgTXdj"
      }
    },
    {
      "cell_type": "code",
      "source": [
        "from sklearn.decomposition import PCA\n",
        "\n",
        "# Flatten the images to shape (1000, 784)\n",
        "subset_X_flattened = subset_X.reshape(subset_X.shape[0], -1)\n",
        "\n",
        "# Apply PCA to reduce to 50 components\n",
        "pca = PCA(n_components=50)\n",
        "subset_X_reduced = pca.fit_transform(subset_X_flattened)\n",
        "\n",
        "\n",
        "#____Testing____\n",
        "# Print the new shape of the dataset\n",
        "print(f\"Reduced X shape (after PCA): {subset_X_reduced.shape}\")\n",
        "# Print the explained variance ratio to verify the retained variance\n",
        "explained_variance = np.sum(pca.explained_variance_ratio_)\n",
        "print(f\"Total explained variance retained: {explained_variance * 100:.2f}%\")\n",
        "\n",
        "#____Testing____\n",
        "# Set the desired label (digit) to inspect\n",
        "desired_label = 3\n",
        "# Find the index of the first occurrence of the desired label\n",
        "index = np.where(subset_y == desired_label)[0][0]\n",
        "# Get the corresponding reduced vector from PCA\n",
        "selected_vector = subset_X_reduced[index]\n",
        "# Print the vector and its length\n",
        "print(f\"Vector for digit {desired_label}: {selected_vector}\")\n",
        "print(f\"Length of the vector: {len(selected_vector)}\")"
      ],
      "metadata": {
        "colab": {
          "base_uri": "https://localhost:8080/"
        },
        "id": "97PZpegJTf3D",
        "outputId": "0675729a-3c2c-4a48-ed59-7d26ff8805b3"
      },
      "execution_count": 20,
      "outputs": [
        {
          "output_type": "stream",
          "name": "stdout",
          "text": [
            "Reduced X shape (after PCA): (1000, 50)\n",
            "Total explained variance retained: 84.13%\n",
            "Vector for digit 3: [ 2.1737843   2.2719154   0.5603799   3.6210668  -0.10026538  3.544359\n",
            "  1.4235294   0.6697829  -0.00906836  0.59699255  0.10746204  0.10104614\n",
            " -0.7792362  -0.06476107  0.43508944 -0.04706734 -1.3331981   1.0558177\n",
            " -0.09923563 -0.35563737 -0.14666994  0.4774493   0.20649122 -1.3405517\n",
            " -0.19683918  0.67087394  0.12541449 -0.30570272 -0.6784954  -0.13758592\n",
            "  0.20175792  0.1983411  -0.03441443 -0.1392019   0.46415824  0.6184237\n",
            "  0.0841008   0.28841558  0.00554711  0.43878043  0.62503815  0.06517712\n",
            "  0.21008125 -0.04887159  0.11035094 -0.03693259  0.13809957  0.04459683\n",
            " -0.04487007 -0.31000057]\n",
            "Length of the vector: 50\n"
          ]
        }
      ]
    },
    {
      "cell_type": "markdown",
      "source": [
        "**3. Implement simple multi-variate rational function**"
      ],
      "metadata": {
        "id": "yerTOkPdYKKb"
      }
    },
    {
      "cell_type": "code",
      "source": [
        "import numpy as np\n",
        "\n",
        "# Randomly initialize coefficients\n",
        "np.random.seed(47)  # for reproducibility\n",
        "nm_cf = np.random.rand(51)  # 50 + 1 bias term\n",
        "dn_cf = np.random.rand(51)\n",
        "\n",
        "# Define the rational function\n",
        "def rational_function(x, nm_cf, dn_cf):\n",
        "    # Add bias term (c_0 and d_0)\n",
        "    P = np.dot(nm_cf[:-1], x) + nm_cf[-1]  # Linear numerator\n",
        "    Q = np.dot(dn_cf[:-1], x) + dn_cf[-1]  # Linear denominator\n",
        "\n",
        "    # Avoid division by zero\n",
        "    if Q == 0:\n",
        "        return float('inf')\n",
        "    return P / Q\n",
        "\n",
        "#____Testing____\n",
        "sample_vector = subset_X_reduced[0] # First PCA-reduced vector\n",
        "output = rational_function(sample_vector, nm_cf, dn_cf)\n",
        "print(f\"Output of the rational function: {output}\")"
      ],
      "metadata": {
        "colab": {
          "base_uri": "https://localhost:8080/"
        },
        "id": "oQHhqEX2YKiL",
        "outputId": "a185aed5-d5f2-4983-abd2-06a379d8aed2"
      },
      "execution_count": 23,
      "outputs": [
        {
          "output_type": "stream",
          "name": "stdout",
          "text": [
            "Output of the rational function: -0.08683916685676232\n"
          ]
        }
      ]
    }
  ]
}