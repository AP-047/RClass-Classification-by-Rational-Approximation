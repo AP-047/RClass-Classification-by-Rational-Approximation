{
  "nbformat": 4,
  "nbformat_minor": 0,
  "metadata": {
    "colab": {
      "provenance": [],
      "machine_shape": "hm",
      "gpuType": "L4",
      "authorship_tag": "ABX9TyM5VRP2dcSurr6hOpo1VclJ",
      "include_colab_link": true
    },
    "kernelspec": {
      "name": "python3",
      "display_name": "Python 3"
    },
    "language_info": {
      "name": "python"
    },
    "accelerator": "GPU"
  },
  "cells": [
    {
      "cell_type": "markdown",
      "metadata": {
        "id": "view-in-github",
        "colab_type": "text"
      },
      "source": [
        "<a href=\"https://colab.research.google.com/github/AP-047/RClass-Classification-by-Rational-Approximation/blob/main/notebooks/milestone_1.ipynb\" target=\"_parent\"><img src=\"https://colab.research.google.com/assets/colab-badge.svg\" alt=\"Open In Colab\"/></a>"
      ]
    },
    {
      "cell_type": "markdown",
      "source": [
        "\n",
        "**1. Importing the MNIST dataset and selecting a subset**"
      ],
      "metadata": {
        "id": "J2lIFBTXls98"
      }
    },
    {
      "cell_type": "code",
      "execution_count": 19,
      "metadata": {
        "colab": {
          "base_uri": "https://localhost:8080/",
          "height": 0
        },
        "id": "PW7mUGqjRuSN",
        "outputId": "131ddb3c-754d-4859-b726-0777f440e0f5"
      },
      "outputs": [
        {
          "output_type": "stream",
          "name": "stdout",
          "text": [
            "Subset X shape (images): (1000, 28, 28)\n",
            "Subset y shape (labels): (1000,)\n"
          ]
        }
      ],
      "source": [
        "import numpy as np\n",
        "from keras.datasets import mnist\n",
        "\n",
        "# Load the MNIST dataset\n",
        "(X_full, y_full), (_, _) = mnist.load_data()\n",
        "\n",
        "# Initialize containers for subsets\n",
        "subset_X = []\n",
        "subset_y = []\n",
        "\n",
        "# Draw 100 images per digit (0-9)\n",
        "for digit in range(10):\n",
        "    digit_indices = np.where(y_full == digit)[0]\n",
        "    selected_indices = digit_indices[:100]  # Select the first 100 images for this digit\n",
        "    subset_X.append(X_full[selected_indices])\n",
        "    subset_y.append(y_full[selected_indices])\n",
        "\n",
        "# Combine the subsets\n",
        "subset_X = np.vstack(subset_X)  # Stack all selected images\n",
        "subset_y = np.hstack(subset_y)  # Stack all selected labels\n",
        "\n",
        "# Normalize pixel values to [0, 1]\n",
        "subset_X = subset_X.astype(\"float32\") / 255.0\n",
        "\n",
        "#____Testing____\n",
        "print(f\"Subset X shape (images): {subset_X.shape}\")  # Expected shape: (1000, 28, 28)\n",
        "print(f\"Subset y shape (labels): {subset_y.shape}\")  # Expected shape: (1000,)"
      ]
    },
    {
      "cell_type": "markdown",
      "source": [
        "**2. Dimensionality reduction using PCA**"
      ],
      "metadata": {
        "id": "wZZpVgcgTXdj"
      }
    },
    {
      "cell_type": "code",
      "source": [
        "from sklearn.decomposition import PCA\n",
        "\n",
        "# Flatten the images to shape (1000, 784)\n",
        "subset_X_flattened = subset_X.reshape(subset_X.shape[0], -1)\n",
        "\n",
        "# Apply PCA to reduce to 50 components\n",
        "pca = PCA(n_components=50)\n",
        "subset_X_reduced = pca.fit_transform(subset_X_flattened)\n",
        "\n",
        "\n",
        "#____Testing____\n",
        "# Print the new shape of the dataset\n",
        "print(f\"Reduced X shape (after PCA): {subset_X_reduced.shape}\")\n",
        "# Print the explained variance ratio to verify the retained variance\n",
        "explained_variance = np.sum(pca.explained_variance_ratio_)\n",
        "print(f\"Total explained variance retained: {explained_variance * 100:.2f}%\")\n",
        "\n",
        "#____Testing____\n",
        "# Set the desired label (digit) to inspect\n",
        "desired_label = 3\n",
        "# Find the index of the first occurrence of the desired label\n",
        "index = np.where(subset_y == desired_label)[0][0]\n",
        "# Get the corresponding reduced vector from PCA\n",
        "selected_vector = subset_X_reduced[index]\n",
        "# Print the vector and its length\n",
        "print(f\"Vector for digit {desired_label}: {selected_vector}\")\n",
        "print(f\"Length of the vector: {len(selected_vector)}\")"
      ],
      "metadata": {
        "colab": {
          "base_uri": "https://localhost:8080/"
        },
        "id": "97PZpegJTf3D",
        "outputId": "c41f6ef8-b804-4cab-d1bd-39a5e602f92b"
      },
      "execution_count": 96,
      "outputs": [
        {
          "output_type": "stream",
          "name": "stdout",
          "text": [
            "Reduced X shape (after PCA): (1000, 50)\n",
            "Total explained variance retained: 100.00%\n",
            "Vector for digit 3: [ 2.17378044e+00  2.27193213e+00  5.60363650e-01  3.62105036e+00\n",
            " -1.00318216e-01  3.54436851e+00  1.42353189e+00  6.69775188e-01\n",
            " -9.06186737e-03  5.96990049e-01  1.07461810e-01  1.01029232e-01\n",
            " -7.79241979e-01 -6.47653267e-02  4.35082167e-01 -4.70671281e-02\n",
            " -1.33320749e+00  1.05579937e+00 -9.92273614e-02 -3.55659664e-01\n",
            " -1.46669865e-01  4.77436513e-01  2.06573680e-01 -1.34055531e+00\n",
            " -1.96844786e-01  6.70857608e-01  1.25434130e-01 -3.05720836e-01\n",
            " -6.78535581e-01 -1.37481436e-01  2.02038169e-01  1.97802827e-01\n",
            " -3.41805555e-02 -1.39783725e-01  4.61463928e-01  6.18020535e-01\n",
            "  8.46668333e-02  2.88082391e-01  1.43132627e-03  4.39935595e-01\n",
            "  6.20617867e-01  5.95056079e-02  1.78914532e-01 -7.14280307e-02\n",
            "  7.75693133e-02 -5.21081779e-03  1.88026950e-01  3.14979181e-02\n",
            " -1.08453162e-01 -1.82146132e-01]\n",
            "Length of the vector: 50\n"
          ]
        }
      ]
    },
    {
      "cell_type": "markdown",
      "source": [
        "**3. Implement simple multi-variate rational function**"
      ],
      "metadata": {
        "id": "yerTOkPdYKKb"
      }
    },
    {
      "cell_type": "code",
      "source": [
        "import numpy as np\n",
        "\n",
        "# Define number of variables and the polynomial degree\n",
        "num_variables = 50\n",
        "degree = 5\n",
        "\n",
        "# Randomly initialize coefficients\n",
        "np.random.seed(47)  # for reproducibility\n",
        "nm_cf = np.random.rand(num_variables + 1)  # Numerator coefficients\n",
        "dn_cf = np.random.rand(num_variables + 1)  # Denominator coefficients\n",
        "\n",
        "# Define the rational function\n",
        "def rational_function(x, nm_cf, dn_cf):\n",
        "    # Construct the numerator (P) and denominator (Q) polynomials\n",
        "    P = sum(nm_cf[i] * x[i]**(max(degree - i, 1)) for i in range(len(x))) + nm_cf[-1]\n",
        "    Q = sum(dn_cf[i] * x[i]**(max(degree - i, 1)) for i in range(len(x))) + dn_cf[-1]\n",
        "\n",
        "    # Avoid division by zero\n",
        "    if Q == 0:\n",
        "        return float('inf')\n",
        "    return P / Q\n",
        "\n",
        "#____Testing____\n",
        "sample_vector = subset_X_reduced[0]  # First PCA-reduced vector\n",
        "output = rational_function(sample_vector, nm_cf, dn_cf)\n",
        "\n",
        "print(f\"Numerator coefficients (nm_cf): {nm_cf}\")\n",
        "print(f\"Denominator coefficients (dn_cf): {dn_cf}\")\n",
        "print(f\"Output of the rational function: {output}\")\n",
        "\n",
        "#____Testing____\n",
        "# Function to print the polynomials\n",
        "def print_polynomials(nm_cf, dn_cf, degree, num_variables):\n",
        "    print(\"\\nNumerator Polynomial (P):\")\n",
        "    poly_terms = [f\"{nm_cf[i]:.2f} * x{i+1}^{max(degree - i, 1)}\" for i in range(num_variables)]\n",
        "    poly_terms.append(f\"{nm_cf[-1]:.2f}\")\n",
        "    print(\" + \".join(poly_terms))\n",
        "\n",
        "    print(\"\\nDenominator Polynomial (Q):\")\n",
        "    poly_terms = [f\"{dn_cf[i]:.2f} * x{i+1}^{max(degree - i, 1)}\" for i in range(num_variables)]\n",
        "    poly_terms.append(f\"{dn_cf[-1]:.2f}\")\n",
        "    print(\" + \".join(poly_terms))\n",
        "\n",
        "# Print polynomials for verification\n",
        "print_polynomials(nm_cf, dn_cf, degree, num_variables)"
      ],
      "metadata": {
        "colab": {
          "base_uri": "https://localhost:8080/"
        },
        "id": "fDmfPShHwRvN",
        "outputId": "4adbc15f-366a-427a-a39e-ee973f5dbf10"
      },
      "execution_count": 100,
      "outputs": [
        {
          "output_type": "stream",
          "name": "stdout",
          "text": [
            "Numerator coefficients (nm_cf): [0.11348847 0.97448309 0.72873463 0.35146781 0.70760514 0.7996046\n",
            " 0.64556185 0.41459961 0.70603101 0.24664938 0.25599243 0.02401135\n",
            " 0.09872595 0.30043644 0.64085568 0.32220795 0.18549414 0.91719355\n",
            " 0.2709208  0.27354789 0.95441268 0.12711457 0.74726485 0.00523796\n",
            " 0.85679061 0.6959562  0.5530257  0.9352358  0.51262353 0.17761207\n",
            " 0.53686579 0.29345982 0.01060205 0.88380072 0.65641065 0.94225597\n",
            " 0.7449453  0.26721045 0.36186288 0.52640389 0.54688497 0.25867032\n",
            " 0.17463635 0.36071026 0.14018227 0.38907866 0.47188833 0.96882692\n",
            " 0.14556745 0.51425472 0.52765183]\n",
            "Denominator coefficients (dn_cf): [0.30524252 0.15967476 0.59691153 0.10372881 0.56796609 0.38630638\n",
            " 0.08472205 0.56199918 0.64807168 0.66193395 0.18924281 0.95410895\n",
            " 0.05902446 0.88020624 0.78375816 0.25247741 0.92709052 0.4447506\n",
            " 0.37715133 0.89382348 0.75405387 0.77445802 0.87904851 0.48148232\n",
            " 0.30290073 0.44292787 0.52813285 0.60814462 0.52524497 0.97796815\n",
            " 0.60203988 0.83529596 0.08537584 0.48829082 0.90031302 0.91705588\n",
            " 0.21688352 0.40062124 0.54517216 0.64192219 0.47363051 0.56357413\n",
            " 0.58928365 0.31358832 0.75801858 0.85716649 0.47649792 0.86313715\n",
            " 0.66091439 0.55049942 0.79979425]\n",
            "Output of the rational function: 0.3708564738358307\n",
            "\n",
            "Numerator Polynomial (P):\n",
            "0.11 * x1^5 + 0.97 * x2^4 + 0.73 * x3^3 + 0.35 * x4^2 + 0.71 * x5^1 + 0.80 * x6^1 + 0.65 * x7^1 + 0.41 * x8^1 + 0.71 * x9^1 + 0.25 * x10^1 + 0.26 * x11^1 + 0.02 * x12^1 + 0.10 * x13^1 + 0.30 * x14^1 + 0.64 * x15^1 + 0.32 * x16^1 + 0.19 * x17^1 + 0.92 * x18^1 + 0.27 * x19^1 + 0.27 * x20^1 + 0.95 * x21^1 + 0.13 * x22^1 + 0.75 * x23^1 + 0.01 * x24^1 + 0.86 * x25^1 + 0.70 * x26^1 + 0.55 * x27^1 + 0.94 * x28^1 + 0.51 * x29^1 + 0.18 * x30^1 + 0.54 * x31^1 + 0.29 * x32^1 + 0.01 * x33^1 + 0.88 * x34^1 + 0.66 * x35^1 + 0.94 * x36^1 + 0.74 * x37^1 + 0.27 * x38^1 + 0.36 * x39^1 + 0.53 * x40^1 + 0.55 * x41^1 + 0.26 * x42^1 + 0.17 * x43^1 + 0.36 * x44^1 + 0.14 * x45^1 + 0.39 * x46^1 + 0.47 * x47^1 + 0.97 * x48^1 + 0.15 * x49^1 + 0.51 * x50^1 + 0.53\n",
            "\n",
            "Denominator Polynomial (Q):\n",
            "0.31 * x1^5 + 0.16 * x2^4 + 0.60 * x3^3 + 0.10 * x4^2 + 0.57 * x5^1 + 0.39 * x6^1 + 0.08 * x7^1 + 0.56 * x8^1 + 0.65 * x9^1 + 0.66 * x10^1 + 0.19 * x11^1 + 0.95 * x12^1 + 0.06 * x13^1 + 0.88 * x14^1 + 0.78 * x15^1 + 0.25 * x16^1 + 0.93 * x17^1 + 0.44 * x18^1 + 0.38 * x19^1 + 0.89 * x20^1 + 0.75 * x21^1 + 0.77 * x22^1 + 0.88 * x23^1 + 0.48 * x24^1 + 0.30 * x25^1 + 0.44 * x26^1 + 0.53 * x27^1 + 0.61 * x28^1 + 0.53 * x29^1 + 0.98 * x30^1 + 0.60 * x31^1 + 0.84 * x32^1 + 0.09 * x33^1 + 0.49 * x34^1 + 0.90 * x35^1 + 0.92 * x36^1 + 0.22 * x37^1 + 0.40 * x38^1 + 0.55 * x39^1 + 0.64 * x40^1 + 0.47 * x41^1 + 0.56 * x42^1 + 0.59 * x43^1 + 0.31 * x44^1 + 0.76 * x45^1 + 0.86 * x46^1 + 0.48 * x47^1 + 0.86 * x48^1 + 0.66 * x49^1 + 0.55 * x50^1 + 0.80\n"
          ]
        }
      ]
    },
    {
      "cell_type": "markdown",
      "source": [
        "**Optimization**"
      ],
      "metadata": {
        "id": "yNCR7iOaeVUf"
      }
    },
    {
      "cell_type": "markdown",
      "source": [
        "**1. Initialization Phase**"
      ],
      "metadata": {
        "id": "o3I9eSMz7G97"
      }
    },
    {
      "cell_type": "code",
      "source": [
        "import numpy as np\n",
        "\n",
        "# Initialization\n",
        "uL = 0  # Lower bound for deviation\n",
        "uH = 20  # Initial upper bound\n",
        "precision = 1e-5  # Precision for bisection\n",
        "\n",
        "# total number of samples (images) in the subset of your PCA-reduced dataset\n",
        "num_samples = len(subset_X)\n",
        "\n",
        "x_in = subset_X_reduced  # input data - PCA-reduced vectors\n",
        "y_targets = subset_y  # labels as the target values\n",
        "\n",
        "#____Testing____\n",
        "# Print initialization values for verification\n",
        "print(\"Initialization Phase (Adapted):\")\n",
        "print(f\"Lower bound (uL): {uL}\")\n",
        "print(f\"Upper bound (uH): {uH}\")\n",
        "print(f\"Precision: {precision}\")\n",
        "print(f\"Number of samples: {num_samples}\")\n",
        "#print(f\"First 5 targets: {y_targets[:5]}\")\n",
        "#print(f\"First 5 input vectors: {x_in[:5]}\")"
      ],
      "metadata": {
        "id": "H7le9CZo7I0L",
        "outputId": "4e6e2037-9f02-40af-a126-5c0d679eb3d4",
        "colab": {
          "base_uri": "https://localhost:8080/"
        }
      },
      "execution_count": 98,
      "outputs": [
        {
          "output_type": "stream",
          "name": "stdout",
          "text": [
            "Initialization Phase (Adapted):\n",
            "Lower bound (uL): 0\n",
            "Upper bound (uH): 20\n",
            "Precision: 1e-05\n",
            "Number of samples: 1000\n"
          ]
        }
      ]
    },
    {
      "cell_type": "markdown",
      "source": [
        "**2. Bisection Loop**"
      ],
      "metadata": {
        "id": "RYXOUbCH_5H0"
      }
    },
    {
      "cell_type": "code",
      "source": [
        "from scipy.optimize import linprog\n",
        "\n",
        "def check_feasibility(z, x_data, y_data, nm_cf, dn_cf, degree, uL, uH):\n",
        "    num_coefficients = len(nm_cf) + len(dn_cf)  # Total number of coefficients\n",
        "\n",
        "    # Construct A_ub and b_ub for all samples\n",
        "    A = []\n",
        "    b = []\n",
        "\n",
        "    for i, (x, y) in enumerate(zip(x_data, y_data)):\n",
        "        # Construct rows for the numerator and denominator\n",
        "        numerator_row = [x[j] ** max(degree - j, 1) for j in range(len(x))] + [1]  # Add bias term\n",
        "        denominator_row = [-1 * x[j] ** max(degree - j, 1) for j in range(len(x))] + [-1]  # Add bias term\n",
        "\n",
        "        # Append rows to A and corresponding constraints to b\n",
        "        A.append(numerator_row + denominator_row)  # Combine numerator and denominator rows\n",
        "        b.append(z * sum(denominator_row) - y)  # Update the constraint value\n",
        "\n",
        "    # Convert A and b to NumPy arrays\n",
        "    A = np.array(A)\n",
        "    b = np.array(b)\n",
        "\n",
        "    # Debugging: Print the shape of A and length of b\n",
        "    print(f\"A_ub shape: {A.shape}\")\n",
        "    print(f\"b_ub length: {len(b)}\")\n",
        "    print(f\"Number of coefficients: {num_coefficients}\")\n",
        "\n",
        "    # Set bounds for the coefficients\n",
        "    bounds = [(uL, uH) for _ in range(num_coefficients)]\n",
        "\n",
        "    # Solve the linear programming problem\n",
        "    result = linprog(\n",
        "        c=[0] * num_coefficients,  # Objective function doesn't matter for feasibility\n",
        "        A_ub=A,\n",
        "        b_ub=b,\n",
        "        bounds=bounds,\n",
        "        method=\"highs\",\n",
        "    )\n",
        "\n",
        "    # If infeasible, return False\n",
        "    if result.status != 0:  # Check if optimization succeeded\n",
        "        return False\n",
        "\n",
        "    return True\n",
        "\n",
        "def bisection_loop(x_data, y_data, nm_cf, dn_cf, degree, uL, uH, precision):\n",
        "    \"\"\"\n",
        "    Perform the bisection loop to minimize the maximum deviation z.\n",
        "    :param x_data: PCA-reduced input data.\n",
        "    :param y_data: Target labels.\n",
        "    :param nm_cf: Coefficients for numerator.\n",
        "    :param dn_cf: Coefficients for denominator.\n",
        "    :param degree: Degree of the polynomial.\n",
        "    :param uL: Initial lower bound for deviation.\n",
        "    :param uH: Initial upper bound for deviation.\n",
        "    :param precision: Precision for stopping the loop.\n",
        "    :return: Optimal deviation z and coefficients.\n",
        "    \"\"\"\n",
        "    while uH - uL > precision:\n",
        "        z = (uL + uH) / 2\n",
        "        if check_feasibility(z, x_data, y_data, nm_cf, dn_cf, degree, uL, uH):\n",
        "            uH = z\n",
        "        else:\n",
        "            uL = z\n",
        "        print(f\"Current bounds: uL = {uL}, uH = {uH}\")\n",
        "\n",
        "    return (uL + uH) / 2  # Return the final optimal deviation z\n",
        "\n",
        "# Run the bisection loop\n",
        "optimal_z = bisection_loop(subset_X_reduced, subset_y, nm_cf, dn_cf, degree, uL, uH, precision)\n",
        "print(f\"Optimal deviation (z): {optimal_z}\")"
      ],
      "metadata": {
        "id": "onJsVK8D_686",
        "outputId": "0b32e5ee-7f0d-40be-fc96-2e76d0461784",
        "colab": {
          "base_uri": "https://localhost:8080/"
        }
      },
      "execution_count": 99,
      "outputs": [
        {
          "output_type": "stream",
          "name": "stdout",
          "text": [
            "A_ub shape: (1000, 102)\n",
            "b_ub length: 1000\n",
            "Number of coefficients: 102\n",
            "Current bounds: uL = 0, uH = 10.0\n",
            "A_ub shape: (1000, 102)\n",
            "b_ub length: 1000\n",
            "Number of coefficients: 102\n",
            "Current bounds: uL = 0, uH = 5.0\n",
            "A_ub shape: (1000, 102)\n",
            "b_ub length: 1000\n",
            "Number of coefficients: 102\n",
            "Current bounds: uL = 0, uH = 2.5\n",
            "A_ub shape: (1000, 102)\n",
            "b_ub length: 1000\n",
            "Number of coefficients: 102\n",
            "Current bounds: uL = 1.25, uH = 2.5\n",
            "A_ub shape: (1000, 102)\n",
            "b_ub length: 1000\n",
            "Number of coefficients: 102\n",
            "Current bounds: uL = 1.875, uH = 2.5\n",
            "A_ub shape: (1000, 102)\n",
            "b_ub length: 1000\n",
            "Number of coefficients: 102\n",
            "Current bounds: uL = 2.1875, uH = 2.5\n",
            "A_ub shape: (1000, 102)\n",
            "b_ub length: 1000\n",
            "Number of coefficients: 102\n",
            "Current bounds: uL = 2.34375, uH = 2.5\n",
            "A_ub shape: (1000, 102)\n",
            "b_ub length: 1000\n",
            "Number of coefficients: 102\n",
            "Current bounds: uL = 2.421875, uH = 2.5\n",
            "A_ub shape: (1000, 102)\n",
            "b_ub length: 1000\n",
            "Number of coefficients: 102\n",
            "Current bounds: uL = 2.4609375, uH = 2.5\n",
            "A_ub shape: (1000, 102)\n",
            "b_ub length: 1000\n",
            "Number of coefficients: 102\n",
            "Current bounds: uL = 2.48046875, uH = 2.5\n",
            "A_ub shape: (1000, 102)\n",
            "b_ub length: 1000\n",
            "Number of coefficients: 102\n",
            "Current bounds: uL = 2.490234375, uH = 2.5\n",
            "A_ub shape: (1000, 102)\n",
            "b_ub length: 1000\n",
            "Number of coefficients: 102\n",
            "Current bounds: uL = 2.4951171875, uH = 2.5\n",
            "A_ub shape: (1000, 102)\n",
            "b_ub length: 1000\n",
            "Number of coefficients: 102\n",
            "Current bounds: uL = 2.49755859375, uH = 2.5\n",
            "A_ub shape: (1000, 102)\n",
            "b_ub length: 1000\n",
            "Number of coefficients: 102\n",
            "Current bounds: uL = 2.498779296875, uH = 2.5\n",
            "A_ub shape: (1000, 102)\n",
            "b_ub length: 1000\n",
            "Number of coefficients: 102\n",
            "Current bounds: uL = 2.4993896484375, uH = 2.5\n",
            "A_ub shape: (1000, 102)\n",
            "b_ub length: 1000\n",
            "Number of coefficients: 102\n",
            "Current bounds: uL = 2.49969482421875, uH = 2.5\n",
            "A_ub shape: (1000, 102)\n",
            "b_ub length: 1000\n",
            "Number of coefficients: 102\n",
            "Current bounds: uL = 2.499847412109375, uH = 2.5\n",
            "A_ub shape: (1000, 102)\n",
            "b_ub length: 1000\n",
            "Number of coefficients: 102\n",
            "Current bounds: uL = 2.4999237060546875, uH = 2.5\n",
            "A_ub shape: (1000, 102)\n",
            "b_ub length: 1000\n",
            "Number of coefficients: 102\n",
            "Current bounds: uL = 2.4999618530273438, uH = 2.5\n",
            "A_ub shape: (1000, 102)\n",
            "b_ub length: 1000\n",
            "Number of coefficients: 102\n",
            "Current bounds: uL = 2.499980926513672, uH = 2.5\n",
            "A_ub shape: (1000, 102)\n",
            "b_ub length: 1000\n",
            "Number of coefficients: 102\n",
            "Current bounds: uL = 2.499990463256836, uH = 2.5\n",
            "Optimal deviation (z): 2.499995231628418\n"
          ]
        }
      ]
    },
    {
      "cell_type": "markdown",
      "source": [
        "**3. Update Coefficients with Optimal z**"
      ],
      "metadata": {
        "id": "N5v5FF6VEyDF"
      }
    }
  ]
}