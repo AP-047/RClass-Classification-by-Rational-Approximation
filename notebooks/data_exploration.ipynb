{
  "nbformat": 4,
  "nbformat_minor": 0,
  "metadata": {
    "colab": {
      "provenance": [],
      "gpuType": "T4",
      "toc_visible": true,
      "authorship_tag": "ABX9TyNP3pSqhYo+M4wExgNhTpui",
      "include_colab_link": true
    },
    "kernelspec": {
      "name": "python3",
      "display_name": "Python 3"
    },
    "language_info": {
      "name": "python"
    },
    "accelerator": "GPU"
  },
  "cells": [
    {
      "cell_type": "markdown",
      "metadata": {
        "id": "view-in-github",
        "colab_type": "text"
      },
      "source": [
        "<a href=\"https://colab.research.google.com/github/AP-047/RClass-Classification-by-Rational-Approximation/blob/main/notebooks/data_exploration.ipynb\" target=\"_parent\"><img src=\"https://colab.research.google.com/assets/colab-badge.svg\" alt=\"Open In Colab\"/></a>"
      ]
    },
    {
      "cell_type": "markdown",
      "source": [
        "### **Data Import: MNIST**"
      ],
      "metadata": {
        "id": "um693vCAl3et"
      }
    },
    {
      "cell_type": "markdown",
      "source": [
        "**Load MNIST dataset**"
      ],
      "metadata": {
        "id": "rd1-ksiUhDDB"
      }
    },
    {
      "cell_type": "code",
      "source": [
        "from keras.datasets import mnist"
      ],
      "metadata": {
        "id": "Pa2i-YnAhB0c"
      },
      "execution_count": 1,
      "outputs": []
    },
    {
      "cell_type": "markdown",
      "source": [
        "**Load the training and testing sets into separate variables**"
      ],
      "metadata": {
        "id": "A7K1kphkhRxy"
      }
    },
    {
      "cell_type": "code",
      "source": [
        "(train_X, train_y), (test_X, test_y) = mnist.load_data()"
      ],
      "metadata": {
        "id": "CsZqsV2ijA-2"
      },
      "execution_count": 2,
      "outputs": []
    },
    {
      "cell_type": "markdown",
      "source": [
        "**Check split ratio of the dataset**"
      ],
      "metadata": {
        "id": "zCTPVVJ9-m7o"
      }
    },
    {
      "cell_type": "code",
      "source": [
        "print('X_train: ' + str(train_X.shape))\n",
        "print('Y_train: ' + str(train_y.shape))\n",
        "print('X_test:  '  + str(test_X.shape))\n",
        "print('Y_test:  '  + str(test_y.shape))"
      ],
      "metadata": {
        "id": "8i-I6sxE-u7o",
        "outputId": "8467ff9f-de28-4f90-914f-5d0296b13f48",
        "colab": {
          "base_uri": "https://localhost:8080/"
        }
      },
      "execution_count": 3,
      "outputs": [
        {
          "output_type": "stream",
          "name": "stdout",
          "text": [
            "X_train: (60000, 28, 28)\n",
            "Y_train: (60000,)\n",
            "X_test:  (10000, 28, 28)\n",
            "Y_test:  (10000,)\n"
          ]
        }
      ]
    },
    {
      "cell_type": "markdown",
      "source": [
        "**Plot the dataset (step zero)**"
      ],
      "metadata": {
        "id": "vo2jYXlR-xYD"
      }
    },
    {
      "cell_type": "code",
      "source": [
        "from matplotlib import pyplot\n",
        "for i in range(9):\n",
        "  pyplot.subplot(331 + i)\n",
        "  pyplot.imshow(train_X[i], cmap=pyplot.get_cmap('gray'))\n",
        "pyplot.show()"
      ],
      "metadata": {
        "id": "uCyaMGdj_Eaz",
        "outputId": "e52a6f06-97c0-4c98-b0bf-1ab2323910d7",
        "colab": {
          "base_uri": "https://localhost:8080/",
          "height": 433
        }
      },
      "execution_count": 4,
      "outputs": [
        {
          "output_type": "display_data",
          "data": {
            "text/plain": [
              "<Figure size 640x480 with 9 Axes>"
            ],
            "image/png": "[encoded data removed]"
          },
          "metadata": {}
        }
      ]
    },
    {
      "cell_type": "markdown",
      "source": [
        "### **Training Dataset Overview**"
      ],
      "metadata": {
        "id": "EFjd0TB7SVDd"
      }
    },
    {
      "cell_type": "markdown",
      "source": [
        "**Counting the number of images for each digit (0–9) in the training dataset to understand class distribution**"
      ],
      "metadata": {
        "id": "BHi8U5-x8Tcg"
      }
    },
    {
      "cell_type": "code",
      "source": [
        "import numpy as np\n",
        "import matplotlib.pyplot as plt\n",
        "unique, counts = np.unique(train_y, return_counts=True)\n",
        "digit_counts = dict(zip(unique, counts))\n",
        "\n",
        "print(\"Number of images for each digit in the training set:\")\n",
        "for digit, count in digit_counts.items():\n",
        "    print(f\"Digit {digit}: {count} images\")\n",
        "plt.bar(digit_counts.keys(), digit_counts.values(), color='skyblue', label='Training Data')\n",
        "plt.xlabel(\"Digit\")\n",
        "plt.ylabel(\"Count\")\n",
        "plt.title(\"Number of Images for Each Digit in the Training Set of MNIST\")\n",
        "plt.xticks(range(10))  # Set x-ticks to display digits 0-9\n",
        "plt.show()"
      ],
      "metadata": {
        "id": "BIG0gqcB8dQF",
        "outputId": "75bf1ddf-f5cf-409b-a589-6d7c7011728b",
        "colab": {
          "base_uri": "https://localhost:8080/",
          "height": 661
        }
      },
      "execution_count": 23,
      "outputs": [
        {
          "output_type": "stream",
          "name": "stdout",
          "text": [
            "Number of images for each digit in the training set:\n",
            "Digit 0: 5923 images\n",
            "Digit 1: 6742 images\n",
            "Digit 2: 5958 images\n",
            "Digit 3: 6131 images\n",
            "Digit 4: 5842 images\n",
            "Digit 5: 5421 images\n",
            "Digit 6: 5918 images\n",
            "Digit 7: 6265 images\n",
            "Digit 8: 5851 images\n",
            "Digit 9: 5949 images\n"
          ]
        },
        {
          "output_type": "display_data",
          "data": {
            "text/plain": [
              "<Figure size 640x480 with 1 Axes>"
            ],
            "image/png": "[encoded data removed]"
          },
          "metadata": {}
        }
      ]
    },
    {
      "cell_type": "markdown",
      "source": [
        "### **Data Analysis - with thresholding**"
      ],
      "metadata": {
        "id": "WmrPXnTH0UUX"
      }
    },
    {
      "cell_type": "markdown",
      "source": [
        "**Thresholding: Convert MNIST Images to Black and White**"
      ],
      "metadata": {
        "id": "JEpV8Ho39Q8T"
      }
    },
    {
      "cell_type": "code",
      "source": [
        "# Threshold value of 128 (middle of the 0-255 range for grayscale)\n",
        "threshold = 128\n",
        "\n",
        "# Convert the training and testing images to black-and-white\n",
        "train_X_bw = (train_X >= threshold).astype(int)\n",
        "test_X_bw = (test_X >= threshold).astype(int)\n",
        "\n",
        "# Display a sample image to verify conversion\n",
        "import matplotlib.pyplot as plt\n",
        "plt.imshow(train_X_bw[0], cmap='gray')\n",
        "plt.title(f\"Label: {train_y[0]}\")\n",
        "plt.show()"
      ],
      "metadata": {
        "id": "7YeW7R0d95w2",
        "outputId": "6ecfe5e5-6858-47f9-882a-13413d915aef",
        "colab": {
          "base_uri": "https://localhost:8080/",
          "height": 450
        }
      },
      "execution_count": 7,
      "outputs": [
        {
          "output_type": "display_data",
          "data": {
            "text/plain": [
              "<Figure size 640x480 with 1 Axes>"
            ],
            "image/png": "[encoded data removed]"
          },
          "metadata": {}
        }
      ]
    },
    {
      "cell_type": "markdown",
      "source": [
        "**1. Avg. Values**\n",
        "\n",
        "*Finding the average number of active pixels (1s) for each digit (0–9) across all training images*"
      ],
      "metadata": {
        "id": "f9txKakx_t-D"
      }
    },
    {
      "cell_type": "code",
      "source": [
        "# Initialize a dictionary to store the average number of active pixels for each digit\n",
        "average_active_pixels = {}\n",
        "\n",
        "# Loop through each digit from 0 to 9\n",
        "for digit in range(10):\n",
        "    # Get all images of the current digit\n",
        "    digit_images = train_X_bw[train_y == digit]\n",
        "\n",
        "    # Sum the active pixels (1s) for each image, then calculate the average\n",
        "    average_active_pixels[digit] = digit_images.sum(axis=(1, 2)).mean()  # Summing pixels per image and averaging\n",
        "\n",
        "# Display the average active pixels for each digit\n",
        "print(\"Average number of active (white) pixels for each digit in the training set:\")\n",
        "for digit, avg_pixels in average_active_pixels.items():\n",
        "    print(f\"Digit {digit}: {avg_pixels:.2f} pixels\")\n",
        "import matplotlib.pyplot as plt\n",
        "\n",
        "# Plotting the average number of active pixels for each digit\n",
        "plt.figure(figsize=(11, 7))\n",
        "plt.bar(average_active_pixels.keys(), average_active_pixels.values(), color='lightgreen')\n",
        "for digit, avg_pixels in average_active_pixels.items():\n",
        "    plt.text(digit, avg_pixels + 2, f'{avg_pixels:.2f}', ha='center', va='bottom')\n",
        "plt.ylabel(\"Average Number of Active Pixels (1s)\")\n",
        "plt.title(\"Average Number of Active Pixels for Each Digit in the Training Set in the MNIST Dataset\")\n",
        "plt.xticks(range(10))  # Set x-ticks to display digits 0-9\n",
        "plt.show()"
      ],
      "metadata": {
        "id": "2UFgRTbH_uzF",
        "outputId": "9a55cf46-db76-423a-c586-82639c0917ad",
        "colab": {
          "base_uri": "https://localhost:8080/",
          "height": 700
        }
      },
      "execution_count": 48,
      "outputs": [
        {
          "output_type": "stream",
          "name": "stdout",
          "text": [
            "Average number of active (white) pixels for each digit in the training set:\n",
            "Digit 0: 137.55 pixels\n",
            "Digit 1: 60.21 pixels\n",
            "Digit 2: 118.23 pixels\n",
            "Digit 3: 112.46 pixels\n",
            "Digit 4: 95.94 pixels\n",
            "Digit 5: 102.16 pixels\n",
            "Digit 6: 109.09 pixels\n",
            "Digit 7: 90.70 pixels\n",
            "Digit 8: 119.62 pixels\n",
            "Digit 9: 97.31 pixels\n"
          ]
        },
        {
          "output_type": "display_data",
          "data": {
            "text/plain": [
              "<Figure size 1100x700 with 1 Axes>"
            ],
            "image/png": "[encoded data removed]"
          },
          "metadata": {}
        }
      ]
    },
    {
      "cell_type": "markdown",
      "source": [
        "**2. Row-wise**\n",
        "\n",
        "*Calculate Unique Feature Value for Each Digit in Training Data Using Index-Based Coefficients*"
      ],
      "metadata": {
        "id": "5hb-gQxcByHt"
      }
    },
    {
      "cell_type": "code",
      "source": [
        "# Initialize a dictionary to store the average unique feature value for each digit\n",
        "average_unique_feature = {}\n",
        "\n",
        "# Loop through each digit from 0 to 9\n",
        "for digit in range(10):\n",
        "    # Get all images of the current digit\n",
        "    digit_images = train_X_bw[train_y == digit]\n",
        "\n",
        "    # List to store the unique feature values for each image of the current digit\n",
        "    unique_feature_values = []\n",
        "\n",
        "    for img in digit_images:\n",
        "        # Calculate the weighted sum for the entire image\n",
        "        total_sum = 0\n",
        "        for row_index, row in enumerate(img):\n",
        "            for col_index, pixel in enumerate(row):\n",
        "                if pixel == 1:  # Only consider active pixels\n",
        "                    # Create the two-digit coefficient by combining row and column indices\n",
        "                    coefficient = (row_index + 1) * 10 + (col_index + 1)\n",
        "                    total_sum += coefficient * pixel  # Multiply by 1 (since pixel is active)\n",
        "\n",
        "        # Store the unique feature value for this image\n",
        "        unique_feature_values.append(total_sum)\n",
        "\n",
        "    # Calculate the average unique feature value for this digit\n",
        "    average_unique_feature[digit] = np.mean(unique_feature_values)\n",
        "\n",
        "# Display the average unique feature values for each digit\n",
        "print(\"Average unique feature value for each digit in the training set:\")\n",
        "for digit, avg_value in average_unique_feature.items():\n",
        "    print(f\"Digit {digit}: {avg_value:.2f}\")"
      ],
      "metadata": {
        "id": "NoOvNqd1Bzlo",
        "outputId": "712f8062-6d77-4a0c-b86e-926557b56661",
        "colab": {
          "base_uri": "https://localhost:8080/"
        }
      },
      "execution_count": 10,
      "outputs": [
        {
          "output_type": "stream",
          "name": "stdout",
          "text": [
            "Average unique feature value for each digit in the training set:\n",
            "Digit 0: 22704.74\n",
            "Digit 1: 9911.94\n",
            "Digit 2: 19515.57\n",
            "Digit 3: 18549.44\n",
            "Digit 4: 15840.15\n",
            "Digit 5: 16863.15\n",
            "Digit 6: 18026.70\n",
            "Digit 7: 14946.21\n",
            "Digit 8: 19742.32\n",
            "Digit 9: 16025.24\n"
          ]
        }
      ]
    },
    {
      "cell_type": "markdown",
      "source": [
        "**3. Column-wise**\n",
        "\n",
        "*Calculate Unique Feature Value for Each Digit in Training Data Using Index-Based Coefficients*"
      ],
      "metadata": {
        "id": "k-3vhvDfIuYC"
      }
    },
    {
      "cell_type": "code",
      "source": [
        "# Initialize a dictionary to store the average unique feature value for each digit\n",
        "average_unique_feature_column_wise = {}\n",
        "\n",
        "# Loop through each digit from 0 to 9\n",
        "for digit in range(10):\n",
        "    # Get all images of the current digit\n",
        "    digit_images = train_X_bw[train_y == digit]\n",
        "\n",
        "    # List to store the unique feature values for each image of the current digit\n",
        "    unique_feature_values = []\n",
        "\n",
        "    for img in digit_images:\n",
        "        # Calculate the weighted sum for the entire image, column-wise\n",
        "        total_sum = 0\n",
        "        for col_index in range(img.shape[1]):  # Loop through columns\n",
        "            col_sum = 0\n",
        "            for row_index, pixel in enumerate(img[:, col_index]):\n",
        "                if pixel == 1:  # Only consider active pixels\n",
        "                    # Create the two-digit coefficient by combining row and column indices\n",
        "                    coefficient = (row_index + 1) * 10 + (col_index + 1)\n",
        "                    col_sum += coefficient * pixel  # Multiply by 1 (since pixel is active)\n",
        "\n",
        "            # Add the column sum to the total sum for the image\n",
        "            total_sum += col_sum\n",
        "\n",
        "        # Store the unique feature value for this image\n",
        "        unique_feature_values.append(total_sum)\n",
        "\n",
        "    # Calculate the average unique feature value for this digit\n",
        "    average_unique_feature_column_wise[digit] = np.mean(unique_feature_values)\n",
        "\n",
        "# Display the average unique feature values for each digit\n",
        "print(\"Average unique feature value for each digit (column-wise) in the training set:\")\n",
        "for digit, avg_value in average_unique_feature_column_wise.items():\n",
        "    print(f\"Digit {digit}: {avg_value:.2f}\")\n"
      ],
      "metadata": {
        "id": "9O_Y0o4DIxGl",
        "outputId": "0e30d78c-c8a5-48ec-ef3a-6eb8d931db40",
        "colab": {
          "base_uri": "https://localhost:8080/"
        }
      },
      "execution_count": 11,
      "outputs": [
        {
          "output_type": "stream",
          "name": "stdout",
          "text": [
            "Average unique feature value for each digit (column-wise) in the training set:\n",
            "Digit 0: 22704.74\n",
            "Digit 1: 9911.94\n",
            "Digit 2: 19515.57\n",
            "Digit 3: 18549.44\n",
            "Digit 4: 15840.15\n",
            "Digit 5: 16863.15\n",
            "Digit 6: 18026.70\n",
            "Digit 7: 14946.21\n",
            "Digit 8: 19742.32\n",
            "Digit 9: 16025.24\n"
          ]
        }
      ]
    },
    {
      "cell_type": "markdown",
      "source": [
        "**4. Top half**\n",
        "\n",
        "*Calculate the Sum of Active Pixels in the Top Half for Each Digit in the Training Data*"
      ],
      "metadata": {
        "id": "oxXDrt1QJ5hJ"
      }
    },
    {
      "cell_type": "code",
      "source": [
        "# Initialize a dictionary to store the average sum of active pixels in the top half for each digit\n",
        "average_top_half_active_pixels = {}\n",
        "\n",
        "# Loop through each digit from 0 to 9\n",
        "for digit in range(10):\n",
        "    # Get all images of the current digit\n",
        "    digit_images = train_X_bw[train_y == digit]\n",
        "\n",
        "    # List to store the top half sums for each image of the current digit\n",
        "    top_half_sums = []\n",
        "\n",
        "    for img in digit_images:\n",
        "        # Take the top half of the image (first 14 rows)\n",
        "        top_half = img[:14, :]\n",
        "\n",
        "        # Sum the active pixels in the top half\n",
        "        top_half_sum = top_half.sum()\n",
        "        top_half_sums.append(top_half_sum)\n",
        "\n",
        "    # Calculate the average sum of active pixels in the top half for this digit\n",
        "    average_top_half_active_pixels[digit] = np.mean(top_half_sums)\n",
        "\n",
        "# Display the average sum of active pixels in the top half for each digit\n",
        "print(\"Average sum of active pixels in the top half for each digit in the training set:\")\n",
        "for digit, avg_value in average_top_half_active_pixels.items():\n",
        "    print(f\"Digit {digit}: {avg_value:.2f}\")"
      ],
      "metadata": {
        "id": "_eS0hhYlKFZg",
        "outputId": "3b86aada-17f4-4b9a-db3b-9201ab8feddf",
        "colab": {
          "base_uri": "https://localhost:8080/"
        }
      },
      "execution_count": 12,
      "outputs": [
        {
          "output_type": "stream",
          "name": "stdout",
          "text": [
            "Average sum of active pixels in the top half for each digit in the training set:\n",
            "Digit 0: 65.97\n",
            "Digit 1: 28.54\n",
            "Digit 2: 48.24\n",
            "Digit 3: 55.09\n",
            "Digit 4: 41.82\n",
            "Digit 5: 50.24\n",
            "Digit 6: 43.07\n",
            "Digit 7: 49.62\n",
            "Digit 8: 58.65\n",
            "Digit 9: 48.29\n"
          ]
        }
      ]
    },
    {
      "cell_type": "markdown",
      "source": [
        "**5. Bottom Half**\n",
        "\n",
        "*Calculate the Sum of Active Pixels in the Bottom Half for Each Digit in the Training Data*"
      ],
      "metadata": {
        "id": "1qgG6ip4KZRG"
      }
    },
    {
      "cell_type": "code",
      "source": [
        "# Initialize a dictionary to store the average sum of active pixels in the bottom half for each digit\n",
        "average_bottom_half_active_pixels = {}\n",
        "\n",
        "# Loop through each digit from 0 to 9\n",
        "for digit in range(10):\n",
        "    # Get all images of the current digit\n",
        "    digit_images = train_X_bw[train_y == digit]\n",
        "\n",
        "    # List to store the bottom half sums for each image of the current digit\n",
        "    bottom_half_sums = []\n",
        "\n",
        "    for img in digit_images:\n",
        "        # Take the bottom half of the image (last 14 rows)\n",
        "        bottom_half = img[14:, :]\n",
        "\n",
        "        # Sum the active pixels in the bottom half\n",
        "        bottom_half_sum = bottom_half.sum()\n",
        "        bottom_half_sums.append(bottom_half_sum)\n",
        "\n",
        "    # Calculate the average sum of active pixels in the bottom half for this digit\n",
        "    average_bottom_half_active_pixels[digit] = np.mean(bottom_half_sums)\n",
        "\n",
        "# Display the average sum of active pixels in the bottom half for each digit\n",
        "print(\"Average sum of active pixels in the bottom half for each digit in the training set:\")\n",
        "for digit, avg_value in average_bottom_half_active_pixels.items():\n",
        "    print(f\"Digit {digit}: {avg_value:.2f}\")"
      ],
      "metadata": {
        "id": "EEW9tM7fKh0a",
        "outputId": "999ba208-91f5-4919-ebd0-e34814381c03",
        "colab": {
          "base_uri": "https://localhost:8080/"
        }
      },
      "execution_count": 13,
      "outputs": [
        {
          "output_type": "stream",
          "name": "stdout",
          "text": [
            "Average sum of active pixels in the bottom half for each digit in the training set:\n",
            "Digit 0: 71.59\n",
            "Digit 1: 31.66\n",
            "Digit 2: 69.99\n",
            "Digit 3: 57.37\n",
            "Digit 4: 54.12\n",
            "Digit 5: 51.92\n",
            "Digit 6: 66.02\n",
            "Digit 7: 41.07\n",
            "Digit 8: 60.97\n",
            "Digit 9: 49.02\n"
          ]
        }
      ]
    },
    {
      "cell_type": "markdown",
      "source": [
        "**6. Left half**\n",
        "\n",
        "*Calculating the average sum of active pixels for the left half of each image for each digit*"
      ],
      "metadata": {
        "id": "qqJHZlX9LXAk"
      }
    },
    {
      "cell_type": "code",
      "source": [
        "# Initialize a dictionary to store the average sum of active pixels in the left half for each digit\n",
        "average_left_half_active_pixels = {}\n",
        "\n",
        "# Loop through each digit from 0 to 9\n",
        "for digit in range(10):\n",
        "    # Get all images of the current digit\n",
        "    digit_images = train_X_bw[train_y == digit]\n",
        "\n",
        "    # List to store the left half sums for each image of the current digit\n",
        "    left_half_sums = []\n",
        "\n",
        "    for img in digit_images:\n",
        "        # Take the left half of the image (first 14 columns)\n",
        "        left_half = img[:, :14]\n",
        "\n",
        "        # Sum the active pixels in the left half\n",
        "        left_half_sum = left_half.sum()\n",
        "        left_half_sums.append(left_half_sum)\n",
        "\n",
        "    # Calculate the average sum of active pixels in the left half for this digit\n",
        "    average_left_half_active_pixels[digit] = np.mean(left_half_sums)\n",
        "\n",
        "# Display the average sum of active pixels in the left half for each digit\n",
        "print(\"Average sum of active pixels in the left half for each digit in the training set:\")\n",
        "for digit, avg_value in average_left_half_active_pixels.items():\n",
        "    print(f\"Digit {digit}: {avg_value:.2f}\")"
      ],
      "metadata": {
        "id": "IWQobnjXLX-z",
        "outputId": "656608f9-134f-433c-cfbb-dbe31e6c93a2",
        "colab": {
          "base_uri": "https://localhost:8080/"
        }
      },
      "execution_count": 14,
      "outputs": [
        {
          "output_type": "stream",
          "name": "stdout",
          "text": [
            "Average sum of active pixels in the left half for each digit in the training set:\n",
            "Digit 0: 65.81\n",
            "Digit 1: 23.58\n",
            "Digit 2: 52.99\n",
            "Digit 3: 47.37\n",
            "Digit 4: 42.35\n",
            "Digit 5: 48.33\n",
            "Digit 6: 52.43\n",
            "Digit 7: 37.33\n",
            "Digit 8: 56.17\n",
            "Digit 9: 40.78\n"
          ]
        }
      ]
    },
    {
      "cell_type": "markdown",
      "source": [
        "**7. Right half**\n",
        "\n",
        "*Calculating the average sum of active pixels for the right half of each image for each digit*"
      ],
      "metadata": {
        "id": "uAN3lukwLkMg"
      }
    },
    {
      "cell_type": "code",
      "source": [
        "# Initialize a dictionary to store the average sum of active pixels in the right half for each digit\n",
        "average_right_half_active_pixels = {}\n",
        "\n",
        "# Loop through each digit from 0 to 9\n",
        "for digit in range(10):\n",
        "    # Get all images of the current digit\n",
        "    digit_images = train_X_bw[train_y == digit]\n",
        "\n",
        "    # List to store the right half sums for each image of the current digit\n",
        "    right_half_sums = []\n",
        "\n",
        "    for img in digit_images:\n",
        "        # Take the right half of the image (last 14 columns)\n",
        "        right_half = img[:, 14:]\n",
        "\n",
        "        # Sum the active pixels in the right half\n",
        "        right_half_sum = right_half.sum()\n",
        "        right_half_sums.append(right_half_sum)\n",
        "\n",
        "    # Calculate the average sum of active pixels in the right half for this digit\n",
        "    average_right_half_active_pixels[digit] = np.mean(right_half_sums)\n",
        "\n",
        "# Display the average sum of active pixels in the right half for each digit\n",
        "print(\"Average sum of active pixels in the right half for each digit in the training set:\")\n",
        "for digit, avg_value in average_right_half_active_pixels.items():\n",
        "    print(f\"Digit {digit}: {avg_value:.2f}\")"
      ],
      "metadata": {
        "id": "nHezsHdVLk0L",
        "outputId": "a43449df-f01a-4d57-bc05-1d0cebf0cead",
        "colab": {
          "base_uri": "https://localhost:8080/"
        }
      },
      "execution_count": 15,
      "outputs": [
        {
          "output_type": "stream",
          "name": "stdout",
          "text": [
            "Average sum of active pixels in the right half for each digit in the training set:\n",
            "Digit 0: 71.75\n",
            "Digit 1: 36.63\n",
            "Digit 2: 65.24\n",
            "Digit 3: 65.08\n",
            "Digit 4: 53.59\n",
            "Digit 5: 53.83\n",
            "Digit 6: 56.66\n",
            "Digit 7: 53.37\n",
            "Digit 8: 63.44\n",
            "Digit 9: 56.53\n"
          ]
        }
      ]
    },
    {
      "cell_type": "markdown",
      "source": [
        "**8. First quadrant (top-left)**\n",
        "\n",
        "*Calculating the average sum of active pixels for the first quadrant (top-left) of each image for each digit*"
      ],
      "metadata": {
        "id": "r5udX20QMB8L"
      }
    },
    {
      "cell_type": "code",
      "source": [
        "# Initialize a dictionary to store the average sum of active pixels in the first quadrant for each digit\n",
        "average_first_quadrant_active_pixels = {}\n",
        "\n",
        "# Loop through each digit from 0 to 9\n",
        "for digit in range(10):\n",
        "    # Get all images of the current digit\n",
        "    digit_images = train_X_bw[train_y == digit]\n",
        "\n",
        "    # List to store the first quadrant sums for each image of the current digit\n",
        "    first_quadrant_sums = []\n",
        "\n",
        "    for img in digit_images:\n",
        "        # Take the first quadrant of the image (first 14 rows and first 14 columns)\n",
        "        first_quadrant = img[:14, :14]\n",
        "\n",
        "        # Sum the active pixels in the first quadrant\n",
        "        first_quadrant_sum = first_quadrant.sum()\n",
        "        first_quadrant_sums.append(first_quadrant_sum)\n",
        "\n",
        "    # Calculate the average sum of active pixels in the first quadrant for this digit\n",
        "    average_first_quadrant_active_pixels[digit] = np.mean(first_quadrant_sums)\n",
        "\n",
        "# Display the average sum of active pixels in the first quadrant for each digit\n",
        "print(\"Average sum of active pixels in the first quadrant for each digit in the training set:\")\n",
        "for digit, avg_value in average_first_quadrant_active_pixels.items():\n",
        "    print(f\"Digit {digit}: {avg_value:.2f}\")"
      ],
      "metadata": {
        "id": "0rlBQBUdMEK_",
        "outputId": "b6677dca-1585-47b4-cc4a-ef1f1c6de78a",
        "colab": {
          "base_uri": "https://localhost:8080/"
        }
      },
      "execution_count": 16,
      "outputs": [
        {
          "output_type": "stream",
          "name": "stdout",
          "text": [
            "Average sum of active pixels in the first quadrant for each digit in the training set:\n",
            "Digit 0: 26.48\n",
            "Digit 1: 4.93\n",
            "Digit 2: 16.59\n",
            "Digit 3: 22.18\n",
            "Digit 4: 18.88\n",
            "Digit 5: 23.29\n",
            "Digit 6: 21.33\n",
            "Digit 7: 21.84\n",
            "Digit 8: 22.86\n",
            "Digit 9: 20.88\n"
          ]
        }
      ]
    },
    {
      "cell_type": "markdown",
      "source": [
        "**8. Second quadrant (top-right)**\n",
        "\n",
        "*Calculating the average sum of active pixels for the second quadrant (top-right) of each image for each digit*"
      ],
      "metadata": {
        "id": "eLaY88WTMkYS"
      }
    },
    {
      "cell_type": "code",
      "source": [
        "# Initialize a dictionary to store the average sum of active pixels in the second quadrant for each digit\n",
        "average_second_quadrant_active_pixels = {}\n",
        "\n",
        "# Loop through each digit from 0 to 9\n",
        "for digit in range(10):\n",
        "    # Get all images of the current digit\n",
        "    digit_images = train_X_bw[train_y == digit]\n",
        "\n",
        "    # List to store the second quadrant sums for each image of the current digit\n",
        "    second_quadrant_sums = []\n",
        "\n",
        "    for img in digit_images:\n",
        "        # Take the second quadrant of the image (first 14 rows and last 14 columns)\n",
        "        second_quadrant = img[:14, 14:]\n",
        "\n",
        "        # Sum the active pixels in the second quadrant\n",
        "        second_quadrant_sum = second_quadrant.sum()\n",
        "        second_quadrant_sums.append(second_quadrant_sum)\n",
        "\n",
        "    # Calculate the average sum of active pixels in the second quadrant for this digit\n",
        "    average_second_quadrant_active_pixels[digit] = np.mean(second_quadrant_sums)\n",
        "\n",
        "# Display the average sum of active pixels in the second quadrant for each digit\n",
        "print(\"Average sum of active pixels in the second quadrant for each digit in the training set:\")\n",
        "for digit, avg_value in average_second_quadrant_active_pixels.items():\n",
        "    print(f\"Digit {digit}: {avg_value:.2f}\")"
      ],
      "metadata": {
        "id": "TdztzXSIMl5F",
        "outputId": "497fd34c-d1f3-45be-a70b-cffa36a76166",
        "colab": {
          "base_uri": "https://localhost:8080/"
        }
      },
      "execution_count": 17,
      "outputs": [
        {
          "output_type": "stream",
          "name": "stdout",
          "text": [
            "Average sum of active pixels in the second quadrant for each digit in the training set:\n",
            "Digit 0: 39.49\n",
            "Digit 1: 23.61\n",
            "Digit 2: 31.65\n",
            "Digit 3: 32.90\n",
            "Digit 4: 22.94\n",
            "Digit 5: 26.95\n",
            "Digit 6: 21.74\n",
            "Digit 7: 27.78\n",
            "Digit 8: 35.79\n",
            "Digit 9: 27.41\n"
          ]
        }
      ]
    },
    {
      "cell_type": "markdown",
      "source": [
        "**9. Third quadrant (bottom-left)**\n",
        "\n",
        "*Calculating the average sum of active pixels for the third quadrant (bottom-left) of each image for each digit*"
      ],
      "metadata": {
        "id": "89zg_EfaNKax"
      }
    },
    {
      "cell_type": "code",
      "source": [
        "# Initialize a dictionary to store the average sum of active pixels in the third quadrant for each digit\n",
        "average_third_quadrant_active_pixels = {}\n",
        "\n",
        "# Loop through each digit from 0 to 9\n",
        "for digit in range(10):\n",
        "    # Get all images of the current digit\n",
        "    digit_images = train_X_bw[train_y == digit]\n",
        "\n",
        "    # List to store the third quadrant sums for each image of the current digit\n",
        "    third_quadrant_sums = []\n",
        "\n",
        "    for img in digit_images:\n",
        "        # Take the third quadrant of the image (last 14 rows and first 14 columns)\n",
        "        third_quadrant = img[14:, :14]\n",
        "\n",
        "        # Sum the active pixels in the third quadrant\n",
        "        third_quadrant_sum = third_quadrant.sum()\n",
        "        third_quadrant_sums.append(third_quadrant_sum)\n",
        "\n",
        "    # Calculate the average sum of active pixels in the third quadrant for this digit\n",
        "    average_third_quadrant_active_pixels[digit] = np.mean(third_quadrant_sums)\n",
        "\n",
        "# Display the average sum of active pixels in the third quadrant for each digit\n",
        "print(\"Average sum of active pixels in the third quadrant for each digit in the training set:\")\n",
        "for digit, avg_value in average_third_quadrant_active_pixels.items():\n",
        "    print(f\"Digit {digit}: {avg_value:.2f}\")"
      ],
      "metadata": {
        "id": "m98tzZT9NMnG",
        "outputId": "f75c6b78-fdb4-453e-b9ff-7b42cae04dc2",
        "colab": {
          "base_uri": "https://localhost:8080/"
        }
      },
      "execution_count": 18,
      "outputs": [
        {
          "output_type": "stream",
          "name": "stdout",
          "text": [
            "Average sum of active pixels in the third quadrant for each digit in the training set:\n",
            "Digit 0: 39.33\n",
            "Digit 1: 18.65\n",
            "Digit 2: 36.40\n",
            "Digit 3: 25.19\n",
            "Digit 4: 23.47\n",
            "Digit 5: 25.04\n",
            "Digit 6: 31.09\n",
            "Digit 7: 15.49\n",
            "Digit 8: 33.32\n",
            "Digit 9: 19.90\n"
          ]
        }
      ]
    },
    {
      "cell_type": "markdown",
      "source": [
        "**10. Fourth quadrant (bottom-right)**\n",
        "\n",
        "*Calculating the average sum of active pixels for the fourth quadrant (bottom-right) of each image for each digit*"
      ],
      "metadata": {
        "id": "neW8o5lpNf1t"
      }
    },
    {
      "cell_type": "code",
      "source": [
        "# Initialize a dictionary to store the average sum of active pixels in the fourth quadrant for each digit\n",
        "average_fourth_quadrant_active_pixels = {}\n",
        "\n",
        "# Loop through each digit from 0 to 9\n",
        "for digit in range(10):\n",
        "    # Get all images of the current digit\n",
        "    digit_images = train_X_bw[train_y == digit]\n",
        "\n",
        "    # List to store the fourth quadrant sums for each image of the current digit\n",
        "    fourth_quadrant_sums = []\n",
        "\n",
        "    for img in digit_images:\n",
        "        # Take the fourth quadrant of the image (last 14 rows and last 14 columns)\n",
        "        fourth_quadrant = img[14:, 14:]\n",
        "\n",
        "        # Sum the active pixels in the fourth quadrant\n",
        "        fourth_quadrant_sum = fourth_quadrant.sum()\n",
        "        fourth_quadrant_sums.append(fourth_quadrant_sum)\n",
        "\n",
        "    # Calculate the average sum of active pixels in the fourth quadrant for this digit\n",
        "    average_fourth_quadrant_active_pixels[digit] = np.mean(fourth_quadrant_sums)\n",
        "\n",
        "# Display the average sum of active pixels in the fourth quadrant for each digit\n",
        "print(\"Average sum of active pixels in the fourth quadrant for each digit in the training set:\")\n",
        "for digit, avg_value in average_fourth_quadrant_active_pixels.items():\n",
        "    print(f\"Digit {digit}: {avg_value:.2f}\")"
      ],
      "metadata": {
        "id": "2ENcj4Q1NiQ_",
        "outputId": "2f748f4e-2a69-48cf-ec68-3bfb2363c616",
        "colab": {
          "base_uri": "https://localhost:8080/"
        }
      },
      "execution_count": 19,
      "outputs": [
        {
          "output_type": "stream",
          "name": "stdout",
          "text": [
            "Average sum of active pixels in the fourth quadrant for each digit in the training set:\n",
            "Digit 0: 32.26\n",
            "Digit 1: 13.02\n",
            "Digit 2: 33.59\n",
            "Digit 3: 32.18\n",
            "Digit 4: 30.65\n",
            "Digit 5: 26.88\n",
            "Digit 6: 34.92\n",
            "Digit 7: 25.59\n",
            "Digit 8: 27.65\n",
            "Digit 9: 29.12\n"
          ]
        }
      ]
    },
    {
      "cell_type": "markdown",
      "source": [
        "**11. Two Diagonals**"
      ],
      "metadata": {
        "id": "OcHRnWsUSlHo"
      }
    },
    {
      "cell_type": "code",
      "source": [
        "# Initialize a dictionary to store the average diagonal sum of active pixels for each digit\n",
        "average_diagonal_active_pixels = {}\n",
        "\n",
        "# Loop through each digit from 0 to 9\n",
        "for digit in range(10):\n",
        "    # Get all images of the current digit\n",
        "    digit_images = train_X_bw[train_y == digit]\n",
        "\n",
        "    # List to store the diagonal sums for each image of the current digit\n",
        "    diagonal_sums = []\n",
        "\n",
        "    for img in digit_images:\n",
        "        # Sum of active pixels on the main diagonal (top-left to bottom-right)\n",
        "        main_diagonal_sum = sum(img[i, i] for i in range(min(img.shape)))\n",
        "\n",
        "        # Sum of active pixels on the anti-diagonal (top-right to bottom-left)\n",
        "        anti_diagonal_sum = sum(img[i, img.shape[1] - i - 1] for i in range(min(img.shape)))\n",
        "\n",
        "        # Total diagonal sum for this image\n",
        "        total_diagonal_sum = main_diagonal_sum + anti_diagonal_sum\n",
        "        diagonal_sums.append(total_diagonal_sum)\n",
        "\n",
        "    # Calculate the average sum of active pixels on both diagonals for this digit\n",
        "    average_diagonal_active_pixels[digit] = np.mean(diagonal_sums)\n",
        "\n",
        "# Display the average sum of active pixels on both diagonals for each digit\n",
        "print(\"Average sum of active pixels on both diagonals for each digit in the training set:\")\n",
        "for digit, avg_value in average_diagonal_active_pixels.items():\n",
        "    print(f\"Digit {digit}: {avg_value:.2f}\")\n"
      ],
      "metadata": {
        "id": "yCnUR4rpSlvb",
        "outputId": "77e59c3e-1133-4994-dc1f-62ad7d90bde2",
        "colab": {
          "base_uri": "https://localhost:8080/"
        }
      },
      "execution_count": 20,
      "outputs": [
        {
          "output_type": "stream",
          "name": "stdout",
          "text": [
            "Average sum of active pixels on both diagonals for each digit in the training set:\n",
            "Digit 0: 9.37\n",
            "Digit 1: 7.66\n",
            "Digit 2: 12.24\n",
            "Digit 3: 12.28\n",
            "Digit 4: 10.46\n",
            "Digit 5: 10.62\n",
            "Digit 6: 9.69\n",
            "Digit 7: 7.63\n",
            "Digit 8: 14.01\n",
            "Digit 9: 10.07\n"
          ]
        }
      ]
    },
    {
      "cell_type": "markdown",
      "source": [
        "**12. Middle Portion**"
      ],
      "metadata": {
        "id": "8OitymKIvT6j"
      }
    },
    {
      "cell_type": "code",
      "source": [
        "import numpy as np\n",
        "\n",
        "# Initialize a dictionary to store the average active pixel count for each digit\n",
        "average_middle_region_sum = {}\n",
        "\n",
        "# Loop through each digit from 0 to 9\n",
        "for digit in range(10):\n",
        "    # Get all images of the current digit\n",
        "    digit_images = train_X_bw[train_y == digit]\n",
        "\n",
        "    # List to store the middle region sums for each image of the current digit\n",
        "    middle_region_sums = []\n",
        "\n",
        "    for img in digit_images:\n",
        "        # Define the 7x7 middle region (central part)\n",
        "        start = 11  # Starting index for both rows and columns\n",
        "        end = 18   # Ending index for both rows and columns\n",
        "\n",
        "        # Extract the 7x7 middle region\n",
        "        middle_region = img[start:end, start:end]\n",
        "\n",
        "        # Calculate the sum of active pixels (1s) in the middle region\n",
        "        middle_sum = middle_region.sum()\n",
        "        middle_region_sums.append(middle_sum)\n",
        "\n",
        "    # Calculate the average active pixel count for the middle region for this digit\n",
        "    average_middle_region_sum[digit] = np.mean(middle_region_sums)\n",
        "\n",
        "# Display the average middle region active pixel count for each digit\n",
        "print(\"Average number of active pixels in the 7x7 middle region for each digit:\")\n",
        "for digit, avg_value in average_middle_region_sum.items():\n",
        "    print(f\"Digit {digit}: {avg_value:.2f}\")\n"
      ],
      "metadata": {
        "id": "LWMVY70_vUtX",
        "outputId": "5d15092c-be95-4b26-9994-82007279e769",
        "colab": {
          "base_uri": "https://localhost:8080/"
        }
      },
      "execution_count": 21,
      "outputs": [
        {
          "output_type": "stream",
          "name": "stdout",
          "text": [
            "Average number of active pixels in the 7x7 middle region for each digit:\n",
            "Digit 0: 6.07\n",
            "Digit 1: 21.60\n",
            "Digit 2: 21.57\n",
            "Digit 3: 23.52\n",
            "Digit 4: 25.27\n",
            "Digit 5: 19.09\n",
            "Digit 6: 22.28\n",
            "Digit 7: 15.87\n",
            "Digit 8: 29.73\n",
            "Digit 9: 24.39\n"
          ]
        }
      ]
    },
    {
      "cell_type": "markdown",
      "source": [
        "### **Data Analysis - without thresholding**"
      ],
      "metadata": {
        "id": "ICSZS_8U0tGi"
      }
    },
    {
      "cell_type": "markdown",
      "source": [
        "Average Pixel Value"
      ],
      "metadata": {
        "id": "FD1jILdEAtxJ"
      }
    },
    {
      "cell_type": "code",
      "source": [
        "# prompt: I want to find average pixel value of for the images of each digit, without converting them into black and white\n",
        "\n",
        "from keras.datasets import mnist\n",
        "import numpy as np\n",
        "import matplotlib.pyplot as plt\n",
        "\n",
        "(train_X, train_y), (test_X, test_y) = mnist.load_data()\n",
        "\n",
        "# Calculate average pixel value for each digit\n",
        "average_pixel_values = {}\n",
        "for digit in range(10):\n",
        "    digit_images = train_X[train_y == digit]\n",
        "    average_pixel_values[digit] = np.mean(digit_images)\n",
        "\n",
        "# Print the results\n",
        "print(\"Average pixel value for each digit:\")\n",
        "for digit, avg_pixel_value in average_pixel_values.items():\n",
        "    print(f\"Digit {digit}: {avg_pixel_value:.2f}\")\n",
        "\n",
        "# Plotting the average pixel values\n",
        "plt.figure(figsize=(8, 5))  # Adjust figure size if needed\n",
        "plt.bar(average_pixel_values.keys(), average_pixel_values.values(), color='skyblue')\n",
        "for digit, avg_pixel_value in average_pixel_values.items():\n",
        "    plt.text(digit, avg_pixel_value, f\"{avg_pixel_value:.2f}\", ha='center', va='bottom')\n",
        "plt.xlabel(\"Digit\")\n",
        "plt.ylabel(\"Average Pixel Value\")\n",
        "plt.title(\"Average Pixel Value for Each Digit in MNIST the Dataset\")\n",
        "plt.xticks(range(10))  # Set x-ticks to display digits 0-9\n",
        "plt.show()"
      ],
      "metadata": {
        "colab": {
          "base_uri": "https://localhost:8080/",
          "height": 676
        },
        "id": "CXAMrGrx0xga",
        "outputId": "19026ae7-21f7-458c-8ddc-eb8179c23d66"
      },
      "execution_count": 47,
      "outputs": [
        {
          "output_type": "stream",
          "name": "stdout",
          "text": [
            "Average pixel value for each digit:\n",
            "Digit 0: 44.22\n",
            "Digit 1: 19.38\n",
            "Digit 2: 37.99\n",
            "Digit 3: 36.09\n",
            "Digit 4: 30.95\n",
            "Digit 5: 32.83\n",
            "Digit 6: 35.01\n",
            "Digit 7: 29.20\n",
            "Digit 8: 38.29\n",
            "Digit 9: 31.26\n"
          ]
        },
        {
          "output_type": "display_data",
          "data": {
            "text/plain": [
              "<Figure size 800x500 with 1 Axes>"
            ],
            "image/png": "[encoded data removed]"
          },
          "metadata": {}
        }
      ]
    }
  ]
}