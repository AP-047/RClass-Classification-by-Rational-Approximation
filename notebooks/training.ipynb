{
 "cells": [
  {
   "cell_type": "markdown",
   "id": "0b7c571f",
   "metadata": {
    "papermill": {
     "duration": 0.004777,
     "end_time": "2024-12-14T17:47:47.032735",
     "exception": false,
     "start_time": "2024-12-14T17:47:47.027958",
     "status": "completed"
    },
    "tags": []
   },
   "source": [
    "### Step 1: Import Data"
   ]
  },
  {
   "cell_type": "code",
   "execution_count": 1,
   "id": "1f06beef",
   "metadata": {
    "execution": {
     "iopub.execute_input": "2024-12-14T17:47:47.042370Z",
     "iopub.status.busy": "2024-12-14T17:47:47.041954Z",
     "iopub.status.idle": "2024-12-14T17:48:31.348484Z",
     "shell.execute_reply": "2024-12-14T17:48:31.347056Z"
    },
    "papermill": {
     "duration": 44.317642,
     "end_time": "2024-12-14T17:48:31.354441",
     "exception": false,
     "start_time": "2024-12-14T17:47:47.036799",
     "status": "completed"
    },
    "tags": []
   },
   "outputs": [
    {
     "name": "stderr",
     "output_type": "stream",
     "text": [
      "/opt/conda/lib/python3.10/site-packages/sklearn/datasets/_openml.py:968: FutureWarning: The default value of `parser` will change from `'liac-arff'` to `'auto'` in 1.4. You can set `parser='auto'` to silence this warning. Therefore, an `ImportError` will be raised from 1.4 if the dataset is dense and pandas is not installed. Note that the pandas parser may return different data types. See the Notes Section in fetch_openml's API doc for details.\n",
      "  warn(\n"
     ]
    },
    {
     "name": "stdout",
     "output_type": "stream",
     "text": [
      "x_full shape: (70000, 784), y_full shape: (70000,)\n"
     ]
    }
   ],
   "source": [
    "from sklearn.datasets import fetch_openml\n",
    "import numpy as np\n",
    "\n",
    "# Import MNIST dataset\n",
    "mnist = fetch_openml('mnist_784', version=1)\n",
    "x_full = mnist.data.values  # Full dataset\n",
    "y_full = mnist.target.values.astype(int)  # Labels (0–9)\n",
    "\n",
    "print(f\"x_full shape: {x_full.shape}, y_full shape: {y_full.shape}\")"
   ]
  },
  {
   "cell_type": "markdown",
   "id": "0dab466b",
   "metadata": {
    "papermill": {
     "duration": 0.003945,
     "end_time": "2024-12-14T17:48:31.362538",
     "exception": false,
     "start_time": "2024-12-14T17:48:31.358593",
     "status": "completed"
    },
    "tags": []
   },
   "source": [
    "### Step 2: Create Subset"
   ]
  },
  {
   "cell_type": "code",
   "execution_count": 2,
   "id": "ed9119ba",
   "metadata": {
    "execution": {
     "iopub.execute_input": "2024-12-14T17:48:31.373046Z",
     "iopub.status.busy": "2024-12-14T17:48:31.372214Z",
     "iopub.status.idle": "2024-12-14T17:48:31.472061Z",
     "shell.execute_reply": "2024-12-14T17:48:31.470661Z"
    },
    "papermill": {
     "duration": 0.107883,
     "end_time": "2024-12-14T17:48:31.474515",
     "exception": false,
     "start_time": "2024-12-14T17:48:31.366632",
     "status": "completed"
    },
    "tags": []
   },
   "outputs": [
    {
     "name": "stdout",
     "output_type": "stream",
     "text": [
      "x_subset shape: (10000, 784), y_subset shape: (10000,)\n",
      "Unique labels in y_subset: [0 1 2 3 4 5 6 7 8 9]\n",
      "x_subset[3].shape: (784,)\n"
     ]
    }
   ],
   "source": [
    "# Create a subset of training data (1000 images per digit)\n",
    "subset_size = 1000\n",
    "x_subset = []\n",
    "y_subset = []\n",
    "\n",
    "for digit in range(10):\n",
    "    digit_indices = np.where(y_full == digit)[0][:subset_size]\n",
    "    x_subset.append(x_full[digit_indices])\n",
    "    y_subset.append(y_full[digit_indices])\n",
    "\n",
    "x_subset = np.vstack(x_subset)\n",
    "y_subset = np.hstack(y_subset)\n",
    "\n",
    "print(f\"x_subset shape: {x_subset.shape}, y_subset shape: {y_subset.shape}\")\n",
    "print(f\"Unique labels in y_subset: {np.unique(y_subset)}\")\n",
    "print(f\"x_subset[3].shape: {x_subset[3].shape}\")"
   ]
  },
  {
   "cell_type": "markdown",
   "id": "aef9b1c3",
   "metadata": {
    "papermill": {
     "duration": 0.00402,
     "end_time": "2024-12-14T17:48:31.482907",
     "exception": false,
     "start_time": "2024-12-14T17:48:31.478887",
     "status": "completed"
    },
    "tags": []
   },
   "source": [
    "### Step 3: Preprocess Data"
   ]
  },
  {
   "cell_type": "code",
   "execution_count": 3,
   "id": "1fc177eb",
   "metadata": {
    "execution": {
     "iopub.execute_input": "2024-12-14T17:48:31.493909Z",
     "iopub.status.busy": "2024-12-14T17:48:31.493524Z",
     "iopub.status.idle": "2024-12-14T17:48:31.522173Z",
     "shell.execute_reply": "2024-12-14T17:48:31.521087Z"
    },
    "papermill": {
     "duration": 0.037453,
     "end_time": "2024-12-14T17:48:31.524467",
     "exception": false,
     "start_time": "2024-12-14T17:48:31.487014",
     "status": "completed"
    },
    "tags": []
   },
   "outputs": [
    {
     "name": "stdout",
     "output_type": "stream",
     "text": [
      "x_binarized shape: (10000, 784)\n"
     ]
    }
   ],
   "source": [
    "# Thresholding: Convert to binary\n",
    "threshold_value = 128\n",
    "x_binarized = (x_subset > threshold_value).astype(int)\n",
    "\n",
    "print(f\"x_binarized shape: {x_binarized.shape}\")"
   ]
  },
  {
   "cell_type": "markdown",
   "id": "4511f279",
   "metadata": {
    "papermill": {
     "duration": 0.004053,
     "end_time": "2024-12-14T17:48:31.532897",
     "exception": false,
     "start_time": "2024-12-14T17:48:31.528844",
     "status": "completed"
    },
    "tags": []
   },
   "source": [
    "### Step 4: Apply PCA"
   ]
  },
  {
   "cell_type": "code",
   "execution_count": 4,
   "id": "254bb669",
   "metadata": {
    "execution": {
     "iopub.execute_input": "2024-12-14T17:48:31.543029Z",
     "iopub.status.busy": "2024-12-14T17:48:31.542646Z",
     "iopub.status.idle": "2024-12-14T17:48:34.117300Z",
     "shell.execute_reply": "2024-12-14T17:48:34.113805Z"
    },
    "papermill": {
     "duration": 2.583119,
     "end_time": "2024-12-14T17:48:34.120201",
     "exception": false,
     "start_time": "2024-12-14T17:48:31.537082",
     "status": "completed"
    },
    "tags": []
   },
   "outputs": [
    {
     "name": "stdout",
     "output_type": "stream",
     "text": [
      "Original shape: (10000, 784), PCA shape: (10000, 180)\n",
      "variance retained: 0.8986737439632031\n",
      "shape of x_pca:  (10000, 180)\n",
      "shape of x_pca[0]:  (180,)\n"
     ]
    }
   ],
   "source": [
    "from sklearn.decomposition import PCA\n",
    "\n",
    "# Apply PCA to reduce dimensionality\n",
    "n_components = 180\n",
    "  # Adjustable based on explained variance\n",
    "pca = PCA(n_components=n_components)\n",
    "x_pca = pca.fit_transform(x_binarized)\n",
    "\n",
    "print(f\"Original shape: {x_binarized.shape}, PCA shape: {x_pca.shape}\")\n",
    "print(f\"variance retained: {np.sum(pca.explained_variance_ratio_)}\")\n",
    "\n",
    "print(f\"shape of x_pca: \", x_pca.shape)\n",
    "print(f\"shape of x_pca[0]: \", x_pca[0].shape)\n",
    "\n",
    "# print(f\"heck any image vector: \", x_pca[250])"
   ]
  },
  {
   "cell_type": "markdown",
   "id": "1d248523",
   "metadata": {
    "papermill": {
     "duration": 0.006154,
     "end_time": "2024-12-14T17:48:34.132878",
     "exception": false,
     "start_time": "2024-12-14T17:48:34.126724",
     "status": "completed"
    },
    "tags": []
   },
   "source": [
    "### Install CuPy for CUDA 12.2"
   ]
  },
  {
   "cell_type": "code",
   "execution_count": 5,
   "id": "74e2b0be",
   "metadata": {
    "execution": {
     "iopub.execute_input": "2024-12-14T17:48:34.148447Z",
     "iopub.status.busy": "2024-12-14T17:48:34.147413Z",
     "iopub.status.idle": "2024-12-14T17:48:53.729139Z",
     "shell.execute_reply": "2024-12-14T17:48:53.727825Z"
    },
    "papermill": {
     "duration": 19.592692,
     "end_time": "2024-12-14T17:48:53.731922",
     "exception": false,
     "start_time": "2024-12-14T17:48:34.139230",
     "status": "completed"
    },
    "tags": []
   },
   "outputs": [
    {
     "name": "stdout",
     "output_type": "stream",
     "text": [
      "Collecting cupy-cuda12x\r\n",
      "  Downloading cupy_cuda12x-13.3.0-cp310-cp310-manylinux2014_x86_64.whl.metadata (2.7 kB)\r\n",
      "Requirement already satisfied: numpy<2.3,>=1.22 in /opt/conda/lib/python3.10/site-packages (from cupy-cuda12x) (1.26.4)\r\n",
      "Collecting fastrlock>=0.5 (from cupy-cuda12x)\r\n",
      "  Downloading fastrlock-0.8.2-cp310-cp310-manylinux_2_5_x86_64.manylinux1_x86_64.manylinux_2_28_x86_64.whl.metadata (9.3 kB)\r\n",
      "Downloading cupy_cuda12x-13.3.0-cp310-cp310-manylinux2014_x86_64.whl (90.6 MB)\r\n",
      "\u001b[2K   \u001b[90m━━━━━━━━━━━━━━━━━━━━━━━━━━━━━━━━━━━━━━━━\u001b[0m \u001b[32m90.6/90.6 MB\u001b[0m \u001b[31m16.8 MB/s\u001b[0m eta \u001b[36m0:00:00\u001b[0m\r\n",
      "\u001b[?25hDownloading fastrlock-0.8.2-cp310-cp310-manylinux_2_5_x86_64.manylinux1_x86_64.manylinux_2_28_x86_64.whl (51 kB)\r\n",
      "\u001b[2K   \u001b[90m━━━━━━━━━━━━━━━━━━━━━━━━━━━━━━━━━━━━━━━━\u001b[0m \u001b[32m51.3/51.3 kB\u001b[0m \u001b[31m2.2 MB/s\u001b[0m eta \u001b[36m0:00:00\u001b[0m\r\n",
      "\u001b[?25hInstalling collected packages: fastrlock, cupy-cuda12x\r\n",
      "Successfully installed cupy-cuda12x-13.3.0 fastrlock-0.8.2\r\n"
     ]
    }
   ],
   "source": [
    "!pip install cupy-cuda12x"
   ]
  },
  {
   "cell_type": "markdown",
   "id": "f9e871bd",
   "metadata": {
    "papermill": {
     "duration": 0.005997,
     "end_time": "2024-12-14T17:48:53.744546",
     "exception": false,
     "start_time": "2024-12-14T17:48:53.738549",
     "status": "completed"
    },
    "tags": []
   },
   "source": [
    "### Step 5: Define Rational Function"
   ]
  },
  {
   "cell_type": "code",
   "execution_count": 6,
   "id": "b9f26c33",
   "metadata": {
    "execution": {
     "iopub.execute_input": "2024-12-14T17:48:53.759192Z",
     "iopub.status.busy": "2024-12-14T17:48:53.758793Z",
     "iopub.status.idle": "2024-12-14T17:48:54.974617Z",
     "shell.execute_reply": "2024-12-14T17:48:54.973330Z"
    },
    "papermill": {
     "duration": 1.226294,
     "end_time": "2024-12-14T17:48:54.977109",
     "exception": false,
     "start_time": "2024-12-14T17:48:53.750815",
     "status": "completed"
    },
    "tags": []
   },
   "outputs": [],
   "source": [
    "\n",
    "import cupy as cp\n",
    "def rational_function(x, alpha, beta):\n",
    "    \"\"\"\n",
    "    r(x) = (α_0 + α_1*x1**1 + α_2*x2**2 + α_3*x3**3 + ...) /\n",
    "            (β_0 + β_1*x1**1 + β_2*x2**2 + β_3*x3**3 + ...)\n",
    "    \"\"\"\n",
    "    # Ensure x is treated as a 1D vector when passed for a single data point\n",
    "    x = cp.asarray(x)  # Convert to CuPy array\n",
    "\n",
    "    # Numerator polynomial\n",
    "    numerator = alpha[0] + alpha[1] * x[0]**1 + alpha[2] * x[1]**2 + alpha[3] * x[2]**3 + alpha[4] * x[3]**4 + alpha[5] * x[4]**5 + alpha[6] * x[5]**6 + alpha[7] * x[6]**7 + alpha[8] * x[7]**8 + alpha[9] * x[8]**9 + alpha[10] * x[9]**10 + alpha[11] * x[10]**11 + alpha[12] * x[11]**12 + alpha[13] * x[12]**13 + alpha[14] * x[13]**14 + alpha[15] * x[14]**15 + alpha[16] * x[15]**16 + alpha[17] * x[16]**17 + alpha[18] * x[17]**18 + alpha[19] * x[18]**19 + alpha[20] * x[19]**20 + alpha[21] * x[20]**21 + alpha[22] * x[21]**22 + alpha[23] * x[22]**23 + alpha[24] * x[23]**24 + alpha[25] * x[24]**25 + alpha[26] * x[25]**26 + alpha[27] * x[26]**27 + alpha[28] * x[27]**28 + alpha[29] * x[28]**29 + alpha[30] * x[29]**30 + alpha[31] * x[30]**31 + alpha[32] * x[31]**32 + alpha[33] * x[32]**33 + alpha[34] * x[33]**34 + alpha[35] * x[34]**35 + alpha[36] * x[35]**36 + alpha[37] * x[36]**37 + alpha[38] * x[37]**38 + alpha[39] * x[38]**39 + alpha[40] * x[39]**40 + alpha[41] * x[40]**41 + alpha[42] * x[41]**42 + alpha[43] * x[42]**43 + alpha[44] * x[43]**44 + alpha[45] * x[44]**45\n",
    "\n",
    "    # + alpha[46] * x[45]**46 + alpha[47] * x[46]**47 + alpha[48] * x[47]**48 + alpha[49] * x[48]**49 + alpha[50] * x[49]**50 + alpha[51] * x[50]**51 +\n",
    "\n",
    "    # Denominator polynomial\n",
    "    denominator = beta[0] + beta[1] * x[0]**1 + beta[2] * x[1]**2 + beta[3] * x[2]**3 + beta[4] * x[3]**4 + beta[5] * x[4]**5 + beta[6] * x[5]**6 + beta[7] * x[6]** + beta[8] * x[7]**8 + beta[9] * x[8]**9 + beta[10] * x[9]**10 + beta[11] * x[10]**11 + beta[12] * x[11]**12 + beta[13] * x[12]**13 + beta[14] * x[13]**14 + beta[15] * x[14]**15 + beta[16] * x[15]**16 + beta[17] * x[16]**17 + beta[18] * x[17]**18 + beta[19] * x[18]**19 + beta[20] * x[19]**20 + beta[21] * x[20]**21 + beta[22] * x[21]**22 + beta[23] * x[22]**23 + beta[24] * x[23]**24 + beta[25] * x[24]**25 + beta[26] * x[25]**26 + beta[27] * x[26]**27 + beta[28] * x[27]**28 + beta[29] * x[28]**29 + beta[30] * x[29]**30 + beta[31] * x[30]**31 + beta[32] * x[31]**32 + beta[33] * x[32]**33 + beta[34] * x[33]**34 + beta[35] * x[34]**35 + beta[36] * x[35]**36 + beta[37] * x[36]**37 + beta[38] * x[37]**38 + beta[39] * x[38]**39 + beta[40] + beta[40] * x[39]**40 + beta[41] * x[40]**41 + beta[42] * x[41]**42 + beta[43] * x[42]**43 + beta[44] * x[43]**44 + beta[45] * x[44]**45\n",
    "\n",
    "    # + beta[46] * x[45]**46 + beta[47] * x[46]**47 + beta[48] * x[47]**48 + beta[49] * x[48]**49 + beta[50] * x[49]**50 + beta[51] * x[50]**51 + beta[52] * x[51]**52 + beta[53] * x[52]**53 + beta[54] * x[53]**54 + beta[55] * x[54]**55\n",
    "\n",
    "    return numerator / denominator\n",
    "\n",
    "# x = [1, 1, 1, 1, 1, 1, 1, 1, 1, 1, 1, 1, 1, 1, 1, 1, 1, 1, 1, 1, 1, 1, 1, 1, 1, 1, 1, 1, 1, 1, 1, 1, 1, 1, 1, 1, 1, 1, 1, 1, 1, 1, 1, 1, 1]\n",
    "# alpha = [1, 1, 1, 1, 1, 1, 1, 1, 1, 1, 1, 1, 1, 1, 1, 1, 1, 1, 1, 1, 1, 1, 1, 1, 1, 1, 1, 1, 1, 1, 1, 1, 1, 1, 1, 1, 1, 1, 1, 1, 1, 1, 1, 1, 1, 1]\n",
    "# beta = [1, 1, 1, 1, 1, 1, 1, 1, 1, 1, 1, 1, 1, 1, 1, 1, 1, 1, 1, 1, 1, 1, 1, 1, 1, 1, 1, 1, 1, 1, 1, 1, 1, 1, 1, 1, 1, 1, 1, 1, 1, 1, 1, 1, 1, 1]\n",
    "\n",
    "# print(f\"lenght of x: {len(x)}\")\n",
    "# print(f\"lenght of alpha: {len(alpha)}\")\n",
    "# print(f\"lenght of beta: {len(beta)}\")\n",
    "\n",
    "# Result = rational_function(x, alpha, beta)\n",
    "# print(f\"Result: {Result}\")"
   ]
  },
  {
   "cell_type": "markdown",
   "id": "e9682255",
   "metadata": {
    "papermill": {
     "duration": 0.005933,
     "end_time": "2024-12-14T17:48:54.989295",
     "exception": false,
     "start_time": "2024-12-14T17:48:54.983362",
     "status": "completed"
    },
    "tags": []
   },
   "source": [
    "### Folder"
   ]
  },
  {
   "cell_type": "code",
   "execution_count": 7,
   "id": "a65fc99a",
   "metadata": {
    "execution": {
     "iopub.execute_input": "2024-12-14T17:48:55.002913Z",
     "iopub.status.busy": "2024-12-14T17:48:55.002530Z",
     "iopub.status.idle": "2024-12-14T17:48:55.062459Z",
     "shell.execute_reply": "2024-12-14T17:48:55.061052Z"
    },
    "papermill": {
     "duration": 0.069573,
     "end_time": "2024-12-14T17:48:55.064838",
     "exception": false,
     "start_time": "2024-12-14T17:48:54.995265",
     "status": "completed"
    },
    "tags": []
   },
   "outputs": [
    {
     "name": "stdout",
     "output_type": "stream",
     "text": [
      "Directory '/content/drive/MyDrive/Colab Notebooks/models/' created successfully.\n"
     ]
    }
   ],
   "source": [
    "import os\n",
    "\n",
    "# Define the path to the models/ directory in Colab Notebooks\n",
    "models_dir = \"/content/drive/MyDrive/Colab Notebooks/models/\"\n",
    "\n",
    "# Create the directory if it does not exist\n",
    "if not os.path.exists(models_dir):\n",
    "    os.makedirs(models_dir)\n",
    "    print(f\"Directory '{models_dir}' created successfully.\")\n",
    "else:\n",
    "    print(f\"Directory '{models_dir}' already exists.\")"
   ]
  },
  {
   "cell_type": "markdown",
   "id": "ba2a8156",
   "metadata": {
    "papermill": {
     "duration": 0.005881,
     "end_time": "2024-12-14T17:48:55.077145",
     "exception": false,
     "start_time": "2024-12-14T17:48:55.071264",
     "status": "completed"
    },
    "tags": []
   },
   "source": [
    "### Step 6: Train Classifiers"
   ]
  },
  {
   "cell_type": "code",
   "execution_count": 8,
   "id": "d9012c9e",
   "metadata": {
    "execution": {
     "iopub.execute_input": "2024-12-14T17:48:55.091899Z",
     "iopub.status.busy": "2024-12-14T17:48:55.091534Z",
     "iopub.status.idle": "2024-12-14T17:48:55.100432Z",
     "shell.execute_reply": "2024-12-14T17:48:55.099273Z"
    },
    "papermill": {
     "duration": 0.019378,
     "end_time": "2024-12-14T17:48:55.102707",
     "exception": false,
     "start_time": "2024-12-14T17:48:55.083329",
     "status": "completed"
    },
    "tags": []
   },
   "outputs": [],
   "source": [
    "# import pickle\n",
    "# import cupy as cp\n",
    "# import numpy as np\n",
    "# from scipy.optimize import linprog\n",
    "# import matplotlib.pyplot as plt\n",
    "\n",
    "# # Feasibility check function\n",
    "# def check_feasibility_and_compute_coefficients(z, x_pca, y_binary):\n",
    "#     num_data_points = x_pca.shape[0]\n",
    "#     num_coefficients = n_components + 1  # (+1 for constant term)\n",
    "#     delta = 1e-6  # a small positive value\n",
    "\n",
    "#     # Construct G(x) and H(x) matrices for numerator and denominator\n",
    "#     G = cp.zeros((num_data_points, num_coefficients))  # Numerator matrix\n",
    "#     H = cp.zeros((num_data_points, num_coefficients))  # Denominator matrix\n",
    "\n",
    "#     for i in range(num_data_points):\n",
    "#       G[i, 0] = 1\n",
    "#       H[i, 0] = 1\n",
    "#       for j in range(num_coefficients-1):\n",
    "#         G[i, j+1] = x_pca[i, j] ** (j+1)\n",
    "#         H[i, j+1] = x_pca[i, j] ** (j+1)\n",
    "\n",
    "#     # print(f\"G: {G}\")\n",
    "#     # print(f\"H: {H}\")\n",
    "\n",
    "#     # Construct constraints for Ax <= b\n",
    "#     A = []\n",
    "#     b = []\n",
    "\n",
    "#     for i in range(num_data_points):\n",
    "#         f_plus_z = y_binary[i] + z  # Upper bound\n",
    "#         f_minus_z = y_binary[i] - z  # Lower bound\n",
    "\n",
    "#         # Constraint 1: (f(xi) - z) * β^T H(xi) - α^T G(xi) ≤ θ\n",
    "#         # (-G(xi))αT + (f(xi) - z).H(xi)βT + (-1)θ ≤ 0\n",
    "#         constraint_1 = cp.zeros(2 * num_coefficients + 1)\n",
    "#         # (1) Coefficients of α\n",
    "#         constraint_1[0:num_coefficients] = -G[i]\n",
    "#         # (2) Coefficients of β\n",
    "#         constraint_1[num_coefficients:2 * num_coefficients] = (f_minus_z) * H[i]\n",
    "#         # (3) Coefficient of θ (last element)\n",
    "#         constraint_1[-1] = -1\n",
    "#         A.append(constraint_1)\n",
    "#         b.append(0)\n",
    "\n",
    "#         # Constraint 2: α^T G(xi) + (-1).(f(xi) + z) * β^T H(xi) ≤ θ\n",
    "#         # G(xi).αT + (-1)(f(xi) - z).H(xi)βT + (-1)θ ≤ 0\n",
    "#         constraint_2 = cp.zeros(2 * num_coefficients + 1)\n",
    "#         # (1) Coefficients of α\n",
    "#         constraint_2[0:num_coefficients] = G[i]\n",
    "#         # (2) Coefficients of β\n",
    "#         constraint_2[num_coefficients:2 * num_coefficients] = -(f_plus_z) * H[i]\n",
    "#         # (3) Coefficient of θ (last element)\n",
    "#         constraint_2[-1] = -1\n",
    "#         A.append(constraint_2)\n",
    "#         b.append(0)\n",
    "\n",
    "#         # Constraint 3: β^T H(x) ≥ δ\n",
    "#         # (0)α^T + (-H(x)) β^T + (0)θ ≤ -δ\n",
    "#         constraint_3 = cp.zeros(2 * num_coefficients + 1)\n",
    "#         # Coefficient of β\n",
    "#         constraint_3[num_coefficients:2 * num_coefficients] = -H[i]\n",
    "#         A.append(constraint_3)\n",
    "#         b.append(-delta)\n",
    "\n",
    "#     # Convert CuPy arrays to NumPy arrays for SciPy\n",
    "#     A = cp.asnumpy(cp.array(A))\n",
    "#     b = cp.asnumpy(cp.array(b))\n",
    "\n",
    "#     # print(f\"A =\", len(A))\n",
    "#     # print(f\"A: {A[0]}\")\n",
    "#     # print(f\"len(A[0]): {len(A[0])}\")\n",
    "#     # print(f\"len(b): {len(b)}\")\n",
    "\n",
    "#     # Objective function to minimize θ\n",
    "#     c = cp.asnumpy(cp.zeros(2 * num_coefficients + 1))\n",
    "#     c[-1] = 1  # Only θ has a coefficient in the objective function\n",
    "\n",
    "#     # Solve the linear programming problem\n",
    "#     result = linprog(c, A_ub=A, b_ub=b, method=\"highs\")\n",
    "\n",
    "#     # Check feasibility and return results\n",
    "#     if result.success:\n",
    "#         alpha_coefficients = result.x[:num_coefficients]\n",
    "#         beta_coefficients = result.x[num_coefficients:2 * num_coefficients]\n",
    "#         theta = result.x[-1]\n",
    "#         return True, alpha_coefficients, beta_coefficients, theta\n",
    "#     else:\n",
    "#         return False, None, None, None\n",
    "\n",
    "\n",
    "# # Bisection loop\n",
    "# def bisection_loop(x_pca, y_binary, uL, uH, precision):\n",
    "#     optimal_alpha, optimal_beta, optimal_theta = None, None, None\n",
    "#     z_values = []\n",
    "\n",
    "#     while uH - uL > precision:\n",
    "#         z = (uL + uH) / 2\n",
    "#         z_values.append(z)\n",
    "#         feasible, alpha_coefficients, beta_coefficients, theta = check_feasibility_and_compute_coefficients(z, x_pca, y_binary)\n",
    "\n",
    "#         if feasible:\n",
    "#             uH = z\n",
    "#             optimal_alpha, optimal_beta, optimal_theta = alpha_coefficients, beta_coefficients, theta\n",
    "#         else:\n",
    "#             uL = z\n",
    "\n",
    "#     return uH, optimal_alpha, optimal_beta, optimal_theta, z_values\n",
    "\n",
    "# # Train a classifier for each digit\n",
    "# for digit in range(10):\n",
    "#     print(f\"Training classifier for digit {digit}...\")\n",
    "\n",
    "#     # Assign labels: Positive for the current digit, negative for others\n",
    "#     y_binary = (y_subset == digit).astype(int)\n",
    "\n",
    "#     # Bisection parameters\n",
    "#     uL = 0  # Initial lower bound\n",
    "#     uH = 1000  # Initial upper bound\n",
    "#     precision = 1e-6  # Precision threshold\n",
    "\n",
    "#     # Run bisection loop\n",
    "#     optimal_z, optimal_alpha, optimal_beta, optimal_theta, z_values = bisection_loop(x_pca, y_binary, uL, uH, precision)\n",
    "\n",
    "#     # Print results\n",
    "#     print(f\"Number of Iterations: {len(z_values)}\")\n",
    "#     print(f\"z Values in all Iterations: {z_values}\")\n",
    "#     print(f\"Optimal z (Maximum Deviation): {optimal_z}\")\n",
    "\n",
    "#     # # Plot convergence of z values\n",
    "#     # plt.figure(figsize=(8, 6))\n",
    "#     # plt.plot(range(len(z_values)), z_values, marker='o', linestyle='-')\n",
    "#     # plt.xlabel(\"Iteration\")\n",
    "#     # plt.ylabel(\"z Value\")\n",
    "#     # plt.title(\"Convergence of z Values\")\n",
    "#     # plt.grid(True)\n",
    "#     # plt.show()\n",
    "\n",
    "#     print(f\"Optimized Coefficients (Numerator α): {optimal_alpha}\")\n",
    "#     print(f\"Optimized Coefficients (Denominator β): {optimal_beta}\")\n",
    "#     print(f\"Optimal θ: {optimal_theta}\")\n",
    "#     # print(f\"rational_function =\", rational_function(x_pca[0], optimal_alpha, optimal_beta))\n",
    "\n",
    "#     # Save the model\n",
    "#     model = {\n",
    "#         \"alpha\": optimal_alpha,\n",
    "#         \"beta\": optimal_beta,\n",
    "#         \"theta\": optimal_theta,\n",
    "#         \"n_components\": n_components\n",
    "#     }\n",
    "\n",
    "#     with open(f\"{models_dir}classifier_{digit}.pkl\", \"wb\") as file:\n",
    "#         pickle.dump(model, file)\n",
    "\n",
    "#     print(f\"Model for digit {digit} saved at {models_dir}\")"
   ]
  },
  {
   "cell_type": "markdown",
   "id": "9a22bc4e",
   "metadata": {
    "papermill": {
     "duration": 0.00596,
     "end_time": "2024-12-14T17:48:55.114856",
     "exception": false,
     "start_time": "2024-12-14T17:48:55.108896",
     "status": "completed"
    },
    "tags": []
   },
   "source": []
  }
 ],
 "metadata": {
  "kaggle": {
   "accelerator": "none",
   "dataSources": [],
   "dockerImageVersionId": 30804,
   "isGpuEnabled": false,
   "isInternetEnabled": true,
   "language": "python",
   "sourceType": "notebook"
  },
  "kernelspec": {
   "display_name": "Python 3",
   "language": "python",
   "name": "python3"
  },
  "language_info": {
   "codemirror_mode": {
    "name": "ipython",
    "version": 3
   },
   "file_extension": ".py",
   "mimetype": "text/x-python",
   "name": "python",
   "nbconvert_exporter": "python",
   "pygments_lexer": "ipython3",
   "version": "3.10.14"
  },
  "papermill": {
   "default_parameters": {},
   "duration": 72.334339,
   "end_time": "2024-12-14T17:48:55.942488",
   "environment_variables": {},
   "exception": null,
   "input_path": "__notebook__.ipynb",
   "output_path": "__notebook__.ipynb",
   "parameters": {},
   "start_time": "2024-12-14T17:47:43.608149",
   "version": "2.6.0"
  }
 },
 "nbformat": 4,
 "nbformat_minor": 5
}
