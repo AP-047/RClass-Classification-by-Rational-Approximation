{
  "nbformat": 4,
  "nbformat_minor": 0,
  "metadata": {
    "colab": {
      "provenance": [],
      "authorship_tag": "ABX9TyNXNkAKX1jdzOiqhOk7H5Gi",
      "include_colab_link": true
    },
    "kernelspec": {
      "name": "python3",
      "display_name": "Python 3"
    },
    "language_info": {
      "name": "python"
    }
  },
  "cells": [
    {
      "cell_type": "markdown",
      "metadata": {
        "id": "view-in-github",
        "colab_type": "text"
      },
      "source": [
        "<a href=\"https://colab.research.google.com/github/AP-047/RClass-Classification-by-Rational-Approximation/blob/main/notebooks/training.ipynb\" target=\"_parent\"><img src=\"https://colab.research.google.com/assets/colab-badge.svg\" alt=\"Open In Colab\"/></a>"
      ]
    },
    {
      "cell_type": "markdown",
      "source": [
        "**Step 1: Import Data**"
      ],
      "metadata": {
        "id": "bUJ52GlEoPaS"
      }
    },
    {
      "cell_type": "code",
      "execution_count": null,
      "metadata": {
        "id": "yiaJ_WXFXb7F"
      },
      "outputs": [],
      "source": [
        "from sklearn.datasets import fetch_openml\n",
        "import numpy as np\n",
        "\n",
        "# Import MNIST dataset\n",
        "mnist = fetch_openml('mnist_784', version=1)\n",
        "x_full = mnist.data.values  # Full dataset\n",
        "y_full = mnist.target.values.astype(int)  # Labels (0–9)"
      ]
    },
    {
      "cell_type": "markdown",
      "source": [
        "**Step 2: Create Subset**"
      ],
      "metadata": {
        "id": "GeL0QEKqoU9C"
      }
    },
    {
      "cell_type": "code",
      "source": [
        "# Create a subset of training data (1000 images per digit)\n",
        "subset_size = 1000\n",
        "x_subset = []\n",
        "y_subset = []\n",
        "\n",
        "for digit in range(10):\n",
        "    digit_indices = np.where(y_full == digit)[0][:subset_size]\n",
        "    x_subset.append(x_full[digit_indices])\n",
        "    y_subset.append(y_full[digit_indices])\n",
        "\n",
        "x_subset = np.vstack(x_subset)\n",
        "y_subset = np.hstack(y_subset)"
      ],
      "metadata": {
        "id": "tBUDI_IAoYpB"
      },
      "execution_count": null,
      "outputs": []
    },
    {
      "cell_type": "markdown",
      "source": [
        "**Step 3: Preprocess Data**"
      ],
      "metadata": {
        "id": "zBmrbgqgoY6_"
      }
    },
    {
      "cell_type": "code",
      "source": [
        "# Thresholding: Convert to binary\n",
        "threshold_value = 128\n",
        "x_binarized = (x_subset > threshold_value).astype(int)\n",
        "\n",
        "# Flattening is already done; each row is a 784-dimensional vector"
      ],
      "metadata": {
        "id": "e4C3RGZRochy"
      },
      "execution_count": null,
      "outputs": []
    },
    {
      "cell_type": "markdown",
      "source": [
        "**Step 4: Apply PCA**"
      ],
      "metadata": {
        "id": "xsxz1Z2woefg"
      }
    },
    {
      "cell_type": "code",
      "source": [
        "from sklearn.decomposition import PCA\n",
        "\n",
        "# Apply PCA to reduce dimensionality\n",
        "n_components = 20  # Adjustable based on explained variance\n",
        "pca = PCA(n_components=n_components)\n",
        "x_pca = pca.fit_transform(x_binarized)\n",
        "\n",
        "print(f\"Original shape: {x_binarized.shape}, PCA shape: {x_pca.shape}\")"
      ],
      "metadata": {
        "id": "N_NP74bOogei"
      },
      "execution_count": null,
      "outputs": []
    },
    {
      "cell_type": "markdown",
      "source": [
        "**Step 5: Train Classifiers**"
      ],
      "metadata": {
        "id": "q2LyFYx6oiZy"
      }
    },
    {
      "cell_type": "code",
      "source": [
        "import pickle\n",
        "import cupy as cp\n",
        "import numpy as np\n",
        "from scipy.optimize import linprog\n",
        "import matplotlib.pyplot as plt\n",
        "\n",
        "# Train a classifier for each digit\n",
        "for digit in range(10):\n",
        "    print(f\"Training classifier for digit {digit}...\")\n",
        "\n",
        "    # Assign labels: Positive for the current digit, negative for others\n",
        "    y_binary = (y_subset == digit).astype(int)\n",
        "\n",
        "    ######################################\n",
        "    # Target function (|x1 + x2 + x3 + x4 - 0.1|)\n",
        "    def target_function(x):\n",
        "        return cp.abs(x[:, 0] + x[:, 1] + x[:, 2] + x[:, 3] - 0.1)\n",
        "\n",
        "    ######################################\n",
        "    def rational_function(x, alpha, beta):\n",
        "        \"\"\"\n",
        "        r(x) = (α_0 + α_1*x1**1 + α_2*x2**2 + α_3*x3**3 + α_4*x4**4) /\n",
        "               (β_0 + β_1*x1**1 + β_2*x2**2 + β_3*x3**3 + β_4*x4**4)\n",
        "        \"\"\"\n",
        "        # Ensure x is treated as a 1D vector when passed for a single data point\n",
        "        x = cp.asarray(x)  # Convert to CuPy array\n",
        "        # Numerator polynomial\n",
        "        numerator = alpha[0] + alpha[1] * x[0]**1 + alpha[2] * x[1]**2 + alpha[3] * x[2]**3 + alpha[4] * x[3]**4\n",
        "        # Denominator polynomial\n",
        "        denominator = beta[0] + beta[1] * x[0]**1 + beta[2] * x[1]**2 + beta[3] * x[2]**3 + beta[4] * x[3]**4\n",
        "\n",
        "        return numerator / denominator\n",
        "\n",
        "    delta = 1e-6  # a small positive value\n",
        "\n",
        "    # Feasibility check function\n",
        "    def check_feasibility_and_compute_coefficients(z, x_data, y_data):\n",
        "        num_data_points = x_data.shape[0]\n",
        "        num_coefficients = 4+1  # (1 constant term + 4 variables)\n",
        "\n",
        "        # Construct G(x) and H(x) matrices for numerator and denominator\n",
        "        G = cp.zeros((num_data_points, num_coefficients))  # Numerator matrix\n",
        "        H = cp.zeros((num_data_points, num_coefficients))  # Denominator matrix\n",
        "\n",
        "        for i in range(num_data_points):\n",
        "          G[i, 0] = 1\n",
        "          H[i, 0] = 1\n",
        "          for j in range(num_coefficients-1):\n",
        "            G[i, j+1] = x_data[i, j] ** (j+1)\n",
        "            H[i, j+1] = x_data[i, j] ** (j+1)\n",
        "\n",
        "        # print(f\"G: {G}\")\n",
        "        # print(f\"H: {H}\")\n",
        "\n",
        "        # Construct constraints for Ax <= b\n",
        "        A = []\n",
        "        b = []\n",
        "\n",
        "        for i in range(num_data_points):\n",
        "            f_plus_z = y_data[i] + z  # Upper bound\n",
        "            f_minus_z = y_data[i] - z  # Lower bound\n",
        "\n",
        "            # Constraint 1: (f(xi) - z) * β^T H(xi) - α^T G(xi) ≤ θ\n",
        "            # (-G(xi))αT + (f(xi) - z).H(xi)βT + (-1)θ ≤ 0\n",
        "            constraint_1 = cp.zeros(2 * num_coefficients + 1)\n",
        "            # (1) Coefficients of α\n",
        "            constraint_1[0:num_coefficients] = -G[i]\n",
        "            # (2) Coefficients of β\n",
        "            constraint_1[num_coefficients:2 * num_coefficients] = (f_minus_z) * H[i]\n",
        "            # (3) Coefficient of θ (last element)\n",
        "            constraint_1[-1] = -1\n",
        "            A.append(constraint_1)\n",
        "            b.append(0)\n",
        "\n",
        "            # Constraint 2: α^T G(xi) + (-1).(f(xi) + z) * β^T H(xi) ≤ θ\n",
        "            # G(xi).αT + (-1)(f(xi) - z).H(xi)βT + (-1)θ ≤ 0\n",
        "            constraint_2 = cp.zeros(2 * num_coefficients + 1)\n",
        "            # (1) Coefficients of α\n",
        "            constraint_2[0:num_coefficients] = G[i]\n",
        "            # (2) Coefficients of β\n",
        "            constraint_2[num_coefficients:2 * num_coefficients] = -(f_plus_z) * H[i]\n",
        "            # (3) Coefficient of θ (last element)\n",
        "            constraint_2[-1] = -1\n",
        "            A.append(constraint_2)\n",
        "            b.append(0)\n",
        "\n",
        "            # Constraint 3: β^T H(x) ≥ δ\n",
        "            # (0)α^T + (-H(x)) β^T + (0)θ ≤ -δ\n",
        "            constraint_3 = cp.zeros(2 * num_coefficients + 1)\n",
        "            # Coefficient of β\n",
        "            constraint_3[num_coefficients:2 * num_coefficients] = -H[i]\n",
        "            A.append(constraint_3)\n",
        "            b.append(-delta)\n",
        "\n",
        "        # Convert CuPy arrays to NumPy arrays for SciPy\n",
        "        A = cp.asnumpy(cp.array(A))\n",
        "        b = cp.asnumpy(cp.array(b))\n",
        "\n",
        "        # print(f\"A =\", len(A))\n",
        "        # print(f\"A: {A[0]}\")\n",
        "\n",
        "        # print(f\"len(A[0]): {len(A[0])}\")\n",
        "        # print(f\"len(b): {len(b)}\")\n",
        "\n",
        "        #for linprog API -\n",
        "        # Objective function to minimize θ\n",
        "        c = cp.asnumpy(cp.zeros(2 * num_coefficients + 1))\n",
        "        c[-1] = 1  # Only θ has a coefficient in the objective function\n",
        "\n",
        "        #📌 Solve the linear programming problem\n",
        "        result = linprog(c, A_ub=A, b_ub=b, method=\"highs\")\n",
        "\n",
        "        # Check feasibility and return results\n",
        "        if result.success:\n",
        "            alpha_coefficients = result.x[:num_coefficients]\n",
        "            beta_coefficients = result.x[num_coefficients:2 * num_coefficients]\n",
        "            theta = result.x[-1]\n",
        "            return True, alpha_coefficients, beta_coefficients, theta\n",
        "        else:\n",
        "            return False, None, None, None\n",
        "\n",
        "\n",
        "    #📌 Bisection loop\n",
        "    def bisection_loop(x_data, y_data, uL, uH, precision):\n",
        "        optimal_alpha, optimal_beta, optimal_theta = None, None, None\n",
        "        z_values = []\n",
        "\n",
        "        while uH - uL > precision:\n",
        "            z = (uL + uH) / 2\n",
        "            z_values.append(z)\n",
        "            feasible, alpha_coefficients, beta_coefficients, theta = check_feasibility_and_compute_coefficients(z, x_data, y_data)\n",
        "\n",
        "            if feasible:\n",
        "                uH = z\n",
        "                optimal_alpha, optimal_beta, optimal_theta = alpha_coefficients, beta_coefficients, theta\n",
        "            else:\n",
        "                uL = z\n",
        "\n",
        "        return uH, optimal_alpha, optimal_beta, optimal_theta, z_values\n",
        "\n",
        "    #📌 Main execution\n",
        "    if __name__ == \"__main__\":\n",
        "        # Data setup\n",
        "        x_data = cp.array([[1, 2, 3, 4], [2, 3, 4, 5], [3, 4, 5, 6], [2, 4, 5, 3], [3, 4, 1, 6], [4, 3, 6, 2], [2, 6, 1, 3], [2, 3, 5, 6], [3, 2, 4, 3], [3, 1 ,2, 1]])\n",
        "        y_data = target_function(x_data)\n",
        "\n",
        "        # Bisection parameters\n",
        "        uL = 0  # Initial lower bound\n",
        "        uH = 50  # Initial upper bound\n",
        "        precision = 1e-6  # Precision threshold\n",
        "\n",
        "        # Run bisection loop\n",
        "        optimal_z, optimal_alpha, optimal_beta, optimal_theta, z_values = bisection_loop(x_data, y_data, uL, uH, precision)\n",
        "\n",
        "        #########################################################################\n",
        "        # Train the rational function optimizer (your existing logic)\n",
        "        # Example: Your check_feasibility_and_compute_coefficients() function\n",
        "        optimal_z, optimal_alpha, optimal_beta, optimal_theta, z_values = bisection_loop(x_pca, y_binary, uL=0, uH=100, precision=1e-6)\n",
        "\n",
        "        # Print results\n",
        "        print(f\"Number of Iterations: {len(z_values)}\")\n",
        "        print(f\"z Values in all Iterations: {z_values}\")\n",
        "        print(f\"Optimal z (Maximum Deviation): {optimal_z}\")\n",
        "\n",
        "        # # Plot convergence of z values\n",
        "        # plt.figure(figsize=(8, 6))\n",
        "        # plt.plot(range(len(z_values)), z_values, marker='o', linestyle='-')\n",
        "        # plt.xlabel(\"Iteration\")\n",
        "        # plt.ylabel(\"z Value\")\n",
        "        # plt.title(\"Convergence of z Values\")\n",
        "        # plt.grid(True)\n",
        "        # plt.show()\n",
        "\n",
        "        print(f\"Optimized Coefficients (Numerator α): {optimal_alpha}\")\n",
        "        print(f\"Optimized Coefficients (Denominator β): {optimal_beta}\")\n",
        "        print(f\"Optimal θ: {optimal_theta}\")\n",
        "        print(f\"rational_function =\", rational_function(x_data[0], optimal_alpha, optimal_beta))\n",
        "        # print(f\"x_data =\", x_data)\n",
        "\n",
        "    ################################\n",
        "    # Save the model\n",
        "    model = {\n",
        "        \"alpha\": optimal_alpha,\n",
        "        \"beta\": optimal_beta,\n",
        "        \"theta\": optimal_theta\n",
        "    }\n",
        "    with open(f\"models/classifier_{digit}.pkl\", \"wb\") as file:\n",
        "        pickle.dump(model, file)\n",
        "    print(f\"Model for digit {digit} saved!\")"
      ],
      "metadata": {
        "id": "jlrb-BHWolAN"
      },
      "execution_count": null,
      "outputs": []
    }
  ]
}