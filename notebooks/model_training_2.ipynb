{
  "nbformat": 4,
  "nbformat_minor": 0,
  "metadata": {
    "colab": {
      "provenance": [],
      "machine_shape": "hm",
      "gpuType": "L4",
      "authorship_tag": "ABX9TyPTldrDHE6y3mz6YGAm65h8",
      "include_colab_link": true
    },
    "kernelspec": {
      "name": "python3",
      "display_name": "Python 3"
    },
    "language_info": {
      "name": "python"
    },
    "accelerator": "GPU"
  },
  "cells": [
    {
      "cell_type": "markdown",
      "metadata": {
        "id": "view-in-github",
        "colab_type": "text"
      },
      "source": [
        "<a href=\"https://colab.research.google.com/github/AP-047/RClass-Classification-by-Rational-Approximation/blob/main/notebooks/model_training_2.ipynb\" target=\"_parent\"><img src=\"https://colab.research.google.com/assets/colab-badge.svg\" alt=\"Open In Colab\"/></a>"
      ]
    },
    {
      "cell_type": "markdown",
      "source": [
        "**1. Import small portion of MNIST dataset**"
      ],
      "metadata": {
        "id": "J2lIFBTXls98"
      }
    },
    {
      "cell_type": "code",
      "execution_count": 6,
      "metadata": {
        "colab": {
          "base_uri": "https://localhost:8080/"
        },
        "id": "PW7mUGqjRuSN",
        "outputId": "b0eaa9a5-1772-4f2e-b0f8-1c45b3b98887"
      },
      "outputs": [
        {
          "output_type": "stream",
          "name": "stdout",
          "text": [
            "training dataset: (60000, 28, 28) (60000,)\n",
            "small portion of the training dataset: (1000, 28, 28) (1000,)\n"
          ]
        }
      ],
      "source": [
        "from keras.datasets import mnist\n",
        "(train_X, train_y), (_,_) = mnist.load_data()\n",
        "print(\"training dataset:\", train_X.shape, train_y.shape)\n",
        "\n",
        "small_train_X = train_X[:1000]\n",
        "small_train_y = train_y[:1000]\n",
        "print(\"small portion of the training dataset:\", small_train_X.shape, small_train_y.shape)"
      ]
    },
    {
      "cell_type": "markdown",
      "source": [
        "**2. Thresholding**"
      ],
      "metadata": {
        "id": "bJcm1OT_D8e4"
      }
    },
    {
      "cell_type": "code",
      "source": [],
      "metadata": {
        "id": "ybtjtVv0D-S9"
      },
      "execution_count": null,
      "outputs": []
    }
  ]
}