{
  "nbformat": 4,
  "nbformat_minor": 0,
  "metadata": {
    "colab": {
      "provenance": [],
      "gpuType": "T4",
      "authorship_tag": "ABX9TyN00pBuNf0Pi3XfIQQMRvby",
      "include_colab_link": true
    },
    "kernelspec": {
      "name": "python3",
      "display_name": "Python 3"
    },
    "language_info": {
      "name": "python"
    },
    "accelerator": "GPU"
  },
  "cells": [
    {
      "cell_type": "markdown",
      "metadata": {
        "id": "view-in-github",
        "colab_type": "text"
      },
      "source": [
        "<a href=\"https://colab.research.google.com/github/AP-047/RClass-Classification-by-Rational-Approximation/blob/main/notebooks/02_model_training.ipynb\" target=\"_parent\"><img src=\"https://colab.research.google.com/assets/colab-badge.svg\" alt=\"Open In Colab\"/></a>"
      ]
    },
    {
      "cell_type": "markdown",
      "source": [
        "##### Model Training"
      ],
      "metadata": {
        "id": "yfeqtD3no1_k"
      }
    },
    {
      "cell_type": "markdown",
      "source": [
        "Step 1: Load a Small Subset of Data (100 Images)"
      ],
      "metadata": {
        "id": "6DW69dxQlu5w"
      }
    },
    {
      "cell_type": "code",
      "execution_count": 1,
      "metadata": {
        "id": "ttFu2sHXowYS",
        "outputId": "ba9400d0-3138-4ab1-ff5d-d2bec2136a6f",
        "colab": {
          "base_uri": "https://localhost:8080/"
        }
      },
      "outputs": [
        {
          "output_type": "stream",
          "name": "stdout",
          "text": [
            "Downloading data from https://storage.googleapis.com/tensorflow/tf-keras-datasets/mnist.npz\n",
            "\u001b[1m11490434/11490434\u001b[0m \u001b[32m━━━━━━━━━━━━━━━━━━━━\u001b[0m\u001b[37m\u001b[0m \u001b[1m0s\u001b[0m 0us/step\n",
            "Shape of the subset images: (100, 28, 28)\n",
            "Labels in the subset: [0 0 0 0 0 0 0 0 0 0 1 1 1 1 1 1 1 1 1 1 2 2 2 2 2 2 2 2 2 2 3 3 3 3 3 3 3\n",
            " 3 3 3 4 4 4 4 4 4 4 4 4 4 5 5 5 5 5 5 5 5 5 5 6 6 6 6 6 6 6 6 6 6 7 7 7 7\n",
            " 7 7 7 7 7 7 8 8 8 8 8 8 8 8 8 8 9 9 9 9 9 9 9 9 9 9]\n"
          ]
        }
      ],
      "source": [
        "import numpy as np\n",
        "from tensorflow.keras.datasets import mnist\n",
        "\n",
        "# Load the MNIST dataset\n",
        "(train_X, train_y), (_, _) = mnist.load_data()\n",
        "\n",
        "# Select 10 samples per digit (0–9) for a total of 100 samples\n",
        "selected_indices = []\n",
        "for digit in range(10):\n",
        "    indices = np.where(train_y == digit)[0][:10]\n",
        "    selected_indices.extend(indices)\n",
        "\n",
        "# Create the subset\n",
        "train_X_small = train_X[selected_indices]\n",
        "train_y_small = train_y[selected_indices]\n",
        "\n",
        "# Confirm the shape\n",
        "print(\"Shape of the subset images:\", train_X_small.shape)\n",
        "print(\"Labels in the subset:\", train_y_small)"
      ]
    },
    {
      "cell_type": "markdown",
      "source": [
        "Step 2: Convert Images to Black and White"
      ],
      "metadata": {
        "id": "15JFzMjzoHho"
      }
    },
    {
      "cell_type": "code",
      "source": [
        "import matplotlib.pyplot as plt\n",
        "\n",
        "# Convert images to black and white using a threshold of 128\n",
        "train_X_bw = (train_X_small > 128).astype(int)\n",
        "\n",
        "# Confirm the conversion by printing the first binary image as an example\n",
        "print(\"First binary image representation (0=black, 1=white):\")\n",
        "\n",
        "plt.imshow(train_X_bw[0], cmap='gray')\n",
        "plt.title(\"Binary Image (0=black, 1=white)\")\n",
        "plt.axis('off')  # Hide the axis for a cleaner look\n",
        "plt.show()"
      ],
      "metadata": {
        "id": "Gj-GO4LfoIXj",
        "outputId": "00134fe7-a62c-41e2-86fa-7dc1d7aa29ca",
        "colab": {
          "base_uri": "https://localhost:8080/",
          "height": 445
        }
      },
      "execution_count": 4,
      "outputs": [
        {
          "output_type": "stream",
          "name": "stdout",
          "text": [
            "First binary image representation (0=black, 1=white):\n"
          ]
        },
        {
          "output_type": "display_data",
          "data": {
            "text/plain": [
              "<Figure size 640x480 with 1 Axes>"
            ],
            "image/png": "[encoded data removed]"
          },
          "metadata": {}
        }
      ]
    },
    {
      "cell_type": "markdown",
      "source": [
        "Step 3: Calculate Final Unique Value Using Row-Wise and Column-Wise Approaches Combined"
      ],
      "metadata": {
        "id": "SRWgluHXoy5j"
      }
    },
    {
      "cell_type": "code",
      "source": [
        "# Function to calculate combined row-wise and column-wise indices-based sum for an image\n",
        "def calculate_combined_indices_sum(image):\n",
        "    # Row-wise calculation\n",
        "    row_sum = 0\n",
        "    for row_index, row in enumerate(image):\n",
        "        for col_index, pixel in enumerate(row):\n",
        "            if pixel == 1:  # Only consider active pixels\n",
        "                coefficient_row = (row_index + 1) * 10 + (col_index + 1)\n",
        "                row_sum += coefficient_row\n",
        "\n",
        "    # Column-wise calculation\n",
        "    col_sum = 0\n",
        "    for col_index in range(image.shape[1]):\n",
        "        for row_index, pixel in enumerate(image[:, col_index]):\n",
        "            if pixel == 1:  # Only consider active pixels\n",
        "                coefficient_col = (row_index + 1) * 10 + (col_index + 1)\n",
        "                col_sum += coefficient_col\n",
        "\n",
        "    # Combined final value\n",
        "    final_value = row_sum + col_sum\n",
        "    return final_value\n",
        "\n",
        "# Calculate the combined indices-based sum for each image in the subset\n",
        "final_combined_sums = [calculate_combined_indices_sum(img) for img in train_X_bw]\n",
        "\n",
        "# Print the combined indices-based sum for each digit in the subset\n",
        "for digit, combined_sum in zip(train_y_small, final_combined_sums):\n",
        "    print(f\"Digit {digit}: Combined Indices-Based Sum = {combined_sum}\")"
      ],
      "metadata": {
        "id": "DzlDxErksJfE",
        "outputId": "2ff4a6f9-fbb6-44ff-953e-daf4b69a86b5",
        "colab": {
          "base_uri": "https://localhost:8080/"
        }
      },
      "execution_count": 7,
      "outputs": [
        {
          "output_type": "stream",
          "name": "stdout",
          "text": [
            "Digit 0: Combined Indices-Based Sum = 40188\n",
            "Digit 0: Combined Indices-Based Sum = 43526\n",
            "Digit 0: Combined Indices-Based Sum = 46686\n",
            "Digit 0: Combined Indices-Based Sum = 49524\n",
            "Digit 0: Combined Indices-Based Sum = 57492\n",
            "Digit 0: Combined Indices-Based Sum = 56834\n",
            "Digit 0: Combined Indices-Based Sum = 61730\n",
            "Digit 0: Combined Indices-Based Sum = 32594\n",
            "Digit 0: Combined Indices-Based Sum = 55620\n",
            "Digit 0: Combined Indices-Based Sum = 44066\n",
            "Digit 1: Combined Indices-Based Sum = 22914\n",
            "Digit 1: Combined Indices-Based Sum = 22172\n",
            "Digit 1: Combined Indices-Based Sum = 15442\n",
            "Digit 1: Combined Indices-Based Sum = 14024\n",
            "Digit 1: Combined Indices-Based Sum = 21254\n",
            "Digit 1: Combined Indices-Based Sum = 28184\n",
            "Digit 1: Combined Indices-Based Sum = 19634\n",
            "Digit 1: Combined Indices-Based Sum = 22178\n",
            "Digit 1: Combined Indices-Based Sum = 18252\n",
            "Digit 1: Combined Indices-Based Sum = 27656\n",
            "Digit 2: Combined Indices-Based Sum = 37074\n",
            "Digit 2: Combined Indices-Based Sum = 34524\n",
            "Digit 2: Combined Indices-Based Sum = 51198\n",
            "Digit 2: Combined Indices-Based Sum = 52232\n",
            "Digit 2: Combined Indices-Based Sum = 30962\n",
            "Digit 2: Combined Indices-Based Sum = 51722\n",
            "Digit 2: Combined Indices-Based Sum = 28360\n",
            "Digit 2: Combined Indices-Based Sum = 51812\n",
            "Digit 2: Combined Indices-Based Sum = 51078\n",
            "Digit 2: Combined Indices-Based Sum = 32668\n",
            "Digit 3: Combined Indices-Based Sum = 47054\n",
            "Digit 3: Combined Indices-Based Sum = 35230\n",
            "Digit 3: Combined Indices-Based Sum = 48046\n",
            "Digit 3: Combined Indices-Based Sum = 60114\n",
            "Digit 3: Combined Indices-Based Sum = 33678\n",
            "Digit 3: Combined Indices-Based Sum = 23186\n",
            "Digit 3: Combined Indices-Based Sum = 39888\n",
            "Digit 3: Combined Indices-Based Sum = 24344\n",
            "Digit 3: Combined Indices-Based Sum = 33450\n",
            "Digit 3: Combined Indices-Based Sum = 27144\n",
            "Digit 4: Combined Indices-Based Sum = 27178\n",
            "Digit 4: Combined Indices-Based Sum = 28116\n",
            "Digit 4: Combined Indices-Based Sum = 42394\n",
            "Digit 4: Combined Indices-Based Sum = 19586\n",
            "Digit 4: Combined Indices-Based Sum = 22924\n",
            "Digit 4: Combined Indices-Based Sum = 44112\n",
            "Digit 4: Combined Indices-Based Sum = 38260\n",
            "Digit 4: Combined Indices-Based Sum = 23944\n",
            "Digit 4: Combined Indices-Based Sum = 34782\n",
            "Digit 4: Combined Indices-Based Sum = 32892\n",
            "Digit 5: Combined Indices-Based Sum = 37120\n",
            "Digit 5: Combined Indices-Based Sum = 18562\n",
            "Digit 5: Combined Indices-Based Sum = 21380\n",
            "Digit 5: Combined Indices-Based Sum = 26238\n",
            "Digit 5: Combined Indices-Based Sum = 22400\n",
            "Digit 5: Combined Indices-Based Sum = 22906\n",
            "Digit 5: Combined Indices-Based Sum = 22898\n",
            "Digit 5: Combined Indices-Based Sum = 37260\n",
            "Digit 5: Combined Indices-Based Sum = 24178\n",
            "Digit 5: Combined Indices-Based Sum = 19476\n",
            "Digit 6: Combined Indices-Based Sum = 36048\n",
            "Digit 6: Combined Indices-Based Sum = 16410\n",
            "Digit 6: Combined Indices-Based Sum = 21732\n",
            "Digit 6: Combined Indices-Based Sum = 42326\n",
            "Digit 6: Combined Indices-Based Sum = 35770\n",
            "Digit 6: Combined Indices-Based Sum = 41628\n",
            "Digit 6: Combined Indices-Based Sum = 29614\n",
            "Digit 6: Combined Indices-Based Sum = 33998\n",
            "Digit 6: Combined Indices-Based Sum = 29218\n",
            "Digit 6: Combined Indices-Based Sum = 37858\n",
            "Digit 7: Combined Indices-Based Sum = 32264\n",
            "Digit 7: Combined Indices-Based Sum = 18836\n",
            "Digit 7: Combined Indices-Based Sum = 25700\n",
            "Digit 7: Combined Indices-Based Sum = 17628\n",
            "Digit 7: Combined Indices-Based Sum = 35758\n",
            "Digit 7: Combined Indices-Based Sum = 27822\n",
            "Digit 7: Combined Indices-Based Sum = 30278\n",
            "Digit 7: Combined Indices-Based Sum = 24228\n",
            "Digit 7: Combined Indices-Based Sum = 33948\n",
            "Digit 7: Combined Indices-Based Sum = 23720\n",
            "Digit 8: Combined Indices-Based Sum = 35900\n",
            "Digit 8: Combined Indices-Based Sum = 42852\n",
            "Digit 8: Combined Indices-Based Sum = 38058\n",
            "Digit 8: Combined Indices-Based Sum = 28140\n",
            "Digit 8: Combined Indices-Based Sum = 44336\n",
            "Digit 8: Combined Indices-Based Sum = 33604\n",
            "Digit 8: Combined Indices-Based Sum = 35226\n",
            "Digit 8: Combined Indices-Based Sum = 36712\n",
            "Digit 8: Combined Indices-Based Sum = 34084\n",
            "Digit 8: Combined Indices-Based Sum = 31892\n",
            "Digit 9: Combined Indices-Based Sum = 30020\n",
            "Digit 9: Combined Indices-Based Sum = 23634\n",
            "Digit 9: Combined Indices-Based Sum = 19786\n",
            "Digit 9: Combined Indices-Based Sum = 27638\n",
            "Digit 9: Combined Indices-Based Sum = 22666\n",
            "Digit 9: Combined Indices-Based Sum = 32236\n",
            "Digit 9: Combined Indices-Based Sum = 21902\n",
            "Digit 9: Combined Indices-Based Sum = 29676\n",
            "Digit 9: Combined Indices-Based Sum = 28264\n",
            "Digit 9: Combined Indices-Based Sum = 32352\n"
          ]
        }
      ]
    }
  ]
}