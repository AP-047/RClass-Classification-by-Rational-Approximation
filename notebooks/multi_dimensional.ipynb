{
  "nbformat": 4,
  "nbformat_minor": 0,
  "metadata": {
    "colab": {
      "provenance": [],
      "gpuType": "L4",
      "authorship_tag": "ABX9TyO5eQogsCPEMp0NvACCabKo",
      "include_colab_link": true
    },
    "kernelspec": {
      "name": "python3",
      "display_name": "Python 3"
    },
    "language_info": {
      "name": "python"
    },
    "accelerator": "GPU"
  },
  "cells": [
    {
      "cell_type": "markdown",
      "metadata": {
        "id": "view-in-github",
        "colab_type": "text"
      },
      "source": [
        "<a href=\"https://colab.research.google.com/github/AP-047/RClass-Classification-by-Rational-Approximation/blob/main/notebooks/multi_dimensional.ipynb\" target=\"_parent\"><img src=\"https://colab.research.google.com/assets/colab-badge.svg\" alt=\"Open In Colab\"/></a>"
      ]
    },
    {
      "cell_type": "markdown",
      "source": [
        "**Set Locale to UTF-8**"
      ],
      "metadata": {
        "id": "UVVLg6BSqDUv"
      }
    },
    {
      "cell_type": "code",
      "source": [
        "!apt-get install -y locales\n",
        "!locale-gen en_US.UTF-8\n",
        "!update-locale LANG=en_US.UTF-8"
      ],
      "metadata": {
        "colab": {
          "base_uri": "https://localhost:8080/"
        },
        "id": "nm5pN3P5qLU6",
        "outputId": "acc455de-89ec-4dba-b886-970474a767ce"
      },
      "execution_count": null,
      "outputs": [
        {
          "output_type": "stream",
          "name": "stdout",
          "text": [
            "Reading package lists... Done\n",
            "Building dependency tree... Done\n",
            "Reading state information... Done\n",
            "locales is already the newest version (2.35-0ubuntu3.8).\n",
            "0 upgraded, 0 newly installed, 0 to remove and 49 not upgraded.\n",
            "Generating locales (this might take a while)...\n",
            "  en_US.UTF-8... done\n",
            "Generation complete.\n"
          ]
        }
      ]
    },
    {
      "cell_type": "markdown",
      "source": [
        "**Upgrade setuptools and pip**"
      ],
      "metadata": {
        "id": "UKOTGfGDqWPT"
      }
    },
    {
      "cell_type": "code",
      "source": [
        "!pip install -U setuptools pip"
      ],
      "metadata": {
        "colab": {
          "base_uri": "https://localhost:8080/"
        },
        "id": "ChoEkP89qWzd",
        "outputId": "e89a89b0-8120-47b1-ba15-6d6bd4b48b40"
      },
      "execution_count": null,
      "outputs": [
        {
          "output_type": "stream",
          "name": "stdout",
          "text": [
            "Requirement already satisfied: setuptools in /usr/local/lib/python3.10/dist-packages (75.6.0)\n",
            "Requirement already satisfied: pip in /usr/local/lib/python3.10/dist-packages (24.3.1)\n"
          ]
        }
      ]
    },
    {
      "cell_type": "markdown",
      "source": [
        "**Install CuPy for CUDA 12.2**"
      ],
      "metadata": {
        "id": "DXy2PNyeqr2D"
      }
    },
    {
      "cell_type": "code",
      "source": [
        "!pip install cupy-cuda12x"
      ],
      "metadata": {
        "colab": {
          "base_uri": "https://localhost:8080/"
        },
        "id": "yRA-p6r2qsi7",
        "outputId": "880225f8-81bc-4f42-fc76-b246d9414e6c"
      },
      "execution_count": null,
      "outputs": [
        {
          "output_type": "stream",
          "name": "stdout",
          "text": [
            "Requirement already satisfied: cupy-cuda12x in /usr/local/lib/python3.10/dist-packages (12.2.0)\n",
            "Requirement already satisfied: numpy<1.27,>=1.20 in /usr/local/lib/python3.10/dist-packages (from cupy-cuda12x) (1.26.4)\n",
            "Requirement already satisfied: fastrlock>=0.5 in /usr/local/lib/python3.10/dist-packages (from cupy-cuda12x) (0.8.2)\n"
          ]
        }
      ]
    },
    {
      "cell_type": "markdown",
      "source": [
        "**4D**"
      ],
      "metadata": {
        "id": "9SxonUaGqlr0"
      }
    },
    {
      "cell_type": "code",
      "source": [
        "# import cupy as cp\n",
        "# import numpy as np\n",
        "\n",
        "# x_data = cp.array([[1, 2, 3, 4], [3, 4, 5, 6], [2, 4, 5, 3], [3, 4, 1, 6]])\n",
        "# num_data_points =  x_data.shape[0]\n",
        "# num_coefficients = 4+1\n",
        "\n",
        "# G = cp.zeros((num_data_points, num_coefficients))\n",
        "\n",
        "# for i in range(num_data_points):\n",
        "#     G[i, 0] = 1\n",
        "#     for j in range(num_coefficients-1):\n",
        "#         G[i, j+1] = x_data[i, j] ** (j+1)\n",
        "\n",
        "# print(f\"G: {G}\")"
      ],
      "metadata": {
        "id": "mka6X_wajMzi",
        "outputId": "bf86f43f-ff34-4f74-89d6-9be0d1eb60c4",
        "colab": {
          "base_uri": "https://localhost:8080/"
        }
      },
      "execution_count": 16,
      "outputs": [
        {
          "output_type": "stream",
          "name": "stdout",
          "text": [
            "G: [[1.000e+00 1.000e+00 4.000e+00 2.700e+01 2.560e+02]\n",
            " [1.000e+00 3.000e+00 1.600e+01 1.250e+02 1.296e+03]\n",
            " [1.000e+00 2.000e+00 1.600e+01 1.250e+02 8.100e+01]\n",
            " [1.000e+00 3.000e+00 1.600e+01 1.000e+00 1.296e+03]]\n"
          ]
        }
      ]
    },
    {
      "cell_type": "code",
      "execution_count": 30,
      "metadata": {
        "colab": {
          "base_uri": "https://localhost:8080/"
        },
        "id": "-CfKQ7zipudC",
        "outputId": "9cb3137e-1154-44f7-ee0b-51b04198be50"
      },
      "outputs": [
        {
          "output_type": "stream",
          "name": "stdout",
          "text": [
            "Number of Iterations: 26\n",
            "z Values in all Iterations: [25.0, 12.5, 6.25, 3.125, 1.5625, 0.78125, 0.390625, 0.1953125, 0.09765625, 0.048828125, 0.0244140625, 0.01220703125, 0.006103515625, 0.0030517578125, 0.00152587890625, 0.000762939453125, 0.0003814697265625, 0.00019073486328125, 9.5367431640625e-05, 4.76837158203125e-05, 2.384185791015625e-05, 1.1920928955078125e-05, 5.9604644775390625e-06, 2.9802322387695312e-06, 1.4901161193847656e-06, 7.450580596923828e-07]\n",
            "Optimal z (Maximum Deviation): 7.450580596923828e-07\n",
            "Optimized Coefficients (Numerator α): [-9.99992549e-08  9.99999255e-07  1.00000075e-06  9.99999255e-07\n",
            "  9.99999255e-07]\n",
            "Optimized Coefficients (Denominator β): [ 1.e-06  0.e+00 -0.e+00  0.e+00  0.e+00]\n",
            "Optimal θ: 0.0\n"
          ]
        }
      ],
      "source": [
        "import cupy as cp\n",
        "import numpy as np\n",
        "from scipy.optimize import linprog\n",
        "import matplotlib.pyplot as plt\n",
        "\n",
        "# Target function (|x1 + x2 + x3 + x4 - 0.1|)\n",
        "def target_function(x):\n",
        "    return cp.abs(x[:, 0] + x[:, 1] + x[:, 2] + x[:, 3] - 0.1)\n",
        "\n",
        "def rational_function(x, alpha, beta):\n",
        "    \"\"\"\n",
        "    r(x) = (α_0 + α_1*x1 + α_2*x2 + α_3*x3 + α_4*x4) /\n",
        "           (β_0 + β_1*x1 + β_2*x2 + β_3*x3 + β_4*x4)\n",
        "    \"\"\"\n",
        "    # Ensure x is treated as a 1D vector when passed for a single data point\n",
        "    x = cp.asarray(x)  # Convert to CuPy array\n",
        "    # Numerator polynomial\n",
        "    numerator = alpha[0] + alpha[1] * x[0] + alpha[2] * x[1] + alpha[3] * x[2] + alpha[4] * x[3]\n",
        "    # Denominator polynomial\n",
        "    denominator = beta[0] + beta[1] * x[0] + beta[2] * x[1] + beta[3] * x[2] + beta[4] * x[3]\n",
        "\n",
        "    return numerator / denominator\n",
        "\n",
        "delta = 1e-6  # a small positive value\n",
        "\n",
        "# Feasibility check function\n",
        "def check_feasibility_and_compute_coefficients(z, x_data, y_data):\n",
        "    num_data_points = x_data.shape[0]\n",
        "    num_coefficients = 4+1  # (1 constant term + 4 variables)\n",
        "\n",
        "    # Construct G(x) and H(x) matrices for numerator and denominator\n",
        "    G = cp.zeros((num_data_points, num_coefficients))  # Numerator matrix\n",
        "    H = cp.zeros((num_data_points, num_coefficients))  # Denominator matrix\n",
        "\n",
        "    # for i in range(num_data_points):\n",
        "    #     G[i, 0] = 1  # Constant term\n",
        "    #     H[i, 0] = 1  # Constant term\n",
        "    #     for j in range(0, num_coefficients):  # Variables with increasing powers\n",
        "    #         G[i, j] = x_data[i, j - 1] ** j\n",
        "    #         H[i, j] = x_data[i, j - 1] ** j\n",
        "\n",
        "    for i in range(num_data_points):\n",
        "      G[i, 0] = 1\n",
        "      H[i, 0] = 1\n",
        "      for j in range(num_coefficients-1):\n",
        "        G[i, j+1] = x_data[i, j] ** (j+1)\n",
        "        H[i, j+1] = x_data[i, j] ** (j+1)\n",
        "\n",
        "    # print(f\"G: {G}\")\n",
        "    # print(f\"H: {H}\")\n",
        "\n",
        "    # Construct constraints for Ax <= b\n",
        "    A = []\n",
        "    b = []\n",
        "\n",
        "    for i in range(num_data_points):\n",
        "        f_plus_z = y_data[i] + z  # Upper bound\n",
        "        f_minus_z = y_data[i] - z  # Lower bound\n",
        "\n",
        "        # Constraint 1: (f(xi) - z) * β^T H(xi) - α^T G(xi) ≤ θ\n",
        "        # (-G(xi))αT + (f(xi) - z).H(xi)βT + (-1)θ ≤ 0\n",
        "        constraint_1 = cp.zeros(2 * num_coefficients + 1)\n",
        "        # (1) Coefficients of α\n",
        "        constraint_1[0:num_coefficients] = -G[i]\n",
        "        # (2) Coefficients of β\n",
        "        constraint_1[num_coefficients:2 * num_coefficients] = (f_minus_z) * H[i]\n",
        "        # (3) Coefficient of θ (last element)\n",
        "        constraint_1[-1] = -1\n",
        "        A.append(constraint_1)\n",
        "        b.append(0)\n",
        "\n",
        "        # Constraint 2: α^T G(xi) + (-1).(f(xi) + z) * β^T H(xi) ≤ θ\n",
        "        # G(xi).αT + (-1)(f(xi) - z).H(xi)βT + (-1)θ ≤ 0\n",
        "        constraint_2 = cp.zeros(2 * num_coefficients + 1)\n",
        "        # (1) Coefficients of α\n",
        "        constraint_2[0:num_coefficients] = G[i]\n",
        "        # (2) Coefficients of β\n",
        "        constraint_2[num_coefficients:2 * num_coefficients] = -(f_plus_z) * H[i]\n",
        "        # (3) Coefficient of θ (last element)\n",
        "        constraint_2[-1] = -1\n",
        "        A.append(constraint_2)\n",
        "        b.append(0)\n",
        "\n",
        "        # Constraint 3: β^T H(x) ≥ δ\n",
        "        # (0)α^T + (-H(x)) β^T + (0)θ ≤ -δ\n",
        "        constraint_3 = cp.zeros(2 * num_coefficients + 1)\n",
        "        # Coefficient of β\n",
        "        constraint_3[num_coefficients:2 * num_coefficients] = -H[i]\n",
        "        A.append(constraint_3)\n",
        "        b.append(-delta)\n",
        "\n",
        "    # Convert CuPy arrays to NumPy arrays for SciPy\n",
        "    A = cp.asnumpy(cp.array(A))\n",
        "    b = cp.asnumpy(cp.array(b))\n",
        "\n",
        "    # print(f\"A =\", len(A))\n",
        "    # print(f\"A: {A[0]}\")\n",
        "\n",
        "    # print(f\"len(A[0]): {len(A[0])}\")\n",
        "    # print(f\"len(b): {len(b)}\")\n",
        "\n",
        "    #for linprog API -\n",
        "    # Objective function to minimize θ\n",
        "    c = cp.asnumpy(cp.zeros(2 * num_coefficients + 1))\n",
        "    c[-1] = 1  # Only θ has a coefficient in the objective function\n",
        "\n",
        "    # Solve the linear programming problem\n",
        "    result = linprog(c, A_ub=A, b_ub=b, method=\"highs\")\n",
        "\n",
        "    # Check feasibility and return results\n",
        "    if result.success:\n",
        "        alpha_coefficients = result.x[:num_coefficients]\n",
        "        beta_coefficients = result.x[num_coefficients:2 * num_coefficients]\n",
        "        theta = result.x[-1]\n",
        "        return True, alpha_coefficients, beta_coefficients, theta\n",
        "    else:\n",
        "        return False, None, None, None\n",
        "\n",
        "\n",
        "# Bisection loop\n",
        "def bisection_loop(x_data, y_data, uL, uH, precision):\n",
        "    optimal_alpha, optimal_beta, optimal_theta = None, None, None\n",
        "    z_values = []\n",
        "\n",
        "    while uH - uL > precision:\n",
        "        z = (uL + uH) / 2\n",
        "        z_values.append(z)\n",
        "        feasible, alpha_coefficients, beta_coefficients, theta = check_feasibility_and_compute_coefficients(z, x_data, y_data)\n",
        "\n",
        "        if feasible:\n",
        "            uH = z\n",
        "            optimal_alpha, optimal_beta, optimal_theta = alpha_coefficients, beta_coefficients, theta\n",
        "        else:\n",
        "            uL = z\n",
        "\n",
        "    return uH, optimal_alpha, optimal_beta, optimal_theta, z_values\n",
        "\n",
        "def generate_well_distributed_dataset(num_samples, value_range):\n",
        "    # Use NumPy to generate a grid of values\n",
        "    import numpy as np\n",
        "    from itertools import product\n",
        "\n",
        "    # Create a grid of possible values\n",
        "    grid = np.linspace(value_range[0], value_range[1], int(num_samples ** (1/4)))  # Divide num_samples into 4 dimensions\n",
        "    combinations = list(product(grid, repeat=4))  # Cartesian product for 4 dimensions\n",
        "\n",
        "    # Convert to NumPy array and shuffle\n",
        "    dataset = np.array(combinations)\n",
        "    np.random.shuffle(dataset)  # Shuffle to avoid any patterns\n",
        "\n",
        "    # Take the first num_samples samples and convert to CuPy array\n",
        "    return cp.array(dataset[:num_samples])\n",
        "\n",
        "\n",
        "# Main execution\n",
        "if __name__ == \"__main__\":\n",
        "    # # Data setup\n",
        "    # x_data = cp.array([[1, 2, 3, 4], [2, 3, 4, 5], [3, 4, 5, 6], [2, 4, 5, 3], [3, 4, 1, 6], [4, 3, 6, 2], [2, 6, 1, 3], [2, 3, 5, 6], [3, 2, 4, 3], [3, 1 ,2, 1]])\n",
        "    # x_data = cp.array([[1, 2, 0, 1], [1, 0, 0, 2], [0, 1, 1, 0], [1, 1, 1, 0], [0, 2, 1, 1], [1, 0, 2, 0], [1, 1, 0, 0], [1, 1, 2, 1], [0, 2, 0, 1], [1, 0, 0, 1], [1, 2, 0, 1]])\n",
        "    x_data = cp.array([[1, 1, 0, 1], [1, 0, 0, 1], [0, 1, 1, 0], [1, 1, 1, 0], [0, 0, 1, 1], [1, 0, 1, 0], [1, 1, 0, 0], [1, 1, 1, 1], [0, 1, 0, 1], [1, 0, 0, 1], [1, 0, 0, 1]])\n",
        "    y_data = target_function(x_data)\n",
        "\n",
        "\n",
        "    #--------\n",
        "    # # a well-distributed dataset\n",
        "    # num_samples = 16  # Total number of data points\n",
        "    # value_range = (0, 1)  # Range for each value in the vector\n",
        "    # x_data = generate_well_distributed_dataset(num_samples, value_range)\n",
        "\n",
        "    # # Compute the target values\n",
        "    # y_data = target_function(x_data)\n",
        "    #--------\n",
        "\n",
        "    # Bisection parameters\n",
        "    uL = 0  # Initial lower bound\n",
        "    uH = 50  # Initial upper bound\n",
        "    precision = 1e-6  # Precision threshold\n",
        "\n",
        "    # Run bisection loop\n",
        "    optimal_z, optimal_alpha, optimal_beta, optimal_theta, z_values = bisection_loop(x_data, y_data, uL, uH, precision)\n",
        "\n",
        "    # Print results\n",
        "    print(f\"Number of Iterations: {len(z_values)}\")\n",
        "    print(f\"z Values in all Iterations: {z_values}\")\n",
        "    print(f\"Optimal z (Maximum Deviation): {optimal_z}\")\n",
        "\n",
        "    # # Plot convergence of z values\n",
        "    # plt.figure(figsize=(8, 6))\n",
        "    # plt.plot(range(len(z_values)), z_values, marker='o', linestyle='-')\n",
        "    # plt.xlabel(\"Iteration\")\n",
        "    # plt.ylabel(\"z Value\")\n",
        "    # plt.title(\"Convergence of z Values\")\n",
        "    # plt.grid(True)\n",
        "    # plt.show()\n",
        "\n",
        "    print(f\"Optimized Coefficients (Numerator α): {optimal_alpha}\")\n",
        "    print(f\"Optimized Coefficients (Denominator β): {optimal_beta}\")\n",
        "    print(f\"Optimal θ: {optimal_theta}\")"
      ]
    },
    {
      "cell_type": "markdown",
      "source": [
        "**Testing**"
      ],
      "metadata": {
        "id": "sxP2ZyPI1TTe"
      }
    },
    {
      "cell_type": "code",
      "source": [
        "def plot_functions_multivariate(target_function, rational_function, alpha, beta, x_data):\n",
        "    # Compute function values for the provided x_data\n",
        "    y_target = target_function(x_data)  # Compute the target function values\n",
        "    y_rational = cp.array([rational_function(x, alpha, beta) for x in x_data])  # Compute rational function values\n",
        "\n",
        "    # Convert CuPy arrays to NumPy for plotting\n",
        "    x_indices = range(len(x_data))  # Use indices as x-axis for simplicity\n",
        "    y_target = cp.asnumpy(y_target)\n",
        "    y_rational = cp.asnumpy(y_rational)\n",
        "\n",
        "    # Plot the functions\n",
        "    plt.figure(figsize=(8, 6))\n",
        "    plt.plot(x_indices, y_target, label=\"Target Function\", color=\"blue\", linewidth=2)\n",
        "    plt.plot(x_indices, y_rational, label=\"Rational Function Approximation\", color=\"red\", linestyle=\"--\", linewidth=2)\n",
        "    plt.scatter(x_indices, y_target, label=\"Data Points\", color=\"purple\", marker=\"o\")\n",
        "    plt.xlabel(\"Data Point Index\")\n",
        "    plt.ylabel(\"f(x)\")\n",
        "    plt.title(\"Target Function vs Rational Function Approximation (Multivariate)\")\n",
        "    plt.legend()\n",
        "    plt.grid(True)\n",
        "    plt.show()\n",
        "\n",
        "# Main execution for plotting\n",
        "if __name__ == \"__main__\":\n",
        "    # Call the plotting function for the given x_data\n",
        "    plot_functions_multivariate(target_function, rational_function, optimal_alpha, optimal_beta, x_data)\n",
        "\n",
        "import pandas as pd\n",
        "\n",
        "def generate_table(x_data, target_function, rational_function, alpha, beta):\n",
        "    # Compute target and rational function values\n",
        "    target_values = target_function(x_data)\n",
        "    rational_values = cp.array([rational_function(x, alpha, beta) for x in x_data])\n",
        "\n",
        "    # Calculate errors\n",
        "    absolute_error = cp.abs(target_values - rational_values)\n",
        "    relative_error = cp.abs((target_values - rational_values) / target_values)\n",
        "\n",
        "    # Convert to NumPy for table creation\n",
        "    x_data_np = cp.asnumpy(x_data)\n",
        "    target_values_np = cp.asnumpy(target_values)\n",
        "    rational_values_np = cp.asnumpy(rational_values)\n",
        "    absolute_error_np = cp.asnumpy(absolute_error)\n",
        "    relative_error_np = cp.asnumpy(relative_error)\n",
        "\n",
        "    # Create a pandas DataFrame for better visualization\n",
        "    table_data = {\n",
        "        \"Data Points\": [list(row) for row in x_data_np],\n",
        "        \"Target Function Values\": target_values_np,\n",
        "        \"Rational Function Values\": rational_values_np,\n",
        "        \"Absolute Error\": absolute_error_np,\n",
        "        \"Relative Error\": relative_error_np,\n",
        "    }\n",
        "    df = pd.DataFrame(table_data)\n",
        "\n",
        "    # Display the table\n",
        "    print(df)\n",
        "    return df\n",
        "\n",
        "if __name__ == \"__main__\":\n",
        "    # Generate the table\n",
        "    df = generate_table(x_data, target_function, rational_function, optimal_alpha, optimal_beta)"
      ],
      "metadata": {
        "id": "TUle3Phg1U88",
        "outputId": "0a68f6fd-49ec-4a7c-b064-0913dc1d1452",
        "colab": {
          "base_uri": "https://localhost:8080/",
          "height": 1000
        }
      },
      "execution_count": 31,
      "outputs": [
        {
          "output_type": "display_data",
          "data": {
            "text/plain": [
              "<Figure size 800x600 with 1 Axes>"
            ],
            "image/png": "[encoded data removed]"
          },
          "metadata": {}
        },
        {
          "output_type": "stream",
          "name": "stdout",
          "text": [
            "     Data Points  Target Function Values  Rational Function Values  \\\n",
            "0   [1, 1, 0, 1]                     2.9                  2.900000   \n",
            "1   [1, 0, 0, 1]                     1.9                  1.899999   \n",
            "2   [0, 1, 1, 0]                     1.9                  1.900001   \n",
            "3   [1, 1, 1, 0]                     2.9                  2.900000   \n",
            "4   [0, 0, 1, 1]                     1.9                  1.899999   \n",
            "5   [1, 0, 1, 0]                     1.9                  1.899999   \n",
            "6   [1, 1, 0, 0]                     1.9                  1.900001   \n",
            "7   [1, 1, 1, 1]                     3.9                  3.899999   \n",
            "8   [0, 1, 0, 1]                     1.9                  1.900001   \n",
            "9   [1, 0, 0, 1]                     1.9                  1.899999   \n",
            "10  [1, 0, 0, 1]                     1.9                  1.899999   \n",
            "\n",
            "    Absolute Error  Relative Error  \n",
            "0     4.440892e-16    1.531342e-16  \n",
            "1     7.450581e-07    3.921358e-07  \n",
            "2     7.450581e-07    3.921358e-07  \n",
            "3     4.440892e-16    1.531342e-16  \n",
            "4     7.450581e-07    3.921358e-07  \n",
            "5     7.450581e-07    3.921358e-07  \n",
            "6     7.450581e-07    3.921358e-07  \n",
            "7     7.450581e-07    1.910405e-07  \n",
            "8     7.450581e-07    3.921358e-07  \n",
            "9     7.450581e-07    3.921358e-07  \n",
            "10    7.450581e-07    3.921358e-07  \n"
          ]
        }
      ]
    }
  ]
}