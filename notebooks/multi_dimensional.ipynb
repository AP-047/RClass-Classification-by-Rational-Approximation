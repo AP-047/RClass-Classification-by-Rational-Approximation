{
  "nbformat": 4,
  "nbformat_minor": 0,
  "metadata": {
    "colab": {
      "provenance": [],
      "gpuType": "L4",
      "authorship_tag": "ABX9TyMbYWHds5OdzVbnBJT1VapL",
      "include_colab_link": true
    },
    "kernelspec": {
      "name": "python3",
      "display_name": "Python 3"
    },
    "language_info": {
      "name": "python"
    },
    "accelerator": "GPU"
  },
  "cells": [
    {
      "cell_type": "markdown",
      "metadata": {
        "id": "view-in-github",
        "colab_type": "text"
      },
      "source": [
        "<a href=\"https://colab.research.google.com/github/AP-047/RClass-Classification-by-Rational-Approximation/blob/main/notebooks/multi_dimensional.ipynb\" target=\"_parent\"><img src=\"https://colab.research.google.com/assets/colab-badge.svg\" alt=\"Open In Colab\"/></a>"
      ]
    },
    {
      "cell_type": "markdown",
      "source": [
        "**Set Locale to UTF-8**"
      ],
      "metadata": {
        "id": "UVVLg6BSqDUv"
      }
    },
    {
      "cell_type": "code",
      "source": [
        "!apt-get install -y locales\n",
        "!locale-gen en_US.UTF-8\n",
        "!update-locale LANG=en_US.UTF-8"
      ],
      "metadata": {
        "colab": {
          "base_uri": "https://localhost:8080/"
        },
        "id": "nm5pN3P5qLU6",
        "outputId": "acc455de-89ec-4dba-b886-970474a767ce"
      },
      "execution_count": null,
      "outputs": [
        {
          "output_type": "stream",
          "name": "stdout",
          "text": [
            "Reading package lists... Done\n",
            "Building dependency tree... Done\n",
            "Reading state information... Done\n",
            "locales is already the newest version (2.35-0ubuntu3.8).\n",
            "0 upgraded, 0 newly installed, 0 to remove and 49 not upgraded.\n",
            "Generating locales (this might take a while)...\n",
            "  en_US.UTF-8... done\n",
            "Generation complete.\n"
          ]
        }
      ]
    },
    {
      "cell_type": "markdown",
      "source": [
        "**Upgrade setuptools and pip**"
      ],
      "metadata": {
        "id": "UKOTGfGDqWPT"
      }
    },
    {
      "cell_type": "code",
      "source": [
        "!pip install -U setuptools pip"
      ],
      "metadata": {
        "colab": {
          "base_uri": "https://localhost:8080/"
        },
        "id": "ChoEkP89qWzd",
        "outputId": "e89a89b0-8120-47b1-ba15-6d6bd4b48b40"
      },
      "execution_count": null,
      "outputs": [
        {
          "output_type": "stream",
          "name": "stdout",
          "text": [
            "Requirement already satisfied: setuptools in /usr/local/lib/python3.10/dist-packages (75.6.0)\n",
            "Requirement already satisfied: pip in /usr/local/lib/python3.10/dist-packages (24.3.1)\n"
          ]
        }
      ]
    },
    {
      "cell_type": "markdown",
      "source": [
        "**Install CuPy for CUDA 12.2**"
      ],
      "metadata": {
        "id": "DXy2PNyeqr2D"
      }
    },
    {
      "cell_type": "code",
      "source": [
        "!pip install cupy-cuda12x"
      ],
      "metadata": {
        "colab": {
          "base_uri": "https://localhost:8080/"
        },
        "id": "yRA-p6r2qsi7",
        "outputId": "880225f8-81bc-4f42-fc76-b246d9414e6c"
      },
      "execution_count": null,
      "outputs": [
        {
          "output_type": "stream",
          "name": "stdout",
          "text": [
            "Requirement already satisfied: cupy-cuda12x in /usr/local/lib/python3.10/dist-packages (12.2.0)\n",
            "Requirement already satisfied: numpy<1.27,>=1.20 in /usr/local/lib/python3.10/dist-packages (from cupy-cuda12x) (1.26.4)\n",
            "Requirement already satisfied: fastrlock>=0.5 in /usr/local/lib/python3.10/dist-packages (from cupy-cuda12x) (0.8.2)\n"
          ]
        }
      ]
    },
    {
      "cell_type": "markdown",
      "source": [
        "**4D**"
      ],
      "metadata": {
        "id": "9SxonUaGqlr0"
      }
    },
    {
      "cell_type": "code",
      "execution_count": 14,
      "metadata": {
        "colab": {
          "base_uri": "https://localhost:8080/",
          "height": 1000
        },
        "id": "-CfKQ7zipudC",
        "outputId": "b6f45c56-457f-4a42-9c4e-e06adce02bcd"
      },
      "outputs": [
        {
          "output_type": "stream",
          "name": "stdout",
          "text": [
            "G: [[1.000e+00 1.000e+00 4.000e+00 2.700e+01 2.560e+02]\n",
            " [1.000e+00 2.000e+00 9.000e+00 6.400e+01 6.250e+02]\n",
            " [1.000e+00 3.000e+00 1.600e+01 1.250e+02 1.296e+03]\n",
            " [1.000e+00 2.000e+00 1.600e+01 1.250e+02 6.561e+03]\n",
            " [1.000e+00 3.000e+00 1.600e+01 5.120e+02 6.561e+03]]\n",
            "G: [[1.000e+00 1.000e+00 4.000e+00 2.700e+01 2.560e+02]\n",
            " [1.000e+00 2.000e+00 9.000e+00 6.400e+01 6.250e+02]\n",
            " [1.000e+00 3.000e+00 1.600e+01 1.250e+02 1.296e+03]\n",
            " [1.000e+00 2.000e+00 1.600e+01 1.250e+02 6.561e+03]\n",
            " [1.000e+00 3.000e+00 1.600e+01 5.120e+02 6.561e+03]]\n",
            "G: [[1.000e+00 1.000e+00 4.000e+00 2.700e+01 2.560e+02]\n",
            " [1.000e+00 2.000e+00 9.000e+00 6.400e+01 6.250e+02]\n",
            " [1.000e+00 3.000e+00 1.600e+01 1.250e+02 1.296e+03]\n",
            " [1.000e+00 2.000e+00 1.600e+01 1.250e+02 6.561e+03]\n",
            " [1.000e+00 3.000e+00 1.600e+01 5.120e+02 6.561e+03]]\n",
            "G: [[1.000e+00 1.000e+00 4.000e+00 2.700e+01 2.560e+02]\n",
            " [1.000e+00 2.000e+00 9.000e+00 6.400e+01 6.250e+02]\n",
            " [1.000e+00 3.000e+00 1.600e+01 1.250e+02 1.296e+03]\n",
            " [1.000e+00 2.000e+00 1.600e+01 1.250e+02 6.561e+03]\n",
            " [1.000e+00 3.000e+00 1.600e+01 5.120e+02 6.561e+03]]\n",
            "G: [[1.000e+00 1.000e+00 4.000e+00 2.700e+01 2.560e+02]\n",
            " [1.000e+00 2.000e+00 9.000e+00 6.400e+01 6.250e+02]\n",
            " [1.000e+00 3.000e+00 1.600e+01 1.250e+02 1.296e+03]\n",
            " [1.000e+00 2.000e+00 1.600e+01 1.250e+02 6.561e+03]\n",
            " [1.000e+00 3.000e+00 1.600e+01 5.120e+02 6.561e+03]]\n",
            "G: [[1.000e+00 1.000e+00 4.000e+00 2.700e+01 2.560e+02]\n",
            " [1.000e+00 2.000e+00 9.000e+00 6.400e+01 6.250e+02]\n",
            " [1.000e+00 3.000e+00 1.600e+01 1.250e+02 1.296e+03]\n",
            " [1.000e+00 2.000e+00 1.600e+01 1.250e+02 6.561e+03]\n",
            " [1.000e+00 3.000e+00 1.600e+01 5.120e+02 6.561e+03]]\n",
            "G: [[1.000e+00 1.000e+00 4.000e+00 2.700e+01 2.560e+02]\n",
            " [1.000e+00 2.000e+00 9.000e+00 6.400e+01 6.250e+02]\n",
            " [1.000e+00 3.000e+00 1.600e+01 1.250e+02 1.296e+03]\n",
            " [1.000e+00 2.000e+00 1.600e+01 1.250e+02 6.561e+03]\n",
            " [1.000e+00 3.000e+00 1.600e+01 5.120e+02 6.561e+03]]\n",
            "G: [[1.000e+00 1.000e+00 4.000e+00 2.700e+01 2.560e+02]\n",
            " [1.000e+00 2.000e+00 9.000e+00 6.400e+01 6.250e+02]\n",
            " [1.000e+00 3.000e+00 1.600e+01 1.250e+02 1.296e+03]\n",
            " [1.000e+00 2.000e+00 1.600e+01 1.250e+02 6.561e+03]\n",
            " [1.000e+00 3.000e+00 1.600e+01 5.120e+02 6.561e+03]]\n",
            "G: [[1.000e+00 1.000e+00 4.000e+00 2.700e+01 2.560e+02]\n",
            " [1.000e+00 2.000e+00 9.000e+00 6.400e+01 6.250e+02]\n",
            " [1.000e+00 3.000e+00 1.600e+01 1.250e+02 1.296e+03]\n",
            " [1.000e+00 2.000e+00 1.600e+01 1.250e+02 6.561e+03]\n",
            " [1.000e+00 3.000e+00 1.600e+01 5.120e+02 6.561e+03]]\n",
            "G: [[1.000e+00 1.000e+00 4.000e+00 2.700e+01 2.560e+02]\n",
            " [1.000e+00 2.000e+00 9.000e+00 6.400e+01 6.250e+02]\n",
            " [1.000e+00 3.000e+00 1.600e+01 1.250e+02 1.296e+03]\n",
            " [1.000e+00 2.000e+00 1.600e+01 1.250e+02 6.561e+03]\n",
            " [1.000e+00 3.000e+00 1.600e+01 5.120e+02 6.561e+03]]\n",
            "G: [[1.000e+00 1.000e+00 4.000e+00 2.700e+01 2.560e+02]\n",
            " [1.000e+00 2.000e+00 9.000e+00 6.400e+01 6.250e+02]\n",
            " [1.000e+00 3.000e+00 1.600e+01 1.250e+02 1.296e+03]\n",
            " [1.000e+00 2.000e+00 1.600e+01 1.250e+02 6.561e+03]\n",
            " [1.000e+00 3.000e+00 1.600e+01 5.120e+02 6.561e+03]]\n",
            "G: [[1.000e+00 1.000e+00 4.000e+00 2.700e+01 2.560e+02]\n",
            " [1.000e+00 2.000e+00 9.000e+00 6.400e+01 6.250e+02]\n",
            " [1.000e+00 3.000e+00 1.600e+01 1.250e+02 1.296e+03]\n",
            " [1.000e+00 2.000e+00 1.600e+01 1.250e+02 6.561e+03]\n",
            " [1.000e+00 3.000e+00 1.600e+01 5.120e+02 6.561e+03]]\n",
            "G: [[1.000e+00 1.000e+00 4.000e+00 2.700e+01 2.560e+02]\n",
            " [1.000e+00 2.000e+00 9.000e+00 6.400e+01 6.250e+02]\n",
            " [1.000e+00 3.000e+00 1.600e+01 1.250e+02 1.296e+03]\n",
            " [1.000e+00 2.000e+00 1.600e+01 1.250e+02 6.561e+03]\n",
            " [1.000e+00 3.000e+00 1.600e+01 5.120e+02 6.561e+03]]\n",
            "G: [[1.000e+00 1.000e+00 4.000e+00 2.700e+01 2.560e+02]\n",
            " [1.000e+00 2.000e+00 9.000e+00 6.400e+01 6.250e+02]\n",
            " [1.000e+00 3.000e+00 1.600e+01 1.250e+02 1.296e+03]\n",
            " [1.000e+00 2.000e+00 1.600e+01 1.250e+02 6.561e+03]\n",
            " [1.000e+00 3.000e+00 1.600e+01 5.120e+02 6.561e+03]]\n",
            "G: [[1.000e+00 1.000e+00 4.000e+00 2.700e+01 2.560e+02]\n",
            " [1.000e+00 2.000e+00 9.000e+00 6.400e+01 6.250e+02]\n",
            " [1.000e+00 3.000e+00 1.600e+01 1.250e+02 1.296e+03]\n",
            " [1.000e+00 2.000e+00 1.600e+01 1.250e+02 6.561e+03]\n",
            " [1.000e+00 3.000e+00 1.600e+01 5.120e+02 6.561e+03]]\n",
            "G: [[1.000e+00 1.000e+00 4.000e+00 2.700e+01 2.560e+02]\n",
            " [1.000e+00 2.000e+00 9.000e+00 6.400e+01 6.250e+02]\n",
            " [1.000e+00 3.000e+00 1.600e+01 1.250e+02 1.296e+03]\n",
            " [1.000e+00 2.000e+00 1.600e+01 1.250e+02 6.561e+03]\n",
            " [1.000e+00 3.000e+00 1.600e+01 5.120e+02 6.561e+03]]\n",
            "G: [[1.000e+00 1.000e+00 4.000e+00 2.700e+01 2.560e+02]\n",
            " [1.000e+00 2.000e+00 9.000e+00 6.400e+01 6.250e+02]\n",
            " [1.000e+00 3.000e+00 1.600e+01 1.250e+02 1.296e+03]\n",
            " [1.000e+00 2.000e+00 1.600e+01 1.250e+02 6.561e+03]\n",
            " [1.000e+00 3.000e+00 1.600e+01 5.120e+02 6.561e+03]]\n",
            "G: [[1.000e+00 1.000e+00 4.000e+00 2.700e+01 2.560e+02]\n",
            " [1.000e+00 2.000e+00 9.000e+00 6.400e+01 6.250e+02]\n",
            " [1.000e+00 3.000e+00 1.600e+01 1.250e+02 1.296e+03]\n",
            " [1.000e+00 2.000e+00 1.600e+01 1.250e+02 6.561e+03]\n",
            " [1.000e+00 3.000e+00 1.600e+01 5.120e+02 6.561e+03]]\n",
            "G: [[1.000e+00 1.000e+00 4.000e+00 2.700e+01 2.560e+02]\n",
            " [1.000e+00 2.000e+00 9.000e+00 6.400e+01 6.250e+02]\n",
            " [1.000e+00 3.000e+00 1.600e+01 1.250e+02 1.296e+03]\n",
            " [1.000e+00 2.000e+00 1.600e+01 1.250e+02 6.561e+03]\n",
            " [1.000e+00 3.000e+00 1.600e+01 5.120e+02 6.561e+03]]\n",
            "G: [[1.000e+00 1.000e+00 4.000e+00 2.700e+01 2.560e+02]\n",
            " [1.000e+00 2.000e+00 9.000e+00 6.400e+01 6.250e+02]\n",
            " [1.000e+00 3.000e+00 1.600e+01 1.250e+02 1.296e+03]\n",
            " [1.000e+00 2.000e+00 1.600e+01 1.250e+02 6.561e+03]\n",
            " [1.000e+00 3.000e+00 1.600e+01 5.120e+02 6.561e+03]]\n",
            "G: [[1.000e+00 1.000e+00 4.000e+00 2.700e+01 2.560e+02]\n",
            " [1.000e+00 2.000e+00 9.000e+00 6.400e+01 6.250e+02]\n",
            " [1.000e+00 3.000e+00 1.600e+01 1.250e+02 1.296e+03]\n",
            " [1.000e+00 2.000e+00 1.600e+01 1.250e+02 6.561e+03]\n",
            " [1.000e+00 3.000e+00 1.600e+01 5.120e+02 6.561e+03]]\n",
            "G: [[1.000e+00 1.000e+00 4.000e+00 2.700e+01 2.560e+02]\n",
            " [1.000e+00 2.000e+00 9.000e+00 6.400e+01 6.250e+02]\n",
            " [1.000e+00 3.000e+00 1.600e+01 1.250e+02 1.296e+03]\n",
            " [1.000e+00 2.000e+00 1.600e+01 1.250e+02 6.561e+03]\n",
            " [1.000e+00 3.000e+00 1.600e+01 5.120e+02 6.561e+03]]\n",
            "G: [[1.000e+00 1.000e+00 4.000e+00 2.700e+01 2.560e+02]\n",
            " [1.000e+00 2.000e+00 9.000e+00 6.400e+01 6.250e+02]\n",
            " [1.000e+00 3.000e+00 1.600e+01 1.250e+02 1.296e+03]\n",
            " [1.000e+00 2.000e+00 1.600e+01 1.250e+02 6.561e+03]\n",
            " [1.000e+00 3.000e+00 1.600e+01 5.120e+02 6.561e+03]]\n",
            "G: [[1.000e+00 1.000e+00 4.000e+00 2.700e+01 2.560e+02]\n",
            " [1.000e+00 2.000e+00 9.000e+00 6.400e+01 6.250e+02]\n",
            " [1.000e+00 3.000e+00 1.600e+01 1.250e+02 1.296e+03]\n",
            " [1.000e+00 2.000e+00 1.600e+01 1.250e+02 6.561e+03]\n",
            " [1.000e+00 3.000e+00 1.600e+01 5.120e+02 6.561e+03]]\n",
            "G: [[1.000e+00 1.000e+00 4.000e+00 2.700e+01 2.560e+02]\n",
            " [1.000e+00 2.000e+00 9.000e+00 6.400e+01 6.250e+02]\n",
            " [1.000e+00 3.000e+00 1.600e+01 1.250e+02 1.296e+03]\n",
            " [1.000e+00 2.000e+00 1.600e+01 1.250e+02 6.561e+03]\n",
            " [1.000e+00 3.000e+00 1.600e+01 5.120e+02 6.561e+03]]\n",
            "G: [[1.000e+00 1.000e+00 4.000e+00 2.700e+01 2.560e+02]\n",
            " [1.000e+00 2.000e+00 9.000e+00 6.400e+01 6.250e+02]\n",
            " [1.000e+00 3.000e+00 1.600e+01 1.250e+02 1.296e+03]\n",
            " [1.000e+00 2.000e+00 1.600e+01 1.250e+02 6.561e+03]\n",
            " [1.000e+00 3.000e+00 1.600e+01 5.120e+02 6.561e+03]]\n",
            "G: [[1.000e+00 1.000e+00 4.000e+00 2.700e+01 2.560e+02]\n",
            " [1.000e+00 2.000e+00 9.000e+00 6.400e+01 6.250e+02]\n",
            " [1.000e+00 3.000e+00 1.600e+01 1.250e+02 1.296e+03]\n",
            " [1.000e+00 2.000e+00 1.600e+01 1.250e+02 6.561e+03]\n",
            " [1.000e+00 3.000e+00 1.600e+01 5.120e+02 6.561e+03]]\n",
            "Number of Iterations: 27\n",
            "z Values in all Iterations: [50.0, 25.0, 12.5, 6.25, 3.125, 1.5625, 0.78125, 0.390625, 0.1953125, 0.09765625, 0.048828125, 0.0244140625, 0.01220703125, 0.006103515625, 0.0030517578125, 0.00152587890625, 0.000762939453125, 0.0003814697265625, 0.00019073486328125, 9.5367431640625e-05, 4.76837158203125e-05, 2.384185791015625e-05, 1.1920928955078125e-05, 5.9604644775390625e-06, 2.9802322387695312e-06, 1.4901161193847656e-06, 7.450580596923828e-07]\n",
            "Optimal z (Maximum Deviation): 7.450580596923828e-07\n"
          ]
        },
        {
          "output_type": "display_data",
          "data": {
            "text/plain": [
              "<Figure size 800x600 with 1 Axes>"
            ],
            "image/png": "[encoded data removed]"
          },
          "metadata": {}
        },
        {
          "output_type": "stream",
          "name": "stdout",
          "text": [
            "Optimized Coefficients (Numerator α): [4.64819183e-06 0.00000000e+00 1.17597673e-06 1.50486762e-08\n",
            " 5.53071210e-10]\n",
            "Optimized Coefficients (Denominator β): [8.48013346e-07 0.00000000e+00 3.79966635e-08 0.00000000e+00\n",
            " 0.00000000e+00]\n",
            "Optimal θ: 0.0\n"
          ]
        }
      ],
      "source": [
        "import cupy as cp\n",
        "import numpy as np\n",
        "from scipy.optimize import linprog\n",
        "import matplotlib.pyplot as plt\n",
        "\n",
        "# Target function (explicit and simple definition)\n",
        "def target_function(x):\n",
        "    \"\"\"\n",
        "    Target function: |x1 + x2 + x3 + x4 - 0.1|.\n",
        "    x is a vector of 4 variables for each data point.\n",
        "    \"\"\"\n",
        "    return cp.abs(x[:, 0] + x[:, 1] + x[:, 2] + x[:, 3] - 0.1)\n",
        "\n",
        "\n",
        "# Rational function (explicit definition for 4 variables)\n",
        "def rational_function(x, alpha, beta):\n",
        "    \"\"\"\n",
        "    Rational function:\n",
        "    r(x) = (α_0 + α_1*x1 + α_2*x2 + α_3*x3 + α_4*x4) /\n",
        "           (β_0 + β_1*x1 + β_2*x2 + β_3*x3 + β_4*x4).\n",
        "\n",
        "    x is a vector of 4 variables for each data point.\n",
        "    alpha and beta are the coefficients of the numerator and denominator.\n",
        "    \"\"\"\n",
        "    # Ensure x is treated as a 1D vector when passed for a single data point\n",
        "    x = cp.asarray(x)  # Convert to CuPy array if not already\n",
        "    # Numerator polynomial\n",
        "    numerator = alpha[0] + alpha[1] * x[0] + alpha[2] * x[1] + alpha[3] * x[2] + alpha[4] * x[3]\n",
        "    # Denominator polynomial\n",
        "    denominator = beta[0] + beta[1] * x[0] + beta[2] * x[1] + beta[3] * x[2] + beta[4] * x[3]\n",
        "\n",
        "    return numerator / denominator\n",
        "\n",
        "\n",
        "delta = 1e-6  # A small positive value for the 3rd constraint\n",
        "\n",
        "# Feasibility check function\n",
        "def check_feasibility_and_compute_coefficients(z, x_data, y_data):\n",
        "    num_data_points = 5\n",
        "    #x_data.shape[0]\n",
        "    num_coefficients = 5  # 1 constant term + 4 variables\n",
        "\n",
        "    # Construct G(x) and H(x) matrices for numerator and denominator\n",
        "    G = cp.zeros((num_data_points, num_coefficients))  # Numerator matrix\n",
        "    H = cp.zeros((num_data_points, num_coefficients))  # Denominator matrix\n",
        "\n",
        "    for i in range(num_data_points):\n",
        "        G[i, 0] = 1  # Constant term\n",
        "        H[i, 0] = 1  # Constant term\n",
        "        for j in range(0, num_coefficients):  # Variables with increasing powers\n",
        "            G[i, j] = x_data[i, j - 1] ** j\n",
        "            H[i, j] = x_data[i, j - 1] ** j\n",
        "\n",
        "    print(f\"G: {G}\")\n",
        "    # print(f\"H: {H}\")\n",
        "\n",
        "    # Construct constraints for Ax <= b\n",
        "    A = []\n",
        "    b = []\n",
        "\n",
        "    for i in range(num_data_points):\n",
        "        f_plus_z = y_data[i] + z  # Upper bound\n",
        "        f_minus_z = y_data[i] - z  # Lower bound\n",
        "\n",
        "        # Constraint 1: (f(xi) - z) * β^T H(xi) - α^T G(xi) ≤ θ\n",
        "        # (-G(xi))αT + (f(xi) - z).H(xi)βT + (-1)θ ≤ 0\n",
        "        constraint_1 = cp.zeros(2 * num_coefficients + 1)\n",
        "        # (1) Coefficients of α\n",
        "        constraint_1[0:num_coefficients] = -G[i]\n",
        "        # (2) Coefficients of β\n",
        "        constraint_1[num_coefficients:2 * num_coefficients] = (f_minus_z) * H[i]\n",
        "        # (3) Coefficient of θ (last element)\n",
        "        constraint_1[-1] = -1\n",
        "        A.append(constraint_1)\n",
        "        b.append(0)\n",
        "\n",
        "        # Constraint 2: α^T G(xi) + (-1).(f(xi) + z) * β^T H(xi) ≤ θ\n",
        "        # G(xi).αT + (-1)(f(xi) - z).H(xi)βT + (-1)θ ≤ 0\n",
        "        constraint_2 = cp.zeros(2 * num_coefficients + 1)\n",
        "        # (1) Coefficients of α\n",
        "        constraint_2[0:num_coefficients] = G[i]\n",
        "        # (2) Coefficients of β\n",
        "        constraint_2[num_coefficients:2 * num_coefficients] = -(f_plus_z) * H[i]\n",
        "        # (3) Coefficient of θ (last element)\n",
        "        constraint_2[-1] = -1\n",
        "        A.append(constraint_2)\n",
        "        b.append(0)\n",
        "\n",
        "        # Constraint 3: β^T H(x) ≥ δ\n",
        "        # (0)α^T + (-H(x)) β^T + (0)θ ≤ -δ\n",
        "        constraint_3 = cp.zeros(2 * num_coefficients + 1)\n",
        "        # Coefficient of β\n",
        "        constraint_3[num_coefficients:2 * num_coefficients] = -H[i]\n",
        "        A.append(constraint_3)\n",
        "        b.append(-delta)\n",
        "\n",
        "    # Convert CuPy arrays to NumPy arrays for SciPy\n",
        "    A = cp.asnumpy(cp.array(A))\n",
        "    b = cp.asnumpy(cp.array(b))\n",
        "\n",
        "    # print(f\"A =\", len(A))\n",
        "    # print(f\"A: {A[0]}\")\n",
        "\n",
        "    # print(f\"len(A[0]): {len(A[0])}\")\n",
        "    # print(f\"len(b): {len(b)}\")\n",
        "\n",
        "    #for linprog API -\n",
        "    # Objective function to minimize θ\n",
        "    c = cp.asnumpy(cp.zeros(2 * num_coefficients + 1))\n",
        "    c[-1] = 1  # Only θ has a coefficient in the objective function\n",
        "\n",
        "    # Solve the linear programming problem\n",
        "    result = linprog(c, A_ub=A, b_ub=b, method=\"highs\")\n",
        "\n",
        "    # Check feasibility and return results\n",
        "    if result.success:\n",
        "        alpha_coefficients = result.x[:num_coefficients]\n",
        "        beta_coefficients = result.x[num_coefficients:2 * num_coefficients]\n",
        "        theta = result.x[-1]\n",
        "        return True, alpha_coefficients, beta_coefficients, theta\n",
        "    else:\n",
        "        return False, None, None, None\n",
        "\n",
        "\n",
        "# Bisection loop\n",
        "def bisection_loop(x_data, y_data, uL, uH, precision):\n",
        "    optimal_alpha, optimal_beta, optimal_theta = None, None, None\n",
        "    z_values = []\n",
        "\n",
        "    while uH - uL > precision:\n",
        "        z = (uL + uH) / 2\n",
        "        z_values.append(z)\n",
        "        feasible, alpha_coefficients, beta_coefficients, theta = check_feasibility_and_compute_coefficients(z, x_data, y_data)\n",
        "\n",
        "        if feasible:\n",
        "            uH = z\n",
        "            optimal_alpha, optimal_beta, optimal_theta = alpha_coefficients, beta_coefficients, theta\n",
        "        else:\n",
        "            uL = z\n",
        "\n",
        "    return uH, optimal_alpha, optimal_beta, optimal_theta, z_values\n",
        "\n",
        "# Main execution\n",
        "if __name__ == \"__main__\":\n",
        "    # Data setup\n",
        "    x_data = cp.array([[1, 2, 3, 4], [2, 3, 4, 5], [3, 4, 5, 6], [2, 4, 5, 9], [3, 4, 8, 9]])\n",
        "    y_data = target_function(x_data)\n",
        "\n",
        "    # Bisection parameters\n",
        "    uL = 0  # Initial lower bound\n",
        "    uH = 100  # Initial upper bound\n",
        "    precision = 1e-6  # Precision threshold\n",
        "\n",
        "    # Run bisection loop\n",
        "    optimal_z, optimal_alpha, optimal_beta, optimal_theta, z_values = bisection_loop(x_data, y_data, uL, uH, precision)\n",
        "\n",
        "    # Print results\n",
        "    print(f\"Number of Iterations: {len(z_values)}\")\n",
        "    print(f\"z Values in all Iterations: {z_values}\")\n",
        "    print(f\"Optimal z (Maximum Deviation): {optimal_z}\")\n",
        "\n",
        "    # Plot convergence of z values\n",
        "    plt.figure(figsize=(8, 6))\n",
        "    plt.plot(range(len(z_values)), z_values, marker='o', linestyle='-')\n",
        "    plt.xlabel(\"Iteration\")\n",
        "    plt.ylabel(\"z Value\")\n",
        "    plt.title(\"Convergence of z Values\")\n",
        "    plt.grid(True)\n",
        "    plt.show()\n",
        "\n",
        "    print(f\"Optimized Coefficients (Numerator α): {optimal_alpha}\")\n",
        "    print(f\"Optimized Coefficients (Denominator β): {optimal_beta}\")\n",
        "    print(f\"Optimal θ: {optimal_theta}\")"
      ]
    },
    {
      "cell_type": "markdown",
      "source": [
        "**Testing**"
      ],
      "metadata": {
        "id": "sxP2ZyPI1TTe"
      }
    },
    {
      "cell_type": "code",
      "source": [
        "def plot_functions_multivariate(target_function, rational_function, alpha, beta, x_data):\n",
        "    \"\"\"\n",
        "    Plot the target function and the rational function for given multivariate x_data.\n",
        "\n",
        "    Parameters:\n",
        "        target_function (function): The target function.\n",
        "        rational_function (function): The rational function approximation.\n",
        "        alpha (array): Coefficients of the numerator of the rational function.\n",
        "        beta (array): Coefficients of the denominator of the rational function.\n",
        "        x_data (cupy.ndarray): The multivariate input data points.\n",
        "    \"\"\"\n",
        "    # Compute function values for the provided x_data\n",
        "    y_target = target_function(x_data)  # Compute the target function values\n",
        "    y_rational = cp.array([rational_function(x, alpha, beta) for x in x_data])  # Compute rational function values\n",
        "\n",
        "    # Convert CuPy arrays to NumPy for plotting\n",
        "    x_indices = range(len(x_data))  # Use indices as x-axis for simplicity\n",
        "    y_target = cp.asnumpy(y_target)\n",
        "    y_rational = cp.asnumpy(y_rational)\n",
        "\n",
        "    # Plot the functions\n",
        "    plt.figure(figsize=(8, 6))\n",
        "    plt.plot(x_indices, y_target, label=\"Target Function\", color=\"blue\", linewidth=2)\n",
        "    plt.plot(x_indices, y_rational, label=\"Rational Function Approximation\", color=\"red\", linestyle=\"--\", linewidth=2)\n",
        "    plt.scatter(x_indices, y_target, label=\"Data Points\", color=\"purple\", marker=\"o\")\n",
        "    plt.xlabel(\"Data Point Index\")\n",
        "    plt.ylabel(\"f(x)\")\n",
        "    plt.title(\"Target Function vs Rational Function Approximation (Multivariate)\")\n",
        "    plt.legend()\n",
        "    plt.grid(True)\n",
        "    plt.show()\n",
        "\n",
        "# Main execution for plotting\n",
        "if __name__ == \"__main__\":\n",
        "    # Call the plotting function for the given x_data\n",
        "    plot_functions_multivariate(target_function, rational_function, optimal_alpha, optimal_beta, x_data)\n"
      ],
      "metadata": {
        "id": "TUle3Phg1U88",
        "outputId": "1b1078e8-a9ad-4eb4-d090-877cb3dae98c",
        "colab": {
          "base_uri": "https://localhost:8080/",
          "height": 564
        }
      },
      "execution_count": 13,
      "outputs": [
        {
          "output_type": "display_data",
          "data": {
            "text/plain": [
              "<Figure size 800x600 with 1 Axes>"
            ],
            "image/png": "[encoded data removed]"
          },
          "metadata": {}
        }
      ]
    }
  ]
}